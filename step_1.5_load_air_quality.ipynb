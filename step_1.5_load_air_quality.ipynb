{
 "cells": [
  {
   "cell_type": "markdown",
   "metadata": {},
   "source": [
    "# Create database table of wind (aqi_data)\n",
    "### This notebook reads in .csv files with air quality info-- one file per year 2001 to 2015-- and writes the information to database table \"aqi_data\" in the table \"fires\"\n"
   ]
  },
  {
   "cell_type": "code",
   "execution_count": 1,
   "metadata": {},
   "outputs": [],
   "source": [
    "# Dependencies\n",
    "import pandas as pd\n",
    "from sqlalchemy import create_engine"
   ]
  },
  {
   "cell_type": "markdown",
   "metadata": {},
   "source": [
    "## Note: \n",
    "Make sure to replace the password and user name below with yours!"
   ]
  },
  {
   "cell_type": "code",
   "execution_count": 2,
   "metadata": {},
   "outputs": [
    {
     "name": "stderr",
     "output_type": "stream",
     "text": [
      "/anaconda3/lib/python3.6/site-packages/pymysql/cursors.py:170: Warning: (3719, \"'utf8' is currently an alias for the character set UTF8MB3, but will be an alias for UTF8MB4 in a future release. Please consider using UTF8MB4 in order to be unambiguous.\")\n",
      "  result = self._query(query)\n"
     ]
    }
   ],
   "source": [
    "# For years 2010 to 2015, read csv into dataframe, transform, & load into database\n",
    "# We are only going to 2015 because that's where our wildfire data ends\n",
    "\n",
    "\n",
    "for year in range(2001, 2015):\n",
    "    # read csv\n",
    "    file_aqi = \"data/air_quality_data/aqidaily\" + str(year) + \".csv\"\n",
    "    aqi_data_df = pd.read_csv(file_aqi)\n",
    "    \n",
    "    # select first 4 columns & change their names\n",
    "    aqi_data_df = aqi_data_df.iloc[: , 0:4]\n",
    "    aqi_data_df.columns = [\"date\", \"overall_aqi\", \"main\", \"site_name\"]\n",
    "    \n",
    "    # drop unneeded column & add column with year\n",
    "    aqi_data_df = aqi_data_df[[\"date\", \"overall_aqi\", \"site_name\"]]\n",
    "    aqi_data_df['year'] = year\n",
    "    \n",
    "    # convert date to type datetime\n",
    "    aqi_data_df['date'] = pd.to_datetime(aqi_data_df['date'])\n",
    "    \n",
    "    # load into database\n",
    "    rds_connection_string = \"root:12345678@127.0.0.1/fires\"\n",
    "    engine = create_engine(f'mysql+pymysql://{rds_connection_string}')\n",
    "    aqi_data_df.to_sql(name=\"aqi_data\", con=engine, if_exists=\"append\", index=False)\n",
    "    "
   ]
  },
  {
   "cell_type": "code",
   "execution_count": 3,
   "metadata": {},
   "outputs": [
    {
     "data": {
      "text/html": [
       "<div>\n",
       "<style scoped>\n",
       "    .dataframe tbody tr th:only-of-type {\n",
       "        vertical-align: middle;\n",
       "    }\n",
       "\n",
       "    .dataframe tbody tr th {\n",
       "        vertical-align: top;\n",
       "    }\n",
       "\n",
       "    .dataframe thead th {\n",
       "        text-align: right;\n",
       "    }\n",
       "</style>\n",
       "<table border=\"1\" class=\"dataframe\">\n",
       "  <thead>\n",
       "    <tr style=\"text-align: right;\">\n",
       "      <th></th>\n",
       "      <th>date</th>\n",
       "      <th>overall_aqi</th>\n",
       "      <th>site_name</th>\n",
       "      <th>year</th>\n",
       "    </tr>\n",
       "  </thead>\n",
       "  <tbody>\n",
       "    <tr>\n",
       "      <th>0</th>\n",
       "      <td>2014-01-01</td>\n",
       "      <td>109</td>\n",
       "      <td>Oakland West</td>\n",
       "      <td>2014</td>\n",
       "    </tr>\n",
       "    <tr>\n",
       "      <th>1</th>\n",
       "      <td>2014-01-02</td>\n",
       "      <td>80</td>\n",
       "      <td>Oakland West</td>\n",
       "      <td>2014</td>\n",
       "    </tr>\n",
       "    <tr>\n",
       "      <th>2</th>\n",
       "      <td>2014-01-03</td>\n",
       "      <td>80</td>\n",
       "      <td>Oakland West</td>\n",
       "      <td>2014</td>\n",
       "    </tr>\n",
       "    <tr>\n",
       "      <th>3</th>\n",
       "      <td>2014-01-04</td>\n",
       "      <td>67</td>\n",
       "      <td>Oakland West</td>\n",
       "      <td>2014</td>\n",
       "    </tr>\n",
       "    <tr>\n",
       "      <th>4</th>\n",
       "      <td>2014-01-05</td>\n",
       "      <td>56</td>\n",
       "      <td>Livermore</td>\n",
       "      <td>2014</td>\n",
       "    </tr>\n",
       "  </tbody>\n",
       "</table>\n",
       "</div>"
      ],
      "text/plain": [
       "        date  overall_aqi     site_name  year\n",
       "0 2014-01-01          109  Oakland West  2014\n",
       "1 2014-01-02           80  Oakland West  2014\n",
       "2 2014-01-03           80  Oakland West  2014\n",
       "3 2014-01-04           67  Oakland West  2014\n",
       "4 2014-01-05           56     Livermore  2014"
      ]
     },
     "execution_count": 3,
     "metadata": {},
     "output_type": "execute_result"
    }
   ],
   "source": [
    "aqi_data_df.head()"
   ]
  }
 ],
 "metadata": {
  "kernelspec": {
   "display_name": "Python 3",
   "language": "python",
   "name": "python3"
  },
  "language_info": {
   "codemirror_mode": {
    "name": "ipython",
    "version": 3
   },
   "file_extension": ".py",
   "mimetype": "text/x-python",
   "name": "python",
   "nbconvert_exporter": "python",
   "pygments_lexer": "ipython3",
   "version": "3.6.5"
  }
 },
 "nbformat": 4,
 "nbformat_minor": 2
}
