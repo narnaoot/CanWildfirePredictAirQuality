{
 "cells": [
  {
   "cell_type": "markdown",
   "metadata": {},
   "source": [
    "## Machine learning with wind and total acres \n",
    "### Walks through different machine learning algorithms with wind data and total acres only\n",
    "### Compares wind and total acres data against first max_aqi, then min_aqi, then mean_aqi\n",
    "### We are now ignoring distance"
   ]
  },
  {
   "cell_type": "code",
   "execution_count": 1,
   "metadata": {},
   "outputs": [],
   "source": [
    "from sqlalchemy import create_engine\n",
    "from sklearn.datasets import make_regression\n",
    "from sklearn.model_selection import train_test_split\n",
    "from sklearn.linear_model import LinearRegression\n",
    "import pandas as pd\n",
    "import numpy as np\n",
    "import datetime\n",
    "\n",
    "\n",
    "%matplotlib inline\n",
    "import matplotlib.pyplot as plt"
   ]
  },
  {
   "cell_type": "code",
   "execution_count": 2,
   "metadata": {},
   "outputs": [],
   "source": [
    "rds_connection_string = \"root:12345678@127.0.0.1/fires\"\n",
    "engine = create_engine(f'mysql+pymysql://{rds_connection_string}')"
   ]
  },
  {
   "cell_type": "code",
   "execution_count": 3,
   "metadata": {},
   "outputs": [
    {
     "name": "stderr",
     "output_type": "stream",
     "text": [
      "/anaconda3/lib/python3.6/site-packages/pymysql/cursors.py:170: Warning: (3719, \"'utf8' is currently an alias for the character set UTF8MB3, but will be an alias for UTF8MB4 in a future release. Please consider using UTF8MB4 in order to be unambiguous.\")\n",
      "  result = self._query(query)\n"
     ]
    },
    {
     "data": {
      "text/html": [
       "<div>\n",
       "<style scoped>\n",
       "    .dataframe tbody tr th:only-of-type {\n",
       "        vertical-align: middle;\n",
       "    }\n",
       "\n",
       "    .dataframe tbody tr th {\n",
       "        vertical-align: top;\n",
       "    }\n",
       "\n",
       "    .dataframe thead th {\n",
       "        text-align: right;\n",
       "    }\n",
       "</style>\n",
       "<table border=\"1\" class=\"dataframe\">\n",
       "  <thead>\n",
       "    <tr style=\"text-align: right;\">\n",
       "      <th></th>\n",
       "      <th>date</th>\n",
       "      <th>size</th>\n",
       "      <th>avg_daily_wind_speed</th>\n",
       "      <th>avg_fastest_2_min</th>\n",
       "      <th>avg_fastest_5_min</th>\n",
       "      <th>mean_aqi</th>\n",
       "      <th>max_aqi</th>\n",
       "      <th>min_aqi</th>\n",
       "    </tr>\n",
       "  </thead>\n",
       "  <tbody>\n",
       "    <tr>\n",
       "      <th>0</th>\n",
       "      <td>2001-01-31</td>\n",
       "      <td>10551.0</td>\n",
       "      <td>7.288387</td>\n",
       "      <td>17.819355</td>\n",
       "      <td>20.503226</td>\n",
       "      <td>100.569620</td>\n",
       "      <td>158</td>\n",
       "      <td>25</td>\n",
       "    </tr>\n",
       "    <tr>\n",
       "      <th>1</th>\n",
       "      <td>2001-03-31</td>\n",
       "      <td>293.2</td>\n",
       "      <td>10.615161</td>\n",
       "      <td>23.780645</td>\n",
       "      <td>27.629032</td>\n",
       "      <td>39.555556</td>\n",
       "      <td>66</td>\n",
       "      <td>22</td>\n",
       "    </tr>\n",
       "    <tr>\n",
       "      <th>2</th>\n",
       "      <td>2001-05-31</td>\n",
       "      <td>4812.7</td>\n",
       "      <td>12.714516</td>\n",
       "      <td>25.632258</td>\n",
       "      <td>29.509677</td>\n",
       "      <td>39.112532</td>\n",
       "      <td>67</td>\n",
       "      <td>24</td>\n",
       "    </tr>\n",
       "    <tr>\n",
       "      <th>3</th>\n",
       "      <td>2001-06-30</td>\n",
       "      <td>12952.8</td>\n",
       "      <td>14.733000</td>\n",
       "      <td>28.430000</td>\n",
       "      <td>33.143333</td>\n",
       "      <td>33.822414</td>\n",
       "      <td>71</td>\n",
       "      <td>17</td>\n",
       "    </tr>\n",
       "    <tr>\n",
       "      <th>4</th>\n",
       "      <td>2001-07-31</td>\n",
       "      <td>29837.2</td>\n",
       "      <td>11.862581</td>\n",
       "      <td>23.696774</td>\n",
       "      <td>27.700000</td>\n",
       "      <td>25.826698</td>\n",
       "      <td>52</td>\n",
       "      <td>13</td>\n",
       "    </tr>\n",
       "  </tbody>\n",
       "</table>\n",
       "</div>"
      ],
      "text/plain": [
       "        date     size  avg_daily_wind_speed  avg_fastest_2_min  \\\n",
       "0 2001-01-31  10551.0              7.288387          17.819355   \n",
       "1 2001-03-31    293.2             10.615161          23.780645   \n",
       "2 2001-05-31   4812.7             12.714516          25.632258   \n",
       "3 2001-06-30  12952.8             14.733000          28.430000   \n",
       "4 2001-07-31  29837.2             11.862581          23.696774   \n",
       "\n",
       "   avg_fastest_5_min    mean_aqi  max_aqi  min_aqi  \n",
       "0          20.503226  100.569620      158       25  \n",
       "1          27.629032   39.555556       66       22  \n",
       "2          29.509677   39.112532       67       24  \n",
       "3          33.143333   33.822414       71       17  \n",
       "4          27.700000   25.826698       52       13  "
      ]
     },
     "execution_count": 3,
     "metadata": {},
     "output_type": "execute_result"
    }
   ],
   "source": [
    "data = pd.read_sql(\"select * from final_acres where size > 100\", con=engine)\n",
    "data.head()"
   ]
  },
  {
   "cell_type": "code",
   "execution_count": 4,
   "metadata": {},
   "outputs": [
    {
     "data": {
      "text/html": [
       "<div>\n",
       "<style scoped>\n",
       "    .dataframe tbody tr th:only-of-type {\n",
       "        vertical-align: middle;\n",
       "    }\n",
       "\n",
       "    .dataframe tbody tr th {\n",
       "        vertical-align: top;\n",
       "    }\n",
       "\n",
       "    .dataframe thead th {\n",
       "        text-align: right;\n",
       "    }\n",
       "</style>\n",
       "<table border=\"1\" class=\"dataframe\">\n",
       "  <thead>\n",
       "    <tr style=\"text-align: right;\">\n",
       "      <th></th>\n",
       "      <th>size</th>\n",
       "      <th>avg_daily_wind_speed</th>\n",
       "      <th>avg_fastest_2_min</th>\n",
       "      <th>avg_fastest_5_min</th>\n",
       "      <th>mean_aqi</th>\n",
       "      <th>max_aqi</th>\n",
       "      <th>min_aqi</th>\n",
       "    </tr>\n",
       "  </thead>\n",
       "  <tbody>\n",
       "    <tr>\n",
       "      <th>count</th>\n",
       "      <td>141.000000</td>\n",
       "      <td>141.000000</td>\n",
       "      <td>141.000000</td>\n",
       "      <td>141.000000</td>\n",
       "      <td>141.000000</td>\n",
       "      <td>141.000000</td>\n",
       "      <td>141.000000</td>\n",
       "    </tr>\n",
       "    <tr>\n",
       "      <th>mean</th>\n",
       "      <td>51726.952411</td>\n",
       "      <td>10.546080</td>\n",
       "      <td>23.460282</td>\n",
       "      <td>28.243945</td>\n",
       "      <td>47.448231</td>\n",
       "      <td>85.241135</td>\n",
       "      <td>25.000000</td>\n",
       "    </tr>\n",
       "    <tr>\n",
       "      <th>std</th>\n",
       "      <td>100271.944404</td>\n",
       "      <td>2.739163</td>\n",
       "      <td>3.541220</td>\n",
       "      <td>4.182695</td>\n",
       "      <td>12.532558</td>\n",
       "      <td>28.719804</td>\n",
       "      <td>7.069047</td>\n",
       "    </tr>\n",
       "    <tr>\n",
       "      <th>min</th>\n",
       "      <td>106.210000</td>\n",
       "      <td>4.603548</td>\n",
       "      <td>14.045161</td>\n",
       "      <td>15.516129</td>\n",
       "      <td>22.604113</td>\n",
       "      <td>47.000000</td>\n",
       "      <td>9.000000</td>\n",
       "    </tr>\n",
       "    <tr>\n",
       "      <th>25%</th>\n",
       "      <td>2173.710000</td>\n",
       "      <td>8.341290</td>\n",
       "      <td>21.435484</td>\n",
       "      <td>25.916667</td>\n",
       "      <td>38.563636</td>\n",
       "      <td>64.000000</td>\n",
       "      <td>20.000000</td>\n",
       "    </tr>\n",
       "    <tr>\n",
       "      <th>50%</th>\n",
       "      <td>12054.840000</td>\n",
       "      <td>11.027667</td>\n",
       "      <td>24.161290</td>\n",
       "      <td>28.880000</td>\n",
       "      <td>47.600985</td>\n",
       "      <td>75.000000</td>\n",
       "      <td>25.000000</td>\n",
       "    </tr>\n",
       "    <tr>\n",
       "      <th>75%</th>\n",
       "      <td>46354.320000</td>\n",
       "      <td>12.593667</td>\n",
       "      <td>25.912903</td>\n",
       "      <td>31.090323</td>\n",
       "      <td>54.017045</td>\n",
       "      <td>102.000000</td>\n",
       "      <td>30.000000</td>\n",
       "    </tr>\n",
       "    <tr>\n",
       "      <th>max</th>\n",
       "      <td>564015.570000</td>\n",
       "      <td>16.404000</td>\n",
       "      <td>30.196667</td>\n",
       "      <td>36.610000</td>\n",
       "      <td>100.569620</td>\n",
       "      <td>179.000000</td>\n",
       "      <td>41.000000</td>\n",
       "    </tr>\n",
       "  </tbody>\n",
       "</table>\n",
       "</div>"
      ],
      "text/plain": [
       "                size  avg_daily_wind_speed  avg_fastest_2_min  \\\n",
       "count     141.000000            141.000000         141.000000   \n",
       "mean    51726.952411             10.546080          23.460282   \n",
       "std    100271.944404              2.739163           3.541220   \n",
       "min       106.210000              4.603548          14.045161   \n",
       "25%      2173.710000              8.341290          21.435484   \n",
       "50%     12054.840000             11.027667          24.161290   \n",
       "75%     46354.320000             12.593667          25.912903   \n",
       "max    564015.570000             16.404000          30.196667   \n",
       "\n",
       "       avg_fastest_5_min    mean_aqi     max_aqi     min_aqi  \n",
       "count         141.000000  141.000000  141.000000  141.000000  \n",
       "mean           28.243945   47.448231   85.241135   25.000000  \n",
       "std             4.182695   12.532558   28.719804    7.069047  \n",
       "min            15.516129   22.604113   47.000000    9.000000  \n",
       "25%            25.916667   38.563636   64.000000   20.000000  \n",
       "50%            28.880000   47.600985   75.000000   25.000000  \n",
       "75%            31.090323   54.017045  102.000000   30.000000  \n",
       "max            36.610000  100.569620  179.000000   41.000000  "
      ]
     },
     "execution_count": 4,
     "metadata": {},
     "output_type": "execute_result"
    }
   ],
   "source": [
    "data.describe()"
   ]
  },
  {
   "cell_type": "markdown",
   "metadata": {},
   "source": [
    "## Unsupervised machine learning"
   ]
  },
  {
   "cell_type": "code",
   "execution_count": 5,
   "metadata": {},
   "outputs": [],
   "source": [
    "from sklearn.decomposition import PCA"
   ]
  },
  {
   "cell_type": "code",
   "execution_count": 6,
   "metadata": {},
   "outputs": [],
   "source": [
    "from sklearn.cluster import KMeans"
   ]
  },
  {
   "cell_type": "code",
   "execution_count": 7,
   "metadata": {},
   "outputs": [],
   "source": [
    "X = data.drop(['date'],axis=1)"
   ]
  },
  {
   "cell_type": "code",
   "execution_count": 8,
   "metadata": {},
   "outputs": [
    {
     "data": {
      "text/html": [
       "<div>\n",
       "<style scoped>\n",
       "    .dataframe tbody tr th:only-of-type {\n",
       "        vertical-align: middle;\n",
       "    }\n",
       "\n",
       "    .dataframe tbody tr th {\n",
       "        vertical-align: top;\n",
       "    }\n",
       "\n",
       "    .dataframe thead th {\n",
       "        text-align: right;\n",
       "    }\n",
       "</style>\n",
       "<table border=\"1\" class=\"dataframe\">\n",
       "  <thead>\n",
       "    <tr style=\"text-align: right;\">\n",
       "      <th></th>\n",
       "      <th>size</th>\n",
       "      <th>avg_daily_wind_speed</th>\n",
       "      <th>avg_fastest_2_min</th>\n",
       "      <th>avg_fastest_5_min</th>\n",
       "      <th>mean_aqi</th>\n",
       "      <th>max_aqi</th>\n",
       "      <th>min_aqi</th>\n",
       "    </tr>\n",
       "  </thead>\n",
       "  <tbody>\n",
       "    <tr>\n",
       "      <th>0</th>\n",
       "      <td>10551.0</td>\n",
       "      <td>7.288387</td>\n",
       "      <td>17.819355</td>\n",
       "      <td>20.503226</td>\n",
       "      <td>100.569620</td>\n",
       "      <td>158</td>\n",
       "      <td>25</td>\n",
       "    </tr>\n",
       "    <tr>\n",
       "      <th>1</th>\n",
       "      <td>293.2</td>\n",
       "      <td>10.615161</td>\n",
       "      <td>23.780645</td>\n",
       "      <td>27.629032</td>\n",
       "      <td>39.555556</td>\n",
       "      <td>66</td>\n",
       "      <td>22</td>\n",
       "    </tr>\n",
       "    <tr>\n",
       "      <th>2</th>\n",
       "      <td>4812.7</td>\n",
       "      <td>12.714516</td>\n",
       "      <td>25.632258</td>\n",
       "      <td>29.509677</td>\n",
       "      <td>39.112532</td>\n",
       "      <td>67</td>\n",
       "      <td>24</td>\n",
       "    </tr>\n",
       "    <tr>\n",
       "      <th>3</th>\n",
       "      <td>12952.8</td>\n",
       "      <td>14.733000</td>\n",
       "      <td>28.430000</td>\n",
       "      <td>33.143333</td>\n",
       "      <td>33.822414</td>\n",
       "      <td>71</td>\n",
       "      <td>17</td>\n",
       "    </tr>\n",
       "    <tr>\n",
       "      <th>4</th>\n",
       "      <td>29837.2</td>\n",
       "      <td>11.862581</td>\n",
       "      <td>23.696774</td>\n",
       "      <td>27.700000</td>\n",
       "      <td>25.826698</td>\n",
       "      <td>52</td>\n",
       "      <td>13</td>\n",
       "    </tr>\n",
       "  </tbody>\n",
       "</table>\n",
       "</div>"
      ],
      "text/plain": [
       "      size  avg_daily_wind_speed  avg_fastest_2_min  avg_fastest_5_min  \\\n",
       "0  10551.0              7.288387          17.819355          20.503226   \n",
       "1    293.2             10.615161          23.780645          27.629032   \n",
       "2   4812.7             12.714516          25.632258          29.509677   \n",
       "3  12952.8             14.733000          28.430000          33.143333   \n",
       "4  29837.2             11.862581          23.696774          27.700000   \n",
       "\n",
       "     mean_aqi  max_aqi  min_aqi  \n",
       "0  100.569620      158       25  \n",
       "1   39.555556       66       22  \n",
       "2   39.112532       67       24  \n",
       "3   33.822414       71       17  \n",
       "4   25.826698       52       13  "
      ]
     },
     "execution_count": 8,
     "metadata": {},
     "output_type": "execute_result"
    }
   ],
   "source": [
    "X.head()"
   ]
  },
  {
   "cell_type": "code",
   "execution_count": 9,
   "metadata": {},
   "outputs": [],
   "source": [
    "#X=data[['within 50', 'within 100', 'within 150', 'within 200', 'within 250', 'within 300', 'bigger then 300']]"
   ]
  },
  {
   "cell_type": "code",
   "execution_count": 10,
   "metadata": {},
   "outputs": [],
   "source": [
    "pca = PCA(n_components=2)"
   ]
  },
  {
   "cell_type": "code",
   "execution_count": 11,
   "metadata": {},
   "outputs": [
    {
     "data": {
      "text/plain": [
       "PCA(copy=True, iterated_power='auto', n_components=2, random_state=None,\n",
       "  svd_solver='auto', tol=0.0, whiten=False)"
      ]
     },
     "execution_count": 11,
     "metadata": {},
     "output_type": "execute_result"
    }
   ],
   "source": [
    "pca.fit(X)"
   ]
  },
  {
   "cell_type": "code",
   "execution_count": 12,
   "metadata": {},
   "outputs": [],
   "source": [
    "pca_data = pca.transform(X)"
   ]
  },
  {
   "cell_type": "code",
   "execution_count": 13,
   "metadata": {},
   "outputs": [],
   "source": [
    "kmeans= KMeans(n_clusters=2)"
   ]
  },
  {
   "cell_type": "code",
   "execution_count": 14,
   "metadata": {},
   "outputs": [
    {
     "data": {
      "text/plain": [
       "KMeans(algorithm='auto', copy_x=True, init='k-means++', max_iter=300,\n",
       "    n_clusters=2, n_init=10, n_jobs=1, precompute_distances='auto',\n",
       "    random_state=None, tol=0.0001, verbose=0)"
      ]
     },
     "execution_count": 14,
     "metadata": {},
     "output_type": "execute_result"
    }
   ],
   "source": [
    "kmeans.fit(X)"
   ]
  },
  {
   "cell_type": "code",
   "execution_count": 15,
   "metadata": {},
   "outputs": [
    {
     "data": {
      "text/plain": [
       "<matplotlib.collections.PathCollection at 0x1a18b97470>"
      ]
     },
     "execution_count": 15,
     "metadata": {},
     "output_type": "execute_result"
    },
    {
     "data": {
      "image/png": "[encoded data removed]",
      "text/plain": [
       "<Figure size 432x288 with 1 Axes>"
      ]
     },
     "metadata": {},
     "output_type": "display_data"
    }
   ],
   "source": [
    "plt.scatter(pca_data[:,0],pca_data[:,1],c=kmeans.labels_)"
   ]
  },
  {
   "cell_type": "code",
   "execution_count": 16,
   "metadata": {},
   "outputs": [
    {
     "data": {
      "text/plain": [
       "array([[-4.11759542e+04,  8.60385247e+01],\n",
       "       [-5.14337520e+04, -2.18274877e+01],\n",
       "       [-4.69142520e+04, -2.10985911e+01],\n",
       "       [-3.87741520e+04, -2.00690868e+01],\n",
       "       [-2.18897515e+04, -3.97918645e+01],\n",
       "       [ 1.25577748e+05, -3.84377099e+01],\n",
       "       [-1.01529518e+04, -2.57070370e+01],\n",
       "       [-3.38018523e+04, -7.96633631e+00],\n",
       "       [-5.13998530e+04,  2.97878523e+01],\n",
       "       [-5.03310522e+04, -9.71415437e+00],\n",
       "       [-5.15872531e+04,  3.99020844e+01],\n",
       "       [-4.88975529e+04,  2.95176458e+01],\n",
       "       [-4.79024520e+04, -2.07517892e+01],\n",
       "       [-5.04862518e+04, -3.05898746e+01],\n",
       "       [-4.25257518e+04, -3.34762891e+01],\n",
       "       [ 2.13152482e+04, -2.79424525e+01],\n",
       "       [ 1.69663484e+04, -3.56584658e+01],\n",
       "       [ 1.72881648e+05, -9.79038764e+00],\n",
       "       [-3.69809518e+04, -3.00700505e+01],\n",
       "       [-9.08375216e+03, -1.28597792e+01],\n",
       "       [-4.68528537e+04,  7.23190373e+01],\n",
       "       [-4.85654541e+04,  8.17910795e+01],\n",
       "       [-5.06496030e+04,  3.47454796e+01],\n",
       "       [-5.15572917e+04, -3.42253009e+01],\n",
       "       [-5.09417018e+04, -3.87162257e+01],\n",
       "       [-5.07875017e+04, -3.31266606e+01],\n",
       "       [-4.66292320e+04, -2.12963188e+01],\n",
       "       [ 1.89902685e+04, -4.10987455e+01],\n",
       "       [-4.20381916e+04, -3.83839493e+01],\n",
       "       [-1.05127119e+04, -2.31857676e+01],\n",
       "       [ 1.47140458e+05, -1.36181215e+01],\n",
       "       [ 5.12288617e+05,  2.82280317e+01],\n",
       "       [-3.76766026e+04,  1.25516026e+01],\n",
       "       [-5.15763025e+04,  1.66779908e+00],\n",
       "       [-5.12264525e+04,  1.16907184e-01],\n",
       "       [-4.86717122e+04, -1.84326928e+01],\n",
       "       [-1.93001019e+04, -2.62253783e+01],\n",
       "       [-3.96721123e+04, -1.14296672e+01],\n",
       "       [ 1.73079483e+04, -3.38192837e+01],\n",
       "       [-6.30099168e+03, -3.55024500e+01],\n",
       "       [-3.29651021e+04, -1.89254044e+01],\n",
       "       [-2.13653020e+04, -1.77097525e+01],\n",
       "       [-5.14824533e+04,  5.12019982e+01],\n",
       "       [-5.15733418e+04, -3.85871777e+01],\n",
       "       [-5.03461718e+04, -3.14616360e+01],\n",
       "       [-3.77519818e+04, -3.33531668e+01],\n",
       "       [ 4.75982383e+04, -3.28477401e+01],\n",
       "       [-4.09714018e+04, -2.78924211e+01],\n",
       "       [-2.94003819e+04, -2.24355852e+01],\n",
       "       [-1.15195519e+04, -2.51399007e+01],\n",
       "       [-4.40145624e+04,  2.18289827e+00],\n",
       "       [-5.12165322e+04, -1.37385946e+01],\n",
       "       [-4.09780427e+04,  9.59593050e+00],\n",
       "       [-4.88941517e+04, -3.90813952e+01],\n",
       "       [-4.47771621e+04, -1.59829766e+01],\n",
       "       [-3.77602419e+04, -2.34995795e+01],\n",
       "       [ 1.52323218e+05, -2.20910431e+01],\n",
       "       [-2.30912618e+04, -3.03120758e+01],\n",
       "       [ 1.83562278e+04, -1.20812236e+01],\n",
       "       [ 2.24219607e+05,  2.08393198e+01],\n",
       "       [ 2.00335777e+04,  7.43512842e-01],\n",
       "       [-3.86922635e+04,  6.45521805e+01],\n",
       "       [-5.08160231e+04,  3.99749438e+01],\n",
       "       [-5.14853531e+04,  3.74494731e+01],\n",
       "       [-4.80738618e+04, -2.98538572e+01],\n",
       "       [-4.41148320e+04, -2.29438713e+01],\n",
       "       [-4.49329117e+04, -3.33801265e+01],\n",
       "       [-3.86817019e+04, -2.41264604e+01],\n",
       "       [-2.73671700e+02, -3.22626621e+01],\n",
       "       [-2.52601317e+04, -3.35657429e+01],\n",
       "       [ 3.10237618e+05, -1.23838961e+01],\n",
       "       [ 2.96859418e+05, -1.32310968e+01],\n",
       "       [ 6.09637376e+04,  5.48694730e-01],\n",
       "       [ 2.71470797e+03, -1.79155478e+01],\n",
       "       [-5.09744319e+04, -2.95878903e+01],\n",
       "       [-5.09078826e+04,  1.25971865e+00],\n",
       "       [-4.93413621e+04, -2.27022790e+01],\n",
       "       [ 2.20966876e+04, -3.43896647e+00],\n",
       "       [ 4.47861958e+05,  3.45558979e+00],\n",
       "       [ 1.08685038e+05, -2.13854828e+01],\n",
       "       [-5.69294229e+03, -1.00268444e+01],\n",
       "       [ 2.48554118e+05, -2.78845468e+00],\n",
       "       [ 2.42490770e+04,  3.05934296e+01],\n",
       "       [-2.93485828e+04,  1.78997358e+01],\n",
       "       [-5.15546435e+04,  5.65085656e+01],\n",
       "       [-5.16207420e+04, -2.34059113e+01],\n",
       "       [-5.06162422e+04, -1.97977813e+01],\n",
       "       [-4.12921123e+04, -1.38791522e+01],\n",
       "       [-4.59207123e+04, -8.32052807e+00],\n",
       "       [-3.46281721e+04, -1.58178361e+01],\n",
       "       [ 7.59206477e+04, -5.45045822e+00],\n",
       "       [ 1.60723458e+05, -5.24680741e+00],\n",
       "       [-4.00838421e+04, -2.25041625e+01],\n",
       "       [-4.40820622e+04, -9.79327598e+00],\n",
       "       [-5.16145336e+04,  5.35090108e+01],\n",
       "       [-5.15924822e+04, -1.55782470e+01],\n",
       "       [-5.15781324e+04, -7.88173633e+00],\n",
       "       [-4.66944922e+04, -2.09093148e+01],\n",
       "       [-4.78314023e+04, -9.96481989e+00],\n",
       "       [-3.91127223e+04, -8.27468650e+00],\n",
       "       [ 3.28652603e+03,  8.95796843e+01],\n",
       "       [-3.82788133e+04,  4.62389671e+01],\n",
       "       [-4.07745530e+04,  2.93589915e+01],\n",
       "       [-4.80588825e+04, -9.62774552e-01],\n",
       "       [-5.08487425e+04,  2.94564521e+00],\n",
       "       [-5.15808822e+04, -1.19992084e+01],\n",
       "       [-4.81385226e+04,  3.77180136e+00],\n",
       "       [-3.69726834e+04,  5.78977281e+01],\n",
       "       [-3.26968331e+04,  4.00606451e+01],\n",
       "       [-4.25423129e+04,  3.29932352e+01],\n",
       "       [ 2.17609668e+04,  4.30831318e+01],\n",
       "       [-3.93242823e+04, -1.69561972e+00],\n",
       "       [-3.09274126e+04,  5.90752190e+00],\n",
       "       [-5.09926234e+04,  5.40297618e+01],\n",
       "       [-5.15235622e+04, -1.55209600e+01],\n",
       "       [-4.66981928e+04,  1.51139520e+01],\n",
       "       [-4.30907322e+04, -1.32029392e+01],\n",
       "       [-3.39819736e+04,  7.12913362e+01],\n",
       "       [ 2.59971768e+04,  4.43169757e+01],\n",
       "       [ 5.21441970e+04,  2.42227498e+01],\n",
       "       [ 4.48364237e+05,  2.02397729e+01],\n",
       "       [-4.96258726e+04,  1.05499929e+01],\n",
       "       [-5.08497021e+04, -2.29430183e+01],\n",
       "       [-5.01661225e+04, -3.19727873e+00],\n",
       "       [ 3.33811269e+04,  3.25826960e+01],\n",
       "       [-4.29429431e+04,  3.47242532e+01],\n",
       "       [-3.52118628e+04,  1.52867575e+01],\n",
       "       [-5.37263218e+03, -1.27340622e+01],\n",
       "       [ 6.54877741e+03,  7.46315895e+00],\n",
       "       [ 2.83109237e+05, -3.92215791e-01],\n",
       "       [-1.88635731e+04,  3.27422476e+01],\n",
       "       [-4.87834533e+04,  4.11325470e+01],\n",
       "       [-4.95532425e+04, -2.49676988e+00],\n",
       "       [-5.14490532e+04,  3.63293734e+01],\n",
       "       [-5.13117234e+04,  4.69701516e+01],\n",
       "       [-4.74466829e+04,  2.27857960e+01],\n",
       "       [-1.57623829e+04,  2.65960247e+01],\n",
       "       [ 9.26359179e+04, -1.93673014e+01],\n",
       "       [ 1.24014777e+05,  1.58693356e+01],\n",
       "       [-9.01722312e+03,  3.80731139e+01],\n",
       "       [-5.10988427e+04,  1.17432404e+01]])"
      ]
     },
     "execution_count": 16,
     "metadata": {},
     "output_type": "execute_result"
    }
   ],
   "source": [
    "pca_data"
   ]
  },
  {
   "cell_type": "code",
   "execution_count": 17,
   "metadata": {},
   "outputs": [],
   "source": [
    "# plt.scatter(X['size'],X['mean_aqi'],c=kmeans.labels_)"
   ]
  },
  {
   "cell_type": "code",
   "execution_count": 18,
   "metadata": {},
   "outputs": [],
   "source": [
    "# plt.scatter(X['size'],X['max_aqi'],c=kmeans.labels_)"
   ]
  },
  {
   "cell_type": "code",
   "execution_count": 19,
   "metadata": {},
   "outputs": [],
   "source": [
    "# plt.scatter(X['size'],X['min_aqi'],c=kmeans.labels_)"
   ]
  },
  {
   "cell_type": "code",
   "execution_count": 20,
   "metadata": {},
   "outputs": [
    {
     "data": {
      "text/html": [
       "<div>\n",
       "<style scoped>\n",
       "    .dataframe tbody tr th:only-of-type {\n",
       "        vertical-align: middle;\n",
       "    }\n",
       "\n",
       "    .dataframe tbody tr th {\n",
       "        vertical-align: top;\n",
       "    }\n",
       "\n",
       "    .dataframe thead th {\n",
       "        text-align: right;\n",
       "    }\n",
       "</style>\n",
       "<table border=\"1\" class=\"dataframe\">\n",
       "  <thead>\n",
       "    <tr style=\"text-align: right;\">\n",
       "      <th></th>\n",
       "      <th>size</th>\n",
       "      <th>avg_daily_wind_speed</th>\n",
       "      <th>avg_fastest_2_min</th>\n",
       "      <th>avg_fastest_5_min</th>\n",
       "      <th>mean_aqi</th>\n",
       "      <th>max_aqi</th>\n",
       "      <th>min_aqi</th>\n",
       "    </tr>\n",
       "  </thead>\n",
       "  <tbody>\n",
       "    <tr>\n",
       "      <th>0</th>\n",
       "      <td>10551.0</td>\n",
       "      <td>7.288387</td>\n",
       "      <td>17.819355</td>\n",
       "      <td>20.503226</td>\n",
       "      <td>100.569620</td>\n",
       "      <td>158</td>\n",
       "      <td>25</td>\n",
       "    </tr>\n",
       "    <tr>\n",
       "      <th>1</th>\n",
       "      <td>293.2</td>\n",
       "      <td>10.615161</td>\n",
       "      <td>23.780645</td>\n",
       "      <td>27.629032</td>\n",
       "      <td>39.555556</td>\n",
       "      <td>66</td>\n",
       "      <td>22</td>\n",
       "    </tr>\n",
       "    <tr>\n",
       "      <th>2</th>\n",
       "      <td>4812.7</td>\n",
       "      <td>12.714516</td>\n",
       "      <td>25.632258</td>\n",
       "      <td>29.509677</td>\n",
       "      <td>39.112532</td>\n",
       "      <td>67</td>\n",
       "      <td>24</td>\n",
       "    </tr>\n",
       "    <tr>\n",
       "      <th>3</th>\n",
       "      <td>12952.8</td>\n",
       "      <td>14.733000</td>\n",
       "      <td>28.430000</td>\n",
       "      <td>33.143333</td>\n",
       "      <td>33.822414</td>\n",
       "      <td>71</td>\n",
       "      <td>17</td>\n",
       "    </tr>\n",
       "    <tr>\n",
       "      <th>4</th>\n",
       "      <td>29837.2</td>\n",
       "      <td>11.862581</td>\n",
       "      <td>23.696774</td>\n",
       "      <td>27.700000</td>\n",
       "      <td>25.826698</td>\n",
       "      <td>52</td>\n",
       "      <td>13</td>\n",
       "    </tr>\n",
       "  </tbody>\n",
       "</table>\n",
       "</div>"
      ],
      "text/plain": [
       "      size  avg_daily_wind_speed  avg_fastest_2_min  avg_fastest_5_min  \\\n",
       "0  10551.0              7.288387          17.819355          20.503226   \n",
       "1    293.2             10.615161          23.780645          27.629032   \n",
       "2   4812.7             12.714516          25.632258          29.509677   \n",
       "3  12952.8             14.733000          28.430000          33.143333   \n",
       "4  29837.2             11.862581          23.696774          27.700000   \n",
       "\n",
       "     mean_aqi  max_aqi  min_aqi  \n",
       "0  100.569620      158       25  \n",
       "1   39.555556       66       22  \n",
       "2   39.112532       67       24  \n",
       "3   33.822414       71       17  \n",
       "4   25.826698       52       13  "
      ]
     },
     "execution_count": 20,
     "metadata": {},
     "output_type": "execute_result"
    }
   ],
   "source": [
    "X.head()"
   ]
  },
  {
   "cell_type": "code",
   "execution_count": null,
   "metadata": {},
   "outputs": [],
   "source": []
  },
  {
   "cell_type": "code",
   "execution_count": null,
   "metadata": {},
   "outputs": [],
   "source": []
  },
  {
   "cell_type": "code",
   "execution_count": null,
   "metadata": {},
   "outputs": [],
   "source": []
  },
  {
   "cell_type": "markdown",
   "metadata": {},
   "source": [
    "## Supervised machine learning"
   ]
  },
  {
   "cell_type": "code",
   "execution_count": 21,
   "metadata": {},
   "outputs": [
    {
     "data": {
      "text/html": [
       "<div>\n",
       "<style scoped>\n",
       "    .dataframe tbody tr th:only-of-type {\n",
       "        vertical-align: middle;\n",
       "    }\n",
       "\n",
       "    .dataframe tbody tr th {\n",
       "        vertical-align: top;\n",
       "    }\n",
       "\n",
       "    .dataframe thead th {\n",
       "        text-align: right;\n",
       "    }\n",
       "</style>\n",
       "<table border=\"1\" class=\"dataframe\">\n",
       "  <thead>\n",
       "    <tr style=\"text-align: right;\">\n",
       "      <th></th>\n",
       "      <th>date</th>\n",
       "      <th>size</th>\n",
       "      <th>avg_daily_wind_speed</th>\n",
       "      <th>avg_fastest_2_min</th>\n",
       "      <th>avg_fastest_5_min</th>\n",
       "      <th>mean_aqi</th>\n",
       "      <th>max_aqi</th>\n",
       "      <th>min_aqi</th>\n",
       "    </tr>\n",
       "  </thead>\n",
       "  <tbody>\n",
       "    <tr>\n",
       "      <th>0</th>\n",
       "      <td>2001-01-31</td>\n",
       "      <td>10551.0</td>\n",
       "      <td>7.288387</td>\n",
       "      <td>17.819355</td>\n",
       "      <td>20.503226</td>\n",
       "      <td>100.569620</td>\n",
       "      <td>158</td>\n",
       "      <td>25</td>\n",
       "    </tr>\n",
       "    <tr>\n",
       "      <th>1</th>\n",
       "      <td>2001-03-31</td>\n",
       "      <td>293.2</td>\n",
       "      <td>10.615161</td>\n",
       "      <td>23.780645</td>\n",
       "      <td>27.629032</td>\n",
       "      <td>39.555556</td>\n",
       "      <td>66</td>\n",
       "      <td>22</td>\n",
       "    </tr>\n",
       "    <tr>\n",
       "      <th>2</th>\n",
       "      <td>2001-05-31</td>\n",
       "      <td>4812.7</td>\n",
       "      <td>12.714516</td>\n",
       "      <td>25.632258</td>\n",
       "      <td>29.509677</td>\n",
       "      <td>39.112532</td>\n",
       "      <td>67</td>\n",
       "      <td>24</td>\n",
       "    </tr>\n",
       "    <tr>\n",
       "      <th>3</th>\n",
       "      <td>2001-06-30</td>\n",
       "      <td>12952.8</td>\n",
       "      <td>14.733000</td>\n",
       "      <td>28.430000</td>\n",
       "      <td>33.143333</td>\n",
       "      <td>33.822414</td>\n",
       "      <td>71</td>\n",
       "      <td>17</td>\n",
       "    </tr>\n",
       "    <tr>\n",
       "      <th>4</th>\n",
       "      <td>2001-07-31</td>\n",
       "      <td>29837.2</td>\n",
       "      <td>11.862581</td>\n",
       "      <td>23.696774</td>\n",
       "      <td>27.700000</td>\n",
       "      <td>25.826698</td>\n",
       "      <td>52</td>\n",
       "      <td>13</td>\n",
       "    </tr>\n",
       "  </tbody>\n",
       "</table>\n",
       "</div>"
      ],
      "text/plain": [
       "        date     size  avg_daily_wind_speed  avg_fastest_2_min  \\\n",
       "0 2001-01-31  10551.0              7.288387          17.819355   \n",
       "1 2001-03-31    293.2             10.615161          23.780645   \n",
       "2 2001-05-31   4812.7             12.714516          25.632258   \n",
       "3 2001-06-30  12952.8             14.733000          28.430000   \n",
       "4 2001-07-31  29837.2             11.862581          23.696774   \n",
       "\n",
       "   avg_fastest_5_min    mean_aqi  max_aqi  min_aqi  \n",
       "0          20.503226  100.569620      158       25  \n",
       "1          27.629032   39.555556       66       22  \n",
       "2          29.509677   39.112532       67       24  \n",
       "3          33.143333   33.822414       71       17  \n",
       "4          27.700000   25.826698       52       13  "
      ]
     },
     "execution_count": 21,
     "metadata": {},
     "output_type": "execute_result"
    }
   ],
   "source": [
    "data.head()"
   ]
  },
  {
   "cell_type": "code",
   "execution_count": 22,
   "metadata": {},
   "outputs": [],
   "source": [
    "X = data.drop(['date', 'mean_aqi', 'max_aqi', 'min_aqi'],axis=1)"
   ]
  },
  {
   "cell_type": "code",
   "execution_count": 23,
   "metadata": {},
   "outputs": [
    {
     "name": "stdout",
     "output_type": "stream",
     "text": [
      "(141, 4) (141, 1)\n"
     ]
    }
   ],
   "source": [
    "y = data['max_aqi'].values.reshape(-1,1)\n",
    "print(X.shape, y.shape)"
   ]
  },
  {
   "cell_type": "code",
   "execution_count": 24,
   "metadata": {},
   "outputs": [],
   "source": [
    "X_train, X_test, y_train, y_test = train_test_split(X, y, random_state=42)"
   ]
  },
  {
   "cell_type": "code",
   "execution_count": 25,
   "metadata": {},
   "outputs": [],
   "source": [
    "from sklearn.neighbors import KNeighborsRegressor"
   ]
  },
  {
   "cell_type": "code",
   "execution_count": 26,
   "metadata": {},
   "outputs": [],
   "source": [
    "from sklearn.ensemble import GradientBoostingRegressor, RandomForestRegressor"
   ]
  },
  {
   "cell_type": "code",
   "execution_count": 27,
   "metadata": {},
   "outputs": [],
   "source": [
    "knr = KNeighborsRegressor(n_neighbors=10)"
   ]
  },
  {
   "cell_type": "code",
   "execution_count": 28,
   "metadata": {},
   "outputs": [
    {
     "data": {
      "text/plain": [
       "KNeighborsRegressor(algorithm='auto', leaf_size=30, metric='minkowski',\n",
       "          metric_params=None, n_jobs=1, n_neighbors=10, p=2,\n",
       "          weights='uniform')"
      ]
     },
     "execution_count": 28,
     "metadata": {},
     "output_type": "execute_result"
    }
   ],
   "source": [
    "knr.fit(X_train, y_train)"
   ]
  },
  {
   "cell_type": "code",
   "execution_count": 29,
   "metadata": {},
   "outputs": [
    {
     "name": "stdout",
     "output_type": "stream",
     "text": [
      "Training Score: 0.05457406460227532\n",
      "Testing Score: -0.23697673617358483\n"
     ]
    }
   ],
   "source": [
    "knr.fit(X_train, y_train)\n",
    "training_score = knr.score(X_train, y_train)\n",
    "testing_score = knr.score(X_test, y_test)\n",
    "\n",
    "\n",
    "\n",
    "print(f\"Training Score: {training_score}\")\n",
    "print(f\"Testing Score: {testing_score}\")"
   ]
  },
  {
   "cell_type": "code",
   "execution_count": 30,
   "metadata": {},
   "outputs": [],
   "source": [
    "gbr = GradientBoostingRegressor(n_estimators=200)"
   ]
  },
  {
   "cell_type": "code",
   "execution_count": 31,
   "metadata": {},
   "outputs": [
    {
     "name": "stdout",
     "output_type": "stream",
     "text": [
      "Training Score: 0.9961426835400604\n",
      "Testing Score: 0.20423840490013212\n"
     ]
    },
    {
     "name": "stderr",
     "output_type": "stream",
     "text": [
      "/anaconda3/lib/python3.6/site-packages/sklearn/utils/validation.py:578: DataConversionWarning: A column-vector y was passed when a 1d array was expected. Please change the shape of y to (n_samples, ), for example using ravel().\n",
      "  y = column_or_1d(y, warn=True)\n"
     ]
    }
   ],
   "source": [
    "gbr.fit(X_train, y_train)\n",
    "training_score = gbr.score(X_train, y_train)\n",
    "testing_score = gbr.score(X_test, y_test)\n",
    "\n",
    "\n",
    "\n",
    "print(f\"Training Score: {training_score}\")\n",
    "print(f\"Testing Score: {testing_score}\")"
   ]
  },
  {
   "cell_type": "code",
   "execution_count": 32,
   "metadata": {},
   "outputs": [],
   "source": [
    "rfr = RandomForestRegressor(n_estimators=50)"
   ]
  },
  {
   "cell_type": "code",
   "execution_count": 33,
   "metadata": {},
   "outputs": [
    {
     "name": "stdout",
     "output_type": "stream",
     "text": [
      "Training Score: 0.8746044429034698\n",
      "Testing Score: 0.22402188185482785\n"
     ]
    },
    {
     "name": "stderr",
     "output_type": "stream",
     "text": [
      "/anaconda3/lib/python3.6/site-packages/ipykernel_launcher.py:1: DataConversionWarning: A column-vector y was passed when a 1d array was expected. Please change the shape of y to (n_samples,), for example using ravel().\n",
      "  \"\"\"Entry point for launching an IPython kernel.\n"
     ]
    }
   ],
   "source": [
    "rfr.fit(X_train, y_train)\n",
    "training_score = rfr.score(X_train, y_train)\n",
    "testing_score = rfr.score(X_test, y_test)\n",
    "\n",
    "\n",
    "\n",
    "print(f\"Training Score: {training_score}\")\n",
    "print(f\"Testing Score: {testing_score}\")"
   ]
  },
  {
   "cell_type": "code",
   "execution_count": null,
   "metadata": {},
   "outputs": [],
   "source": []
  },
  {
   "cell_type": "code",
   "execution_count": null,
   "metadata": {},
   "outputs": [],
   "source": []
  },
  {
   "cell_type": "code",
   "execution_count": 34,
   "metadata": {},
   "outputs": [],
   "source": [
    "model=LinearRegression()"
   ]
  },
  {
   "cell_type": "code",
   "execution_count": 35,
   "metadata": {},
   "outputs": [
    {
     "data": {
      "text/plain": [
       "LinearRegression(copy_X=True, fit_intercept=True, n_jobs=1, normalize=False)"
      ]
     },
     "execution_count": 35,
     "metadata": {},
     "output_type": "execute_result"
    }
   ],
   "source": [
    "model.fit(X_train, y_train)"
   ]
  },
  {
   "cell_type": "code",
   "execution_count": 36,
   "metadata": {},
   "outputs": [
    {
     "name": "stdout",
     "output_type": "stream",
     "text": [
      "Training Score: 0.19949446095225942\n",
      "Testing Score: 0.18077002026237365\n"
     ]
    }
   ],
   "source": [
    "model.fit(X_train, y_train)\n",
    "training_score = model.score(X_train, y_train)\n",
    "testing_score = model.score(X_test, y_test)\n",
    "\n",
    "\n",
    "\n",
    "print(f\"Training Score: {training_score}\")\n",
    "print(f\"Testing Score: {testing_score}\")"
   ]
  },
  {
   "cell_type": "code",
   "execution_count": 37,
   "metadata": {},
   "outputs": [
    {
     "data": {
      "text/plain": [
       "Text(0.5,1,'Residual Plot')"
      ]
     },
     "execution_count": 37,
     "metadata": {},
     "output_type": "execute_result"
    },
    {
     "data": {
      "image/png": "[encoded data removed]",
      "text/plain": [
       "<Figure size 432x288 with 1 Axes>"
      ]
     },
     "metadata": {},
     "output_type": "display_data"
    }
   ],
   "source": [
    "plt.scatter(model.predict(X_train), model.predict(X_train) - y_train, c=\"blue\", label=\"Training Data\")\n",
    "plt.scatter(model.predict(X_test), model.predict(X_test) - y_test, c=\"orange\", label=\"Testing Data\")\n",
    "plt.legend()\n",
    "plt.hlines(y=0, xmin=y.min(), xmax=y.max())\n",
    "plt.title(\"Residual Plot\")"
   ]
  },
  {
   "cell_type": "code",
   "execution_count": null,
   "metadata": {},
   "outputs": [],
   "source": []
  }
 ],
 "metadata": {
  "kernelspec": {
   "display_name": "Python 3",
   "language": "python",
   "name": "python3"
  },
  "language_info": {
   "codemirror_mode": {
    "name": "ipython",
    "version": 3
   },
   "file_extension": ".py",
   "mimetype": "text/x-python",
   "name": "python",
   "nbconvert_exporter": "python",
   "pygments_lexer": "ipython3",
   "version": "3.6.5"
  }
 },
 "nbformat": 4,
 "nbformat_minor": 2
}
