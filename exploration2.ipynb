{
 "cells": [
  {
   "cell_type": "code",
   "execution_count": 1,
   "metadata": {},
   "outputs": [],
   "source": [
    "from sqlalchemy import create_engine\n",
    "import pandas as pd\n",
    "import numpy as np\n"
   ]
  },
  {
   "cell_type": "code",
   "execution_count": 2,
   "metadata": {},
   "outputs": [],
   "source": [
    "rds_connection_string = \"root:12345678@127.0.0.1/fires\"\n",
    "engine = create_engine(f'mysql+pymysql://{rds_connection_string}')\n"
   ]
  },
  {
   "cell_type": "code",
   "execution_count": 3,
   "metadata": {},
   "outputs": [
    {
     "name": "stderr",
     "output_type": "stream",
     "text": [
      "/anaconda3/lib/python3.6/site-packages/pymysql/cursors.py:170: Warning: (3719, \"'utf8' is currently an alias for the character set UTF8MB3, but will be an alias for UTF8MB4 in a future release. Please consider using UTF8MB4 in order to be unambiguous.\")\n",
      "  result = self._query(query)\n"
     ]
    },
    {
     "data": {
      "text/html": [
       "<div>\n",
       "<style scoped>\n",
       "    .dataframe tbody tr th:only-of-type {\n",
       "        vertical-align: middle;\n",
       "    }\n",
       "\n",
       "    .dataframe tbody tr th {\n",
       "        vertical-align: top;\n",
       "    }\n",
       "\n",
       "    .dataframe thead th {\n",
       "        text-align: right;\n",
       "    }\n",
       "</style>\n",
       "<table border=\"1\" class=\"dataframe\">\n",
       "  <thead>\n",
       "    <tr style=\"text-align: right;\">\n",
       "      <th></th>\n",
       "      <th>date</th>\n",
       "      <th>overall_aqi</th>\n",
       "      <th>site_name</th>\n",
       "      <th>year</th>\n",
       "      <th>fire_id</th>\n",
       "      <th>fire_name</th>\n",
       "      <th>discovery_date</th>\n",
       "      <th>containment_date</th>\n",
       "      <th>size</th>\n",
       "      <th>class</th>\n",
       "      <th>fire_year</th>\n",
       "    </tr>\n",
       "  </thead>\n",
       "  <tbody>\n",
       "    <tr>\n",
       "      <th>0</th>\n",
       "      <td>2014-01-01</td>\n",
       "      <td>109</td>\n",
       "      <td>Oakland West</td>\n",
       "      <td>2014</td>\n",
       "      <td>171166.0</td>\n",
       "      <td>PIUMA</td>\n",
       "      <td>2014-01-01</td>\n",
       "      <td>2014-01-01</td>\n",
       "      <td>0.3</td>\n",
       "      <td>B</td>\n",
       "      <td>2014.0</td>\n",
       "    </tr>\n",
       "    <tr>\n",
       "      <th>1</th>\n",
       "      <td>2014-01-01</td>\n",
       "      <td>109</td>\n",
       "      <td>Oakland West</td>\n",
       "      <td>2014</td>\n",
       "      <td>171798.0</td>\n",
       "      <td>None</td>\n",
       "      <td>2014-01-01</td>\n",
       "      <td>2014-01-01</td>\n",
       "      <td>0.9</td>\n",
       "      <td>B</td>\n",
       "      <td>2014.0</td>\n",
       "    </tr>\n",
       "    <tr>\n",
       "      <th>2</th>\n",
       "      <td>2014-01-01</td>\n",
       "      <td>109</td>\n",
       "      <td>Oakland West</td>\n",
       "      <td>2014</td>\n",
       "      <td>172306.0</td>\n",
       "      <td>None</td>\n",
       "      <td>2014-01-01</td>\n",
       "      <td>2014-01-01</td>\n",
       "      <td>60.0</td>\n",
       "      <td>C</td>\n",
       "      <td>2014.0</td>\n",
       "    </tr>\n",
       "    <tr>\n",
       "      <th>3</th>\n",
       "      <td>2014-01-01</td>\n",
       "      <td>109</td>\n",
       "      <td>Oakland West</td>\n",
       "      <td>2014</td>\n",
       "      <td>172307.0</td>\n",
       "      <td>None</td>\n",
       "      <td>2014-01-01</td>\n",
       "      <td>2014-01-01</td>\n",
       "      <td>0.3</td>\n",
       "      <td>B</td>\n",
       "      <td>2014.0</td>\n",
       "    </tr>\n",
       "    <tr>\n",
       "      <th>4</th>\n",
       "      <td>2014-01-01</td>\n",
       "      <td>109</td>\n",
       "      <td>Oakland West</td>\n",
       "      <td>2014</td>\n",
       "      <td>172308.0</td>\n",
       "      <td>None</td>\n",
       "      <td>2014-01-01</td>\n",
       "      <td>2014-01-01</td>\n",
       "      <td>1.0</td>\n",
       "      <td>B</td>\n",
       "      <td>2014.0</td>\n",
       "    </tr>\n",
       "    <tr>\n",
       "      <th>5</th>\n",
       "      <td>2014-01-01</td>\n",
       "      <td>109</td>\n",
       "      <td>Oakland West</td>\n",
       "      <td>2014</td>\n",
       "      <td>172309.0</td>\n",
       "      <td>None</td>\n",
       "      <td>2014-01-01</td>\n",
       "      <td>2014-01-01</td>\n",
       "      <td>1.0</td>\n",
       "      <td>B</td>\n",
       "      <td>2014.0</td>\n",
       "    </tr>\n",
       "    <tr>\n",
       "      <th>6</th>\n",
       "      <td>2014-01-01</td>\n",
       "      <td>109</td>\n",
       "      <td>Oakland West</td>\n",
       "      <td>2014</td>\n",
       "      <td>172573.0</td>\n",
       "      <td>None</td>\n",
       "      <td>2014-01-01</td>\n",
       "      <td>2014-01-01</td>\n",
       "      <td>0.1</td>\n",
       "      <td>A</td>\n",
       "      <td>2014.0</td>\n",
       "    </tr>\n",
       "    <tr>\n",
       "      <th>7</th>\n",
       "      <td>2014-01-01</td>\n",
       "      <td>109</td>\n",
       "      <td>Oakland West</td>\n",
       "      <td>2014</td>\n",
       "      <td>172683.0</td>\n",
       "      <td>None</td>\n",
       "      <td>2014-01-01</td>\n",
       "      <td>2014-01-01</td>\n",
       "      <td>0.1</td>\n",
       "      <td>A</td>\n",
       "      <td>2014.0</td>\n",
       "    </tr>\n",
       "    <tr>\n",
       "      <th>8</th>\n",
       "      <td>2014-01-01</td>\n",
       "      <td>109</td>\n",
       "      <td>Oakland West</td>\n",
       "      <td>2014</td>\n",
       "      <td>173659.0</td>\n",
       "      <td>None</td>\n",
       "      <td>2014-01-01</td>\n",
       "      <td>2014-01-01</td>\n",
       "      <td>3.5</td>\n",
       "      <td>B</td>\n",
       "      <td>2014.0</td>\n",
       "    </tr>\n",
       "    <tr>\n",
       "      <th>9</th>\n",
       "      <td>2014-01-01</td>\n",
       "      <td>109</td>\n",
       "      <td>Oakland West</td>\n",
       "      <td>2014</td>\n",
       "      <td>173660.0</td>\n",
       "      <td>None</td>\n",
       "      <td>2014-01-01</td>\n",
       "      <td>2014-01-01</td>\n",
       "      <td>0.3</td>\n",
       "      <td>B</td>\n",
       "      <td>2014.0</td>\n",
       "    </tr>\n",
       "    <tr>\n",
       "      <th>10</th>\n",
       "      <td>2014-01-01</td>\n",
       "      <td>109</td>\n",
       "      <td>Oakland West</td>\n",
       "      <td>2014</td>\n",
       "      <td>173661.0</td>\n",
       "      <td>None</td>\n",
       "      <td>2014-01-01</td>\n",
       "      <td>2014-01-01</td>\n",
       "      <td>1.8</td>\n",
       "      <td>B</td>\n",
       "      <td>2014.0</td>\n",
       "    </tr>\n",
       "    <tr>\n",
       "      <th>11</th>\n",
       "      <td>2014-01-01</td>\n",
       "      <td>109</td>\n",
       "      <td>Oakland West</td>\n",
       "      <td>2014</td>\n",
       "      <td>185921.0</td>\n",
       "      <td>REDTAIL/TAC 3</td>\n",
       "      <td>2014-01-01</td>\n",
       "      <td>2014-01-01</td>\n",
       "      <td>1.0</td>\n",
       "      <td>B</td>\n",
       "      <td>2014.0</td>\n",
       "    </tr>\n",
       "    <tr>\n",
       "      <th>12</th>\n",
       "      <td>2014-01-02</td>\n",
       "      <td>80</td>\n",
       "      <td>Oakland West</td>\n",
       "      <td>2014</td>\n",
       "      <td>171679.0</td>\n",
       "      <td>None</td>\n",
       "      <td>2014-01-02</td>\n",
       "      <td>2014-01-02</td>\n",
       "      <td>0.1</td>\n",
       "      <td>A</td>\n",
       "      <td>2014.0</td>\n",
       "    </tr>\n",
       "    <tr>\n",
       "      <th>13</th>\n",
       "      <td>2014-01-02</td>\n",
       "      <td>80</td>\n",
       "      <td>Oakland West</td>\n",
       "      <td>2014</td>\n",
       "      <td>171680.0</td>\n",
       "      <td>None</td>\n",
       "      <td>2014-01-02</td>\n",
       "      <td>2014-01-02</td>\n",
       "      <td>1.0</td>\n",
       "      <td>B</td>\n",
       "      <td>2014.0</td>\n",
       "    </tr>\n",
       "    <tr>\n",
       "      <th>14</th>\n",
       "      <td>2014-01-02</td>\n",
       "      <td>80</td>\n",
       "      <td>Oakland West</td>\n",
       "      <td>2014</td>\n",
       "      <td>171799.0</td>\n",
       "      <td>None</td>\n",
       "      <td>2014-01-02</td>\n",
       "      <td>2014-01-02</td>\n",
       "      <td>1.0</td>\n",
       "      <td>B</td>\n",
       "      <td>2014.0</td>\n",
       "    </tr>\n",
       "    <tr>\n",
       "      <th>15</th>\n",
       "      <td>2014-01-02</td>\n",
       "      <td>80</td>\n",
       "      <td>Oakland West</td>\n",
       "      <td>2014</td>\n",
       "      <td>171800.0</td>\n",
       "      <td>None</td>\n",
       "      <td>2014-01-02</td>\n",
       "      <td>2014-01-02</td>\n",
       "      <td>1.0</td>\n",
       "      <td>B</td>\n",
       "      <td>2014.0</td>\n",
       "    </tr>\n",
       "    <tr>\n",
       "      <th>16</th>\n",
       "      <td>2014-01-02</td>\n",
       "      <td>80</td>\n",
       "      <td>Oakland West</td>\n",
       "      <td>2014</td>\n",
       "      <td>171801.0</td>\n",
       "      <td>None</td>\n",
       "      <td>2014-01-02</td>\n",
       "      <td>2014-01-02</td>\n",
       "      <td>10.0</td>\n",
       "      <td>C</td>\n",
       "      <td>2014.0</td>\n",
       "    </tr>\n",
       "    <tr>\n",
       "      <th>17</th>\n",
       "      <td>2014-01-02</td>\n",
       "      <td>80</td>\n",
       "      <td>Oakland West</td>\n",
       "      <td>2014</td>\n",
       "      <td>171802.0</td>\n",
       "      <td>None</td>\n",
       "      <td>2014-01-02</td>\n",
       "      <td>2014-01-02</td>\n",
       "      <td>0.1</td>\n",
       "      <td>A</td>\n",
       "      <td>2014.0</td>\n",
       "    </tr>\n",
       "    <tr>\n",
       "      <th>18</th>\n",
       "      <td>2014-01-02</td>\n",
       "      <td>80</td>\n",
       "      <td>Oakland West</td>\n",
       "      <td>2014</td>\n",
       "      <td>172684.0</td>\n",
       "      <td>None</td>\n",
       "      <td>2014-01-02</td>\n",
       "      <td>2014-01-02</td>\n",
       "      <td>1.0</td>\n",
       "      <td>B</td>\n",
       "      <td>2014.0</td>\n",
       "    </tr>\n",
       "    <tr>\n",
       "      <th>19</th>\n",
       "      <td>2014-01-02</td>\n",
       "      <td>80</td>\n",
       "      <td>Oakland West</td>\n",
       "      <td>2014</td>\n",
       "      <td>172685.0</td>\n",
       "      <td>None</td>\n",
       "      <td>2014-01-02</td>\n",
       "      <td>2014-01-02</td>\n",
       "      <td>0.1</td>\n",
       "      <td>A</td>\n",
       "      <td>2014.0</td>\n",
       "    </tr>\n",
       "  </tbody>\n",
       "</table>\n",
       "</div>"
      ],
      "text/plain": [
       "         date  overall_aqi     site_name  year   fire_id      fire_name  \\\n",
       "0  2014-01-01          109  Oakland West  2014  171166.0          PIUMA   \n",
       "1  2014-01-01          109  Oakland West  2014  171798.0           None   \n",
       "2  2014-01-01          109  Oakland West  2014  172306.0           None   \n",
       "3  2014-01-01          109  Oakland West  2014  172307.0           None   \n",
       "4  2014-01-01          109  Oakland West  2014  172308.0           None   \n",
       "5  2014-01-01          109  Oakland West  2014  172309.0           None   \n",
       "6  2014-01-01          109  Oakland West  2014  172573.0           None   \n",
       "7  2014-01-01          109  Oakland West  2014  172683.0           None   \n",
       "8  2014-01-01          109  Oakland West  2014  173659.0           None   \n",
       "9  2014-01-01          109  Oakland West  2014  173660.0           None   \n",
       "10 2014-01-01          109  Oakland West  2014  173661.0           None   \n",
       "11 2014-01-01          109  Oakland West  2014  185921.0  REDTAIL/TAC 3   \n",
       "12 2014-01-02           80  Oakland West  2014  171679.0           None   \n",
       "13 2014-01-02           80  Oakland West  2014  171680.0           None   \n",
       "14 2014-01-02           80  Oakland West  2014  171799.0           None   \n",
       "15 2014-01-02           80  Oakland West  2014  171800.0           None   \n",
       "16 2014-01-02           80  Oakland West  2014  171801.0           None   \n",
       "17 2014-01-02           80  Oakland West  2014  171802.0           None   \n",
       "18 2014-01-02           80  Oakland West  2014  172684.0           None   \n",
       "19 2014-01-02           80  Oakland West  2014  172685.0           None   \n",
       "\n",
       "   discovery_date containment_date  size class  fire_year  \n",
       "0      2014-01-01       2014-01-01   0.3     B     2014.0  \n",
       "1      2014-01-01       2014-01-01   0.9     B     2014.0  \n",
       "2      2014-01-01       2014-01-01  60.0     C     2014.0  \n",
       "3      2014-01-01       2014-01-01   0.3     B     2014.0  \n",
       "4      2014-01-01       2014-01-01   1.0     B     2014.0  \n",
       "5      2014-01-01       2014-01-01   1.0     B     2014.0  \n",
       "6      2014-01-01       2014-01-01   0.1     A     2014.0  \n",
       "7      2014-01-01       2014-01-01   0.1     A     2014.0  \n",
       "8      2014-01-01       2014-01-01   3.5     B     2014.0  \n",
       "9      2014-01-01       2014-01-01   0.3     B     2014.0  \n",
       "10     2014-01-01       2014-01-01   1.8     B     2014.0  \n",
       "11     2014-01-01       2014-01-01   1.0     B     2014.0  \n",
       "12     2014-01-02       2014-01-02   0.1     A     2014.0  \n",
       "13     2014-01-02       2014-01-02   1.0     B     2014.0  \n",
       "14     2014-01-02       2014-01-02   1.0     B     2014.0  \n",
       "15     2014-01-02       2014-01-02   1.0     B     2014.0  \n",
       "16     2014-01-02       2014-01-02  10.0     C     2014.0  \n",
       "17     2014-01-02       2014-01-02   0.1     A     2014.0  \n",
       "18     2014-01-02       2014-01-02   1.0     B     2014.0  \n",
       "19     2014-01-02       2014-01-02   0.1     A     2014.0  "
      ]
     },
     "execution_count": 3,
     "metadata": {},
     "output_type": "execute_result"
    }
   ],
   "source": [
    "combined_df = pd.read_sql(\"select * from fire_and_air_data\", con=engine)\n",
    "combined_df.head(20)"
   ]
  },
  {
   "cell_type": "code",
   "execution_count": 4,
   "metadata": {},
   "outputs": [],
   "source": [
    "combined_df = combined_df[['date', 'overall_aqi', 'fire_id', 'size']]"
   ]
  },
  {
   "cell_type": "code",
   "execution_count": 6,
   "metadata": {},
   "outputs": [
    {
     "data": {
      "text/plain": [
       "pandas.core.frame.DataFrame"
      ]
     },
     "execution_count": 6,
     "metadata": {},
     "output_type": "execute_result"
    }
   ],
   "source": [
    "type(combined_df)"
   ]
  },
  {
   "cell_type": "code",
   "execution_count": 5,
   "metadata": {},
   "outputs": [
    {
     "ename": "TypeError",
     "evalue": "'DataFrame' object is not callable",
     "output_type": "error",
     "traceback": [
      "\u001b[0;31m---------------------------------------------------------------------------\u001b[0m",
      "\u001b[0;31mTypeError\u001b[0m                                 Traceback (most recent call last)",
      "\u001b[0;32m<ipython-input-5-5e812d0f1159>\u001b[0m in \u001b[0;36m<module>\u001b[0;34m()\u001b[0m\n\u001b[0;32m----> 1\u001b[0;31m \u001b[0macres_per_day_df\u001b[0m \u001b[0;34m=\u001b[0m \u001b[0mcombined_df\u001b[0m\u001b[0;34m(\u001b[0m\u001b[0;34m'date'\u001b[0m\u001b[0;34m)\u001b[0m\u001b[0;34m[\u001b[0m\u001b[0;34m'size'\u001b[0m\u001b[0;34m]\u001b[0m\u001b[0;34m.\u001b[0m\u001b[0msum\u001b[0m\u001b[0;34m(\u001b[0m\u001b[0;34m)\u001b[0m\u001b[0;34m.\u001b[0m\u001b[0mto_frame\u001b[0m\u001b[0;34m(\u001b[0m\u001b[0;34m)\u001b[0m\u001b[0;34m.\u001b[0m\u001b[0mreset_index\u001b[0m\u001b[0;34m(\u001b[0m\u001b[0;34m)\u001b[0m\u001b[0;34m\u001b[0m\u001b[0m\n\u001b[0m",
      "\u001b[0;31mTypeError\u001b[0m: 'DataFrame' object is not callable"
     ]
    }
   ],
   "source": [
    "acres_per_day_df = combined_df('date')['size'].sum().to_frame().reset_index()"
   ]
  },
  {
   "cell_type": "code",
   "execution_count": null,
   "metadata": {},
   "outputs": [],
   "source": [
    "df1 = df.groupby('product')['value'].sum().to_frame().reset_index()"
   ]
  },
  {
   "cell_type": "code",
   "execution_count": null,
   "metadata": {},
   "outputs": [],
   "source": [
    "acres_per_day_df = data.groupby('date')['size'].sum().to_frame()"
   ]
  },
  {
   "cell_type": "code",
   "execution_count": null,
   "metadata": {},
   "outputs": [],
   "source": [
    "type(acres_per_day_df)"
   ]
  },
  {
   "cell_type": "code",
   "execution_count": null,
   "metadata": {},
   "outputs": [],
   "source": []
  },
  {
   "cell_type": "code",
   "execution_count": null,
   "metadata": {},
   "outputs": [],
   "source": []
  },
  {
   "cell_type": "code",
   "execution_count": null,
   "metadata": {},
   "outputs": [],
   "source": [
    "acres_per_day_df.head()"
   ]
  },
  {
   "cell_type": "code",
   "execution_count": null,
   "metadata": {},
   "outputs": [],
   "source": [
    "data.head()"
   ]
  },
  {
   "cell_type": "code",
   "execution_count": null,
   "metadata": {},
   "outputs": [],
   "source": []
  },
  {
   "cell_type": "code",
   "execution_count": null,
   "metadata": {},
   "outputs": [],
   "source": []
  },
  {
   "cell_type": "code",
   "execution_count": null,
   "metadata": {},
   "outputs": [],
   "source": []
  },
  {
   "cell_type": "code",
   "execution_count": null,
   "metadata": {},
   "outputs": [],
   "source": []
  },
  {
   "cell_type": "code",
   "execution_count": null,
   "metadata": {},
   "outputs": [],
   "source": [
    "grouped.first()"
   ]
  },
  {
   "cell_type": "code",
   "execution_count": null,
   "metadata": {},
   "outputs": [],
   "source": [
    "grouped.size()"
   ]
  },
  {
   "cell_type": "code",
   "execution_count": null,
   "metadata": {},
   "outputs": [],
   "source": []
  },
  {
   "cell_type": "code",
   "execution_count": null,
   "metadata": {},
   "outputs": [],
   "source": []
  },
  {
   "cell_type": "code",
   "execution_count": null,
   "metadata": {},
   "outputs": [],
   "source": []
  },
  {
   "cell_type": "code",
   "execution_count": null,
   "metadata": {},
   "outputs": [],
   "source": []
  },
  {
   "cell_type": "code",
   "execution_count": null,
   "metadata": {},
   "outputs": [],
   "source": [
    "size_group = grouped['size']\n",
    "\n"
   ]
  },
  {
   "cell_type": "code",
   "execution_count": null,
   "metadata": {},
   "outputs": [],
   "source": [
    "size_group.first()"
   ]
  },
  {
   "cell_type": "code",
   "execution_count": null,
   "metadata": {},
   "outputs": [],
   "source": [
    "size_group.size()"
   ]
  },
  {
   "cell_type": "code",
   "execution_count": null,
   "metadata": {},
   "outputs": [],
   "source": [
    "# grouping by fire\n",
    "\n",
    "fire_group = data.groupby(['fire_name', 'date'])"
   ]
  },
  {
   "cell_type": "code",
   "execution_count": null,
   "metadata": {},
   "outputs": [],
   "source": [
    "fire_group.size()"
   ]
  },
  {
   "cell_type": "code",
   "execution_count": null,
   "metadata": {},
   "outputs": [],
   "source": []
  }
 ],
 "metadata": {
  "kernelspec": {
   "display_name": "Python 3",
   "language": "python",
   "name": "python3"
  },
  "language_info": {
   "codemirror_mode": {
    "name": "ipython",
    "version": 3
   },
   "file_extension": ".py",
   "mimetype": "text/x-python",
   "name": "python",
   "nbconvert_exporter": "python",
   "pygments_lexer": "ipython3",
   "version": "3.6.5"
  }
 },
 "nbformat": 4,
 "nbformat_minor": 2
}
