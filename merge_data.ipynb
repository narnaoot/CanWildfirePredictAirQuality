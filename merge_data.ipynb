{
 "cells": [
  {
   "cell_type": "code",
   "execution_count": 9,
   "metadata": {},
   "outputs": [],
   "source": [
    "from sqlalchemy import create_engine\n",
    "import pandas as pd\n",
    "import numpy as np\n",
    "from datetime import datetime,date,timedelta"
   ]
  },
  {
   "cell_type": "code",
   "execution_count": 10,
   "metadata": {},
   "outputs": [],
   "source": [
    "rds_connection_string = \"root:12345678@127.0.0.1/fires\"\n",
    "engine = create_engine(f'mysql+pymysql://{rds_connection_string}')\n"
   ]
  },
  {
   "cell_type": "code",
   "execution_count": 11,
   "metadata": {},
   "outputs": [
    {
     "name": "stderr",
     "output_type": "stream",
     "text": [
      "/anaconda3/lib/python3.6/site-packages/pymysql/cursors.py:170: Warning: (3719, \"'utf8' is currently an alias for the character set UTF8MB3, but will be an alias for UTF8MB4 in a future release. Please consider using UTF8MB4 in order to be unambiguous.\")\n",
      "  result = self._query(query)\n"
     ]
    },
    {
     "data": {
      "text/html": [
       "<div>\n",
       "<style scoped>\n",
       "    .dataframe tbody tr th:only-of-type {\n",
       "        vertical-align: middle;\n",
       "    }\n",
       "\n",
       "    .dataframe tbody tr th {\n",
       "        vertical-align: top;\n",
       "    }\n",
       "\n",
       "    .dataframe thead th {\n",
       "        text-align: right;\n",
       "    }\n",
       "</style>\n",
       "<table border=\"1\" class=\"dataframe\">\n",
       "  <thead>\n",
       "    <tr style=\"text-align: right;\">\n",
       "      <th></th>\n",
       "      <th>level_0</th>\n",
       "      <th>index</th>\n",
       "      <th>discovery_date</th>\n",
       "      <th>containment_date</th>\n",
       "      <th>size</th>\n",
       "      <th>class</th>\n",
       "      <th>fire_year</th>\n",
       "      <th>fire_name</th>\n",
       "    </tr>\n",
       "  </thead>\n",
       "  <tbody>\n",
       "    <tr>\n",
       "      <th>0</th>\n",
       "      <td>0</td>\n",
       "      <td>0</td>\n",
       "      <td>2005-02-02</td>\n",
       "      <td>2005-02-02</td>\n",
       "      <td>0.10</td>\n",
       "      <td>A</td>\n",
       "      <td>2005</td>\n",
       "      <td>FOUNTAIN</td>\n",
       "    </tr>\n",
       "    <tr>\n",
       "      <th>1</th>\n",
       "      <td>1</td>\n",
       "      <td>1</td>\n",
       "      <td>2004-05-12</td>\n",
       "      <td>2004-05-12</td>\n",
       "      <td>0.25</td>\n",
       "      <td>A</td>\n",
       "      <td>2004</td>\n",
       "      <td>PIGEON</td>\n",
       "    </tr>\n",
       "    <tr>\n",
       "      <th>2</th>\n",
       "      <td>2</td>\n",
       "      <td>2</td>\n",
       "      <td>2004-05-31</td>\n",
       "      <td>2004-05-31</td>\n",
       "      <td>0.10</td>\n",
       "      <td>A</td>\n",
       "      <td>2004</td>\n",
       "      <td>SLACK</td>\n",
       "    </tr>\n",
       "    <tr>\n",
       "      <th>3</th>\n",
       "      <td>3</td>\n",
       "      <td>3</td>\n",
       "      <td>2004-06-28</td>\n",
       "      <td>2004-07-03</td>\n",
       "      <td>0.10</td>\n",
       "      <td>A</td>\n",
       "      <td>2004</td>\n",
       "      <td>DEER</td>\n",
       "    </tr>\n",
       "    <tr>\n",
       "      <th>4</th>\n",
       "      <td>4</td>\n",
       "      <td>4</td>\n",
       "      <td>2004-06-28</td>\n",
       "      <td>2004-07-03</td>\n",
       "      <td>0.10</td>\n",
       "      <td>A</td>\n",
       "      <td>2004</td>\n",
       "      <td>STEVENOT</td>\n",
       "    </tr>\n",
       "  </tbody>\n",
       "</table>\n",
       "</div>"
      ],
      "text/plain": [
       "   level_0  index discovery_date containment_date  size class  fire_year  \\\n",
       "0        0      0     2005-02-02       2005-02-02  0.10     A       2005   \n",
       "1        1      1     2004-05-12       2004-05-12  0.25     A       2004   \n",
       "2        2      2     2004-05-31       2004-05-31  0.10     A       2004   \n",
       "3        3      3     2004-06-28       2004-07-03  0.10     A       2004   \n",
       "4        4      4     2004-06-28       2004-07-03  0.10     A       2004   \n",
       "\n",
       "  fire_name  \n",
       "0  FOUNTAIN  \n",
       "1    PIGEON  \n",
       "2     SLACK  \n",
       "3      DEER  \n",
       "4  STEVENOT  "
      ]
     },
     "execution_count": 11,
     "metadata": {},
     "output_type": "execute_result"
    }
   ],
   "source": [
    "wildfire_df = pd.read_sql(\"select * from cleaned_wildfire_data\",con=engine)\n",
    "wildfire_df.head()"
   ]
  },
  {
   "cell_type": "code",
   "execution_count": 12,
   "metadata": {},
   "outputs": [
    {
     "data": {
      "text/html": [
       "<div>\n",
       "<style scoped>\n",
       "    .dataframe tbody tr th:only-of-type {\n",
       "        vertical-align: middle;\n",
       "    }\n",
       "\n",
       "    .dataframe tbody tr th {\n",
       "        vertical-align: top;\n",
       "    }\n",
       "\n",
       "    .dataframe thead th {\n",
       "        text-align: right;\n",
       "    }\n",
       "</style>\n",
       "<table border=\"1\" class=\"dataframe\">\n",
       "  <thead>\n",
       "    <tr style=\"text-align: right;\">\n",
       "      <th></th>\n",
       "      <th>date</th>\n",
       "      <th>overall_aqi</th>\n",
       "      <th>site_name</th>\n",
       "      <th>year</th>\n",
       "    </tr>\n",
       "  </thead>\n",
       "  <tbody>\n",
       "    <tr>\n",
       "      <th>0</th>\n",
       "      <td>2001-01-01</td>\n",
       "      <td>153</td>\n",
       "      <td>San Francisco</td>\n",
       "      <td>2001</td>\n",
       "    </tr>\n",
       "    <tr>\n",
       "      <th>1</th>\n",
       "      <td>2001-01-02</td>\n",
       "      <td>140</td>\n",
       "      <td>San Francisco</td>\n",
       "      <td>2001</td>\n",
       "    </tr>\n",
       "    <tr>\n",
       "      <th>2</th>\n",
       "      <td>2001-01-03</td>\n",
       "      <td>140</td>\n",
       "      <td>San Francisco</td>\n",
       "      <td>2001</td>\n",
       "    </tr>\n",
       "    <tr>\n",
       "      <th>3</th>\n",
       "      <td>2001-01-04</td>\n",
       "      <td>107</td>\n",
       "      <td>San Francisco</td>\n",
       "      <td>2001</td>\n",
       "    </tr>\n",
       "    <tr>\n",
       "      <th>4</th>\n",
       "      <td>2001-01-05</td>\n",
       "      <td>124</td>\n",
       "      <td>San Francisco</td>\n",
       "      <td>2001</td>\n",
       "    </tr>\n",
       "  </tbody>\n",
       "</table>\n",
       "</div>"
      ],
      "text/plain": [
       "        date  overall_aqi      site_name  year\n",
       "0 2001-01-01          153  San Francisco  2001\n",
       "1 2001-01-02          140  San Francisco  2001\n",
       "2 2001-01-03          140  San Francisco  2001\n",
       "3 2001-01-04          107  San Francisco  2001\n",
       "4 2001-01-05          124  San Francisco  2001"
      ]
     },
     "execution_count": 12,
     "metadata": {},
     "output_type": "execute_result"
    }
   ],
   "source": [
    "airquality_df = pd.read_sql(\"select * from aqi_data\", con=engine)\n",
    "airquality_df.head()"
   ]
  },
  {
   "cell_type": "code",
   "execution_count": 13,
   "metadata": {},
   "outputs": [],
   "source": [
    "merged_data_df = airquality_df.merge(wildfire_df,left_on='date', right_on=\"containment_date\", how='left')"
   ]
  },
  {
   "cell_type": "code",
   "execution_count": 17,
   "metadata": {},
   "outputs": [
    {
     "data": {
      "text/plain": [
       "Index(['date', 'overall_aqi', 'site_name', 'year', 'level_0', 'index',\n",
       "       'discovery_date', 'containment_date', 'size', 'class', 'fire_year',\n",
       "       'fire_name'],\n",
       "      dtype='object')"
      ]
     },
     "execution_count": 17,
     "metadata": {},
     "output_type": "execute_result"
    }
   ],
   "source": [
    "# and write it to the database\n",
    "merged_data_df.columns"
   ]
  },
  {
   "cell_type": "code",
   "execution_count": 23,
   "metadata": {},
   "outputs": [
    {
     "data": {
      "text/html": [
       "<div>\n",
       "<style scoped>\n",
       "    .dataframe tbody tr th:only-of-type {\n",
       "        vertical-align: middle;\n",
       "    }\n",
       "\n",
       "    .dataframe tbody tr th {\n",
       "        vertical-align: top;\n",
       "    }\n",
       "\n",
       "    .dataframe thead th {\n",
       "        text-align: right;\n",
       "    }\n",
       "</style>\n",
       "<table border=\"1\" class=\"dataframe\">\n",
       "  <thead>\n",
       "    <tr style=\"text-align: right;\">\n",
       "      <th></th>\n",
       "      <th>date</th>\n",
       "      <th>overall_aqi</th>\n",
       "      <th>site_name</th>\n",
       "      <th>year</th>\n",
       "      <th>level_0</th>\n",
       "      <th>index</th>\n",
       "      <th>discovery_date</th>\n",
       "      <th>containment_date</th>\n",
       "      <th>size</th>\n",
       "      <th>class</th>\n",
       "      <th>fire_year</th>\n",
       "      <th>fire_name</th>\n",
       "    </tr>\n",
       "  </thead>\n",
       "  <tbody>\n",
       "    <tr>\n",
       "      <th>0</th>\n",
       "      <td>2001-01-01</td>\n",
       "      <td>153</td>\n",
       "      <td>San Francisco</td>\n",
       "      <td>2001</td>\n",
       "      <td>26892.0</td>\n",
       "      <td>26892.0</td>\n",
       "      <td>2001-01-01</td>\n",
       "      <td>2001-01-01</td>\n",
       "      <td>0.1</td>\n",
       "      <td>A</td>\n",
       "      <td>2001.0</td>\n",
       "      <td>LUCERNE</td>\n",
       "    </tr>\n",
       "    <tr>\n",
       "      <th>1</th>\n",
       "      <td>2001-01-01</td>\n",
       "      <td>153</td>\n",
       "      <td>San Francisco</td>\n",
       "      <td>2001</td>\n",
       "      <td>27620.0</td>\n",
       "      <td>27620.0</td>\n",
       "      <td>2001-01-01</td>\n",
       "      <td>2001-01-01</td>\n",
       "      <td>0.1</td>\n",
       "      <td>A</td>\n",
       "      <td>2001.0</td>\n",
       "      <td>DEBRIS 2</td>\n",
       "    </tr>\n",
       "    <tr>\n",
       "      <th>2</th>\n",
       "      <td>2001-01-01</td>\n",
       "      <td>153</td>\n",
       "      <td>San Francisco</td>\n",
       "      <td>2001</td>\n",
       "      <td>45869.0</td>\n",
       "      <td>45869.0</td>\n",
       "      <td>2001-01-01</td>\n",
       "      <td>2001-01-01</td>\n",
       "      <td>0.1</td>\n",
       "      <td>A</td>\n",
       "      <td>2001.0</td>\n",
       "      <td>LP HILL</td>\n",
       "    </tr>\n",
       "    <tr>\n",
       "      <th>3</th>\n",
       "      <td>2001-01-01</td>\n",
       "      <td>153</td>\n",
       "      <td>San Francisco</td>\n",
       "      <td>2001</td>\n",
       "      <td>60502.0</td>\n",
       "      <td>60502.0</td>\n",
       "      <td>2001-01-01</td>\n",
       "      <td>2001-01-01</td>\n",
       "      <td>0.1</td>\n",
       "      <td>A</td>\n",
       "      <td>2001.0</td>\n",
       "      <td>PGE 1</td>\n",
       "    </tr>\n",
       "    <tr>\n",
       "      <th>4</th>\n",
       "      <td>2001-01-01</td>\n",
       "      <td>153</td>\n",
       "      <td>San Francisco</td>\n",
       "      <td>2001</td>\n",
       "      <td>60589.0</td>\n",
       "      <td>60589.0</td>\n",
       "      <td>2001-01-01</td>\n",
       "      <td>2001-01-01</td>\n",
       "      <td>0.1</td>\n",
       "      <td>A</td>\n",
       "      <td>2001.0</td>\n",
       "      <td>PUMP HOUSE</td>\n",
       "    </tr>\n",
       "  </tbody>\n",
       "</table>\n",
       "</div>"
      ],
      "text/plain": [
       "        date  overall_aqi      site_name  year  level_0    index  \\\n",
       "0 2001-01-01          153  San Francisco  2001  26892.0  26892.0   \n",
       "1 2001-01-01          153  San Francisco  2001  27620.0  27620.0   \n",
       "2 2001-01-01          153  San Francisco  2001  45869.0  45869.0   \n",
       "3 2001-01-01          153  San Francisco  2001  60502.0  60502.0   \n",
       "4 2001-01-01          153  San Francisco  2001  60589.0  60589.0   \n",
       "\n",
       "  discovery_date containment_date  size class  fire_year   fire_name  \n",
       "0     2001-01-01       2001-01-01   0.1     A     2001.0     LUCERNE  \n",
       "1     2001-01-01       2001-01-01   0.1     A     2001.0    DEBRIS 2  \n",
       "2     2001-01-01       2001-01-01   0.1     A     2001.0     LP HILL  \n",
       "3     2001-01-01       2001-01-01   0.1     A     2001.0       PGE 1  \n",
       "4     2001-01-01       2001-01-01   0.1     A     2001.0  PUMP HOUSE  "
      ]
     },
     "execution_count": 23,
     "metadata": {},
     "output_type": "execute_result"
    }
   ],
   "source": [
    "merged_data_df.head()"
   ]
  },
  {
   "cell_type": "code",
   "execution_count": 21,
   "metadata": {},
   "outputs": [],
   "source": [
    "# and write it to the database\n",
    "merged_data_df.to_sql(name=\"fire_and_air_data\", con=engine, if_exists=\"replace\", index=False)"
   ]
  },
  {
   "cell_type": "code",
   "execution_count": null,
   "metadata": {},
   "outputs": [],
   "source": []
  },
  {
   "cell_type": "code",
   "execution_count": null,
   "metadata": {},
   "outputs": [],
   "source": []
  },
  {
   "cell_type": "code",
   "execution_count": null,
   "metadata": {},
   "outputs": [],
   "source": []
  },
  {
   "cell_type": "code",
   "execution_count": null,
   "metadata": {},
   "outputs": [],
   "source": []
  },
  {
   "cell_type": "code",
   "execution_count": null,
   "metadata": {},
   "outputs": [],
   "source": []
  },
  {
   "cell_type": "code",
   "execution_count": null,
   "metadata": {},
   "outputs": [],
   "source": []
  },
  {
   "cell_type": "code",
   "execution_count": null,
   "metadata": {},
   "outputs": [],
   "source": []
  },
  {
   "cell_type": "code",
   "execution_count": null,
   "metadata": {},
   "outputs": [],
   "source": []
  },
  {
   "cell_type": "code",
   "execution_count": null,
   "metadata": {},
   "outputs": [],
   "source": []
  },
  {
   "cell_type": "code",
   "execution_count": null,
   "metadata": {},
   "outputs": [],
   "source": []
  },
  {
   "cell_type": "code",
   "execution_count": null,
   "metadata": {},
   "outputs": [],
   "source": []
  },
  {
   "cell_type": "code",
   "execution_count": null,
   "metadata": {},
   "outputs": [],
   "source": []
  },
  {
   "cell_type": "code",
   "execution_count": null,
   "metadata": {},
   "outputs": [],
   "source": []
  },
  {
   "cell_type": "code",
   "execution_count": null,
   "metadata": {},
   "outputs": [],
   "source": []
  },
  {
   "cell_type": "code",
   "execution_count": null,
   "metadata": {},
   "outputs": [],
   "source": []
  }
 ],
 "metadata": {
  "kernelspec": {
   "display_name": "Python 3",
   "language": "python",
   "name": "python3"
  },
  "language_info": {
   "codemirror_mode": {
    "name": "ipython",
    "version": 3
   },
   "file_extension": ".py",
   "mimetype": "text/x-python",
   "name": "python",
   "nbconvert_exporter": "python",
   "pygments_lexer": "ipython3",
   "version": "3.6.5"
  }
 },
 "nbformat": 4,
 "nbformat_minor": 2
}
