{
 "cells": [
  {
   "cell_type": "code",
   "execution_count": 1,
   "metadata": {},
   "outputs": [],
   "source": [
    "from sqlalchemy import create_engine\n",
    "import pandas as pd\n",
    "import numpy as np\n",
    "from datetime import datetime,date,timedelta"
   ]
  },
  {
   "cell_type": "code",
   "execution_count": 2,
   "metadata": {},
   "outputs": [],
   "source": [
    "rds_connection_string = \"root:12345678@127.0.0.1/fires\"\n",
    "engine = create_engine(f'mysql+pymysql://{rds_connection_string}')\n"
   ]
  },
  {
   "cell_type": "code",
   "execution_count": 3,
   "metadata": {},
   "outputs": [
    {
     "name": "stderr",
     "output_type": "stream",
     "text": [
      "/anaconda3/lib/python3.6/site-packages/pymysql/cursors.py:170: Warning: (3719, \"'utf8' is currently an alias for the character set UTF8MB3, but will be an alias for UTF8MB4 in a future release. Please consider using UTF8MB4 in order to be unambiguous.\")\n",
      "  result = self._query(query)\n"
     ]
    },
    {
     "data": {
      "text/html": [
       "<div>\n",
       "<style scoped>\n",
       "    .dataframe tbody tr th:only-of-type {\n",
       "        vertical-align: middle;\n",
       "    }\n",
       "\n",
       "    .dataframe tbody tr th {\n",
       "        vertical-align: top;\n",
       "    }\n",
       "\n",
       "    .dataframe thead th {\n",
       "        text-align: right;\n",
       "    }\n",
       "</style>\n",
       "<table border=\"1\" class=\"dataframe\">\n",
       "  <thead>\n",
       "    <tr style=\"text-align: right;\">\n",
       "      <th></th>\n",
       "      <th>index</th>\n",
       "      <th>discovery_date</th>\n",
       "      <th>containment_date</th>\n",
       "      <th>size</th>\n",
       "      <th>class</th>\n",
       "      <th>fire_year</th>\n",
       "      <th>fire_name</th>\n",
       "    </tr>\n",
       "  </thead>\n",
       "  <tbody>\n",
       "    <tr>\n",
       "      <th>0</th>\n",
       "      <td>0</td>\n",
       "      <td>2005-02-02</td>\n",
       "      <td>2005-02-02</td>\n",
       "      <td>0.10</td>\n",
       "      <td>A</td>\n",
       "      <td>2005</td>\n",
       "      <td>FOUNTAIN</td>\n",
       "    </tr>\n",
       "    <tr>\n",
       "      <th>1</th>\n",
       "      <td>1</td>\n",
       "      <td>2004-05-12</td>\n",
       "      <td>2004-05-12</td>\n",
       "      <td>0.25</td>\n",
       "      <td>A</td>\n",
       "      <td>2004</td>\n",
       "      <td>PIGEON</td>\n",
       "    </tr>\n",
       "    <tr>\n",
       "      <th>2</th>\n",
       "      <td>2</td>\n",
       "      <td>2004-05-31</td>\n",
       "      <td>2004-05-31</td>\n",
       "      <td>0.10</td>\n",
       "      <td>A</td>\n",
       "      <td>2004</td>\n",
       "      <td>SLACK</td>\n",
       "    </tr>\n",
       "    <tr>\n",
       "      <th>3</th>\n",
       "      <td>3</td>\n",
       "      <td>2004-06-28</td>\n",
       "      <td>2004-07-03</td>\n",
       "      <td>0.10</td>\n",
       "      <td>A</td>\n",
       "      <td>2004</td>\n",
       "      <td>DEER</td>\n",
       "    </tr>\n",
       "    <tr>\n",
       "      <th>4</th>\n",
       "      <td>4</td>\n",
       "      <td>2004-06-28</td>\n",
       "      <td>2004-07-03</td>\n",
       "      <td>0.10</td>\n",
       "      <td>A</td>\n",
       "      <td>2004</td>\n",
       "      <td>STEVENOT</td>\n",
       "    </tr>\n",
       "  </tbody>\n",
       "</table>\n",
       "</div>"
      ],
      "text/plain": [
       "   index discovery_date containment_date  size class  fire_year fire_name\n",
       "0      0     2005-02-02       2005-02-02  0.10     A       2005  FOUNTAIN\n",
       "1      1     2004-05-12       2004-05-12  0.25     A       2004    PIGEON\n",
       "2      2     2004-05-31       2004-05-31  0.10     A       2004     SLACK\n",
       "3      3     2004-06-28       2004-07-03  0.10     A       2004      DEER\n",
       "4      4     2004-06-28       2004-07-03  0.10     A       2004  STEVENOT"
      ]
     },
     "execution_count": 3,
     "metadata": {},
     "output_type": "execute_result"
    }
   ],
   "source": [
    "wildfire_df = pd.read_sql(\"select * from wildfire_data\",con=engine)\n",
    "wildfire_df.head()"
   ]
  },
  {
   "cell_type": "code",
   "execution_count": 12,
   "metadata": {},
   "outputs": [
    {
     "data": {
      "text/html": [
       "<div>\n",
       "<style scoped>\n",
       "    .dataframe tbody tr th:only-of-type {\n",
       "        vertical-align: middle;\n",
       "    }\n",
       "\n",
       "    .dataframe tbody tr th {\n",
       "        vertical-align: top;\n",
       "    }\n",
       "\n",
       "    .dataframe thead th {\n",
       "        text-align: right;\n",
       "    }\n",
       "</style>\n",
       "<table border=\"1\" class=\"dataframe\">\n",
       "  <thead>\n",
       "    <tr style=\"text-align: right;\">\n",
       "      <th></th>\n",
       "      <th>date</th>\n",
       "      <th>overall_aqi</th>\n",
       "      <th>site_name</th>\n",
       "      <th>year</th>\n",
       "    </tr>\n",
       "  </thead>\n",
       "  <tbody>\n",
       "    <tr>\n",
       "      <th>0</th>\n",
       "      <td>2001-01-01</td>\n",
       "      <td>153</td>\n",
       "      <td>San Francisco</td>\n",
       "      <td>2001</td>\n",
       "    </tr>\n",
       "    <tr>\n",
       "      <th>1</th>\n",
       "      <td>2001-01-02</td>\n",
       "      <td>140</td>\n",
       "      <td>San Francisco</td>\n",
       "      <td>2001</td>\n",
       "    </tr>\n",
       "    <tr>\n",
       "      <th>2</th>\n",
       "      <td>2001-01-03</td>\n",
       "      <td>140</td>\n",
       "      <td>San Francisco</td>\n",
       "      <td>2001</td>\n",
       "    </tr>\n",
       "    <tr>\n",
       "      <th>3</th>\n",
       "      <td>2001-01-04</td>\n",
       "      <td>107</td>\n",
       "      <td>San Francisco</td>\n",
       "      <td>2001</td>\n",
       "    </tr>\n",
       "    <tr>\n",
       "      <th>4</th>\n",
       "      <td>2001-01-05</td>\n",
       "      <td>124</td>\n",
       "      <td>San Francisco</td>\n",
       "      <td>2001</td>\n",
       "    </tr>\n",
       "  </tbody>\n",
       "</table>\n",
       "</div>"
      ],
      "text/plain": [
       "        date  overall_aqi      site_name  year\n",
       "0 2001-01-01          153  San Francisco  2001\n",
       "1 2001-01-02          140  San Francisco  2001\n",
       "2 2001-01-03          140  San Francisco  2001\n",
       "3 2001-01-04          107  San Francisco  2001\n",
       "4 2001-01-05          124  San Francisco  2001"
      ]
     },
     "execution_count": 12,
     "metadata": {},
     "output_type": "execute_result"
    }
   ],
   "source": [
    "airquality_df = pd.read_sql(\"select * from aqi_data\", con=engine)\n",
    "airquality_df.head()"
   ]
  },
  {
   "cell_type": "code",
   "execution_count": 4,
   "metadata": {},
   "outputs": [
    {
     "name": "stderr",
     "output_type": "stream",
     "text": [
      "/anaconda3/lib/python3.6/site-packages/ipykernel_launcher.py:3: SettingWithCopyWarning: \n",
      "A value is trying to be set on a copy of a slice from a DataFrame.\n",
      "Try using .loc[row_indexer,col_indexer] = value instead\n",
      "\n",
      "See the caveats in the documentation: http://pandas.pydata.org/pandas-docs/stable/indexing.html#indexing-view-versus-copy\n",
      "  This is separate from the ipykernel package so we can avoid doing imports until\n"
     ]
    }
   ],
   "source": [
    "wildfire_complete = wildfire_df.dropna()\n",
    "#fill in missing values using average by each group\n",
    "wildfire_complete[\"duration\"] = (wildfire_complete[\"containment_date\"] - wildfire_complete[\"discovery_date\"]).dt.days\n",
    "duration_class = wildfire_complete.groupby(\"class\").agg({\"duration\":\"mean\"})\n",
    "duration_class_dict = duration_class.to_dict()[\"duration\"]"
   ]
  },
  {
   "cell_type": "code",
   "execution_count": 5,
   "metadata": {},
   "outputs": [
    {
     "data": {
      "text/plain": [
       "{'A': 0.5788469890666013,\n",
       " 'B': 1.1438816490451602,\n",
       " 'C': 2.139679255043973,\n",
       " 'D': 6.192269573835481,\n",
       " 'E': 6.223479490806223,\n",
       " 'F': 14.183823529411764,\n",
       " 'G': 27.64306784660767}"
      ]
     },
     "execution_count": 5,
     "metadata": {},
     "output_type": "execute_result"
    }
   ],
   "source": [
    "duration_class_dict"
   ]
  },
  {
   "cell_type": "code",
   "execution_count": 6,
   "metadata": {},
   "outputs": [
    {
     "data": {
      "text/html": [
       "<div>\n",
       "<style scoped>\n",
       "    .dataframe tbody tr th:only-of-type {\n",
       "        vertical-align: middle;\n",
       "    }\n",
       "\n",
       "    .dataframe tbody tr th {\n",
       "        vertical-align: top;\n",
       "    }\n",
       "\n",
       "    .dataframe thead th {\n",
       "        text-align: right;\n",
       "    }\n",
       "</style>\n",
       "<table border=\"1\" class=\"dataframe\">\n",
       "  <thead>\n",
       "    <tr style=\"text-align: right;\">\n",
       "      <th></th>\n",
       "      <th>index</th>\n",
       "      <th>discovery_date</th>\n",
       "      <th>containment_date</th>\n",
       "      <th>size</th>\n",
       "      <th>class</th>\n",
       "      <th>fire_year</th>\n",
       "      <th>fire_name</th>\n",
       "    </tr>\n",
       "  </thead>\n",
       "  <tbody>\n",
       "    <tr>\n",
       "      <th>821</th>\n",
       "      <td>821</td>\n",
       "      <td>2005-12-05</td>\n",
       "      <td>NaT</td>\n",
       "      <td>0.1</td>\n",
       "      <td>A</td>\n",
       "      <td>2005</td>\n",
       "      <td>PAINTED</td>\n",
       "    </tr>\n",
       "    <tr>\n",
       "      <th>2035</th>\n",
       "      <td>2035</td>\n",
       "      <td>2006-08-23</td>\n",
       "      <td>NaT</td>\n",
       "      <td>7.0</td>\n",
       "      <td>B</td>\n",
       "      <td>2006</td>\n",
       "      <td>NEILSON</td>\n",
       "    </tr>\n",
       "    <tr>\n",
       "      <th>2203</th>\n",
       "      <td>2203</td>\n",
       "      <td>2006-09-27</td>\n",
       "      <td>NaT</td>\n",
       "      <td>5.0</td>\n",
       "      <td>B</td>\n",
       "      <td>2006</td>\n",
       "      <td>WHEELER</td>\n",
       "    </tr>\n",
       "    <tr>\n",
       "      <th>2235</th>\n",
       "      <td>2235</td>\n",
       "      <td>2006-06-26</td>\n",
       "      <td>NaT</td>\n",
       "      <td>1247.0</td>\n",
       "      <td>F</td>\n",
       "      <td>2006</td>\n",
       "      <td>HARVEY</td>\n",
       "    </tr>\n",
       "    <tr>\n",
       "      <th>2294</th>\n",
       "      <td>2294</td>\n",
       "      <td>2006-07-23</td>\n",
       "      <td>NaT</td>\n",
       "      <td>5792.0</td>\n",
       "      <td>G</td>\n",
       "      <td>2006</td>\n",
       "      <td>TITUS</td>\n",
       "    </tr>\n",
       "    <tr>\n",
       "      <th>2524</th>\n",
       "      <td>2524</td>\n",
       "      <td>2006-08-22</td>\n",
       "      <td>NaT</td>\n",
       "      <td>0.1</td>\n",
       "      <td>A</td>\n",
       "      <td>2006</td>\n",
       "      <td>BEAR</td>\n",
       "    </tr>\n",
       "    <tr>\n",
       "      <th>2599</th>\n",
       "      <td>2599</td>\n",
       "      <td>2006-09-03</td>\n",
       "      <td>NaT</td>\n",
       "      <td>178.0</td>\n",
       "      <td>D</td>\n",
       "      <td>2006</td>\n",
       "      <td>SAND FLAT</td>\n",
       "    </tr>\n",
       "    <tr>\n",
       "      <th>2600</th>\n",
       "      <td>2600</td>\n",
       "      <td>2006-07-21</td>\n",
       "      <td>NaT</td>\n",
       "      <td>0.1</td>\n",
       "      <td>A</td>\n",
       "      <td>2006</td>\n",
       "      <td>DEER</td>\n",
       "    </tr>\n",
       "    <tr>\n",
       "      <th>2924</th>\n",
       "      <td>2924</td>\n",
       "      <td>2006-09-29</td>\n",
       "      <td>NaT</td>\n",
       "      <td>0.5</td>\n",
       "      <td>B</td>\n",
       "      <td>2006</td>\n",
       "      <td>BLUE</td>\n",
       "    </tr>\n",
       "    <tr>\n",
       "      <th>3816</th>\n",
       "      <td>3816</td>\n",
       "      <td>2007-09-24</td>\n",
       "      <td>NaT</td>\n",
       "      <td>0.1</td>\n",
       "      <td>A</td>\n",
       "      <td>2007</td>\n",
       "      <td>WILLIS</td>\n",
       "    </tr>\n",
       "  </tbody>\n",
       "</table>\n",
       "</div>"
      ],
      "text/plain": [
       "      index discovery_date containment_date    size class  fire_year  \\\n",
       "821     821     2005-12-05              NaT     0.1     A       2005   \n",
       "2035   2035     2006-08-23              NaT     7.0     B       2006   \n",
       "2203   2203     2006-09-27              NaT     5.0     B       2006   \n",
       "2235   2235     2006-06-26              NaT  1247.0     F       2006   \n",
       "2294   2294     2006-07-23              NaT  5792.0     G       2006   \n",
       "2524   2524     2006-08-22              NaT     0.1     A       2006   \n",
       "2599   2599     2006-09-03              NaT   178.0     D       2006   \n",
       "2600   2600     2006-07-21              NaT     0.1     A       2006   \n",
       "2924   2924     2006-09-29              NaT     0.5     B       2006   \n",
       "3816   3816     2007-09-24              NaT     0.1     A       2007   \n",
       "\n",
       "      fire_name  \n",
       "821     PAINTED  \n",
       "2035    NEILSON  \n",
       "2203    WHEELER  \n",
       "2235     HARVEY  \n",
       "2294      TITUS  \n",
       "2524       BEAR  \n",
       "2599  SAND FLAT  \n",
       "2600       DEER  \n",
       "2924       BLUE  \n",
       "3816     WILLIS  "
      ]
     },
     "execution_count": 6,
     "metadata": {},
     "output_type": "execute_result"
    }
   ],
   "source": [
    "wildfire_df[wildfire_df[\"containment_date\"].isnull()].iloc[0:10,]"
   ]
  },
  {
   "cell_type": "code",
   "execution_count": 7,
   "metadata": {},
   "outputs": [],
   "source": [
    "for index, row in wildfire_df.iterrows():\n",
    "    if pd.isnull(row[\"containment_date\"]):\n",
    "        this_class = row[\"class\"]\n",
    "        wildfire_df.loc[index,\"containment_date\"] = row[\"discovery_date\"] + pd.Timedelta(str(duration_class_dict[this_class]) + \" days\")"
   ]
  },
  {
   "cell_type": "code",
   "execution_count": 8,
   "metadata": {},
   "outputs": [
    {
     "data": {
      "text/html": [
       "<div>\n",
       "<style scoped>\n",
       "    .dataframe tbody tr th:only-of-type {\n",
       "        vertical-align: middle;\n",
       "    }\n",
       "\n",
       "    .dataframe tbody tr th {\n",
       "        vertical-align: top;\n",
       "    }\n",
       "\n",
       "    .dataframe thead th {\n",
       "        text-align: right;\n",
       "    }\n",
       "</style>\n",
       "<table border=\"1\" class=\"dataframe\">\n",
       "  <thead>\n",
       "    <tr style=\"text-align: right;\">\n",
       "      <th></th>\n",
       "      <th>index</th>\n",
       "      <th>discovery_date</th>\n",
       "      <th>containment_date</th>\n",
       "      <th>size</th>\n",
       "      <th>class</th>\n",
       "      <th>fire_year</th>\n",
       "      <th>fire_name</th>\n",
       "    </tr>\n",
       "  </thead>\n",
       "  <tbody>\n",
       "  </tbody>\n",
       "</table>\n",
       "</div>"
      ],
      "text/plain": [
       "Empty DataFrame\n",
       "Columns: [index, discovery_date, containment_date, size, class, fire_year, fire_name]\n",
       "Index: []"
      ]
     },
     "execution_count": 8,
     "metadata": {},
     "output_type": "execute_result"
    }
   ],
   "source": [
    "wildfire_df[wildfire_df[\"containment_date\"].isnull()]"
   ]
  },
  {
   "cell_type": "code",
   "execution_count": 9,
   "metadata": {},
   "outputs": [],
   "source": [
    "wildfire_df.to_sql(name=\"cleaned_wildfires\", con=engine, if_exists=\"append\", index=True)"
   ]
  },
  {
   "cell_type": "code",
   "execution_count": 10,
   "metadata": {},
   "outputs": [
    {
     "data": {
      "text/html": [
       "<div>\n",
       "<style scoped>\n",
       "    .dataframe tbody tr th:only-of-type {\n",
       "        vertical-align: middle;\n",
       "    }\n",
       "\n",
       "    .dataframe tbody tr th {\n",
       "        vertical-align: top;\n",
       "    }\n",
       "\n",
       "    .dataframe thead th {\n",
       "        text-align: right;\n",
       "    }\n",
       "</style>\n",
       "<table border=\"1\" class=\"dataframe\">\n",
       "  <thead>\n",
       "    <tr style=\"text-align: right;\">\n",
       "      <th></th>\n",
       "      <th>index</th>\n",
       "      <th>discovery_date</th>\n",
       "      <th>containment_date</th>\n",
       "      <th>size</th>\n",
       "      <th>class</th>\n",
       "      <th>fire_year</th>\n",
       "      <th>fire_name</th>\n",
       "    </tr>\n",
       "  </thead>\n",
       "  <tbody>\n",
       "    <tr>\n",
       "      <th>0</th>\n",
       "      <td>0</td>\n",
       "      <td>2005-02-02</td>\n",
       "      <td>2005-02-02</td>\n",
       "      <td>0.10</td>\n",
       "      <td>A</td>\n",
       "      <td>2005</td>\n",
       "      <td>FOUNTAIN</td>\n",
       "    </tr>\n",
       "    <tr>\n",
       "      <th>1</th>\n",
       "      <td>1</td>\n",
       "      <td>2004-05-12</td>\n",
       "      <td>2004-05-12</td>\n",
       "      <td>0.25</td>\n",
       "      <td>A</td>\n",
       "      <td>2004</td>\n",
       "      <td>PIGEON</td>\n",
       "    </tr>\n",
       "    <tr>\n",
       "      <th>2</th>\n",
       "      <td>2</td>\n",
       "      <td>2004-05-31</td>\n",
       "      <td>2004-05-31</td>\n",
       "      <td>0.10</td>\n",
       "      <td>A</td>\n",
       "      <td>2004</td>\n",
       "      <td>SLACK</td>\n",
       "    </tr>\n",
       "    <tr>\n",
       "      <th>3</th>\n",
       "      <td>3</td>\n",
       "      <td>2004-06-28</td>\n",
       "      <td>2004-07-03</td>\n",
       "      <td>0.10</td>\n",
       "      <td>A</td>\n",
       "      <td>2004</td>\n",
       "      <td>DEER</td>\n",
       "    </tr>\n",
       "    <tr>\n",
       "      <th>4</th>\n",
       "      <td>4</td>\n",
       "      <td>2004-06-28</td>\n",
       "      <td>2004-07-03</td>\n",
       "      <td>0.10</td>\n",
       "      <td>A</td>\n",
       "      <td>2004</td>\n",
       "      <td>STEVENOT</td>\n",
       "    </tr>\n",
       "  </tbody>\n",
       "</table>\n",
       "</div>"
      ],
      "text/plain": [
       "   index discovery_date containment_date  size class  fire_year fire_name\n",
       "0      0     2005-02-02       2005-02-02  0.10     A       2005  FOUNTAIN\n",
       "1      1     2004-05-12       2004-05-12  0.25     A       2004    PIGEON\n",
       "2      2     2004-05-31       2004-05-31  0.10     A       2004     SLACK\n",
       "3      3     2004-06-28       2004-07-03  0.10     A       2004      DEER\n",
       "4      4     2004-06-28       2004-07-03  0.10     A       2004  STEVENOT"
      ]
     },
     "execution_count": 10,
     "metadata": {},
     "output_type": "execute_result"
    }
   ],
   "source": [
    "wildfire_df.head()"
   ]
  },
  {
   "cell_type": "markdown",
   "metadata": {},
   "source": [
    "Merge!\n"
   ]
  },
  {
   "cell_type": "code",
   "execution_count": 3,
   "metadata": {},
   "outputs": [
    {
     "ename": "NameError",
     "evalue": "name 'airquality_df' is not defined",
     "output_type": "error",
     "traceback": [
      "\u001b[0;31m---------------------------------------------------------------------------\u001b[0m",
      "\u001b[0;31mNameError\u001b[0m                                 Traceback (most recent call last)",
      "\u001b[0;32m<ipython-input-3-453959a6abec>\u001b[0m in \u001b[0;36m<module>\u001b[0;34m()\u001b[0m\n\u001b[0;32m----> 1\u001b[0;31m \u001b[0mmerged_data_df\u001b[0m \u001b[0;34m=\u001b[0m \u001b[0mairquality_df\u001b[0m\u001b[0;34m.\u001b[0m\u001b[0mmerge\u001b[0m\u001b[0;34m(\u001b[0m\u001b[0mwildfire_df\u001b[0m\u001b[0;34m,\u001b[0m\u001b[0mleft_on\u001b[0m\u001b[0;34m=\u001b[0m\u001b[0;34m'date'\u001b[0m\u001b[0;34m,\u001b[0m \u001b[0mright_on\u001b[0m\u001b[0;34m=\u001b[0m\u001b[0;34m\"containment_date\"\u001b[0m\u001b[0;34m,\u001b[0m \u001b[0mhow\u001b[0m\u001b[0;34m=\u001b[0m\u001b[0;34m'left'\u001b[0m\u001b[0;34m)\u001b[0m\u001b[0;34m\u001b[0m\u001b[0m\n\u001b[0m",
      "\u001b[0;31mNameError\u001b[0m: name 'airquality_df' is not defined"
     ]
    }
   ],
   "source": [
    "merged_data_df = airquality_df.merge(wildfire_df,left_on='date', right_on=\"containment_date\", how='left')"
   ]
  },
  {
   "cell_type": "code",
   "execution_count": null,
   "metadata": {},
   "outputs": [],
   "source": [
    "# and write it to the database\n"
   ]
  },
  {
   "cell_type": "code",
   "execution_count": 2,
   "metadata": {},
   "outputs": [
    {
     "ename": "NameError",
     "evalue": "name 'merged_data_df' is not defined",
     "output_type": "error",
     "traceback": [
      "\u001b[0;31m---------------------------------------------------------------------------\u001b[0m",
      "\u001b[0;31mNameError\u001b[0m                                 Traceback (most recent call last)",
      "\u001b[0;32m<ipython-input-2-06bf9382512b>\u001b[0m in \u001b[0;36m<module>\u001b[0;34m()\u001b[0m\n\u001b[1;32m      1\u001b[0m \u001b[0;31m# and write it to the database\u001b[0m\u001b[0;34m\u001b[0m\u001b[0;34m\u001b[0m\u001b[0m\n\u001b[0;32m----> 2\u001b[0;31m \u001b[0mmerged_data_df\u001b[0m\u001b[0;34m.\u001b[0m\u001b[0mto_sql\u001b[0m\u001b[0;34m(\u001b[0m\u001b[0mname\u001b[0m\u001b[0;34m=\u001b[0m\u001b[0;34m\"merged_data_df\"\u001b[0m\u001b[0;34m,\u001b[0m \u001b[0mcon\u001b[0m\u001b[0;34m=\u001b[0m\u001b[0mengine\u001b[0m\u001b[0;34m,\u001b[0m \u001b[0mif_exists\u001b[0m\u001b[0;34m=\u001b[0m\u001b[0;34m\"append\"\u001b[0m\u001b[0;34m,\u001b[0m \u001b[0mindex\u001b[0m\u001b[0;34m=\u001b[0m\u001b[0;32mTrue\u001b[0m\u001b[0;34m)\u001b[0m\u001b[0;34m\u001b[0m\u001b[0m\n\u001b[0m",
      "\u001b[0;31mNameError\u001b[0m: name 'merged_data_df' is not defined"
     ]
    }
   ],
   "source": [
    "# and write it to the database\n",
    "merged_data_df.to_sql(name=\"merged_data_df\", con=engine, if_exists=\"append\", index=True)"
   ]
  },
  {
   "cell_type": "code",
   "execution_count": null,
   "metadata": {},
   "outputs": [],
   "source": []
  },
  {
   "cell_type": "code",
   "execution_count": null,
   "metadata": {},
   "outputs": [],
   "source": []
  },
  {
   "cell_type": "code",
   "execution_count": null,
   "metadata": {},
   "outputs": [],
   "source": []
  },
  {
   "cell_type": "code",
   "execution_count": null,
   "metadata": {},
   "outputs": [],
   "source": []
  },
  {
   "cell_type": "code",
   "execution_count": null,
   "metadata": {},
   "outputs": [],
   "source": []
  },
  {
   "cell_type": "code",
   "execution_count": null,
   "metadata": {},
   "outputs": [],
   "source": []
  },
  {
   "cell_type": "code",
   "execution_count": null,
   "metadata": {},
   "outputs": [],
   "source": []
  },
  {
   "cell_type": "code",
   "execution_count": null,
   "metadata": {},
   "outputs": [],
   "source": []
  },
  {
   "cell_type": "code",
   "execution_count": null,
   "metadata": {},
   "outputs": [],
   "source": []
  },
  {
   "cell_type": "code",
   "execution_count": null,
   "metadata": {},
   "outputs": [],
   "source": []
  },
  {
   "cell_type": "code",
   "execution_count": null,
   "metadata": {},
   "outputs": [],
   "source": []
  },
  {
   "cell_type": "code",
   "execution_count": null,
   "metadata": {},
   "outputs": [],
   "source": []
  },
  {
   "cell_type": "code",
   "execution_count": null,
   "metadata": {},
   "outputs": [],
   "source": []
  },
  {
   "cell_type": "code",
   "execution_count": null,
   "metadata": {},
   "outputs": [],
   "source": []
  },
  {
   "cell_type": "code",
   "execution_count": null,
   "metadata": {},
   "outputs": [],
   "source": []
  }
 ],
 "metadata": {
  "kernelspec": {
   "display_name": "Python 3",
   "language": "python",
   "name": "python3"
  },
  "language_info": {
   "codemirror_mode": {
    "name": "ipython",
    "version": 3
   },
   "file_extension": ".py",
   "mimetype": "text/x-python",
   "name": "python",
   "nbconvert_exporter": "python",
   "pygments_lexer": "ipython3",
   "version": "3.6.5"
  }
 },
 "nbformat": 4,
 "nbformat_minor": 2
}
