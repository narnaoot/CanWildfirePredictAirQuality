{
 "cells": [
  {
   "cell_type": "code",
   "execution_count": 1,
   "metadata": {},
   "outputs": [],
   "source": [
    "from sqlalchemy import create_engine\n",
    "import pandas as pd\n",
    "import numpy as np\n",
    "from datetime import datetime,date,timedelta"
   ]
  },
  {
   "cell_type": "code",
   "execution_count": 2,
   "metadata": {},
   "outputs": [],
   "source": [
    "rds_connection_string = \"root:12345678@127.0.0.1/fires\"\n",
    "engine = create_engine(f'mysql+pymysql://{rds_connection_string}')\n"
   ]
  },
  {
   "cell_type": "code",
   "execution_count": 3,
   "metadata": {},
   "outputs": [
    {
     "name": "stderr",
     "output_type": "stream",
     "text": [
      "/anaconda3/lib/python3.6/site-packages/pymysql/cursors.py:170: Warning: (3719, \"'utf8' is currently an alias for the character set UTF8MB3, but will be an alias for UTF8MB4 in a future release. Please consider using UTF8MB4 in order to be unambiguous.\")\n",
      "  result = self._query(query)\n"
     ]
    },
    {
     "data": {
      "text/html": [
       "<div>\n",
       "<style scoped>\n",
       "    .dataframe tbody tr th:only-of-type {\n",
       "        vertical-align: middle;\n",
       "    }\n",
       "\n",
       "    .dataframe tbody tr th {\n",
       "        vertical-align: top;\n",
       "    }\n",
       "\n",
       "    .dataframe thead th {\n",
       "        text-align: right;\n",
       "    }\n",
       "</style>\n",
       "<table border=\"1\" class=\"dataframe\">\n",
       "  <thead>\n",
       "    <tr style=\"text-align: right;\">\n",
       "      <th></th>\n",
       "      <th>index</th>\n",
       "      <th>discovery_date</th>\n",
       "      <th>containment_date</th>\n",
       "      <th>size</th>\n",
       "      <th>class</th>\n",
       "      <th>fire_year</th>\n",
       "      <th>fire_name</th>\n",
       "    </tr>\n",
       "  </thead>\n",
       "  <tbody>\n",
       "    <tr>\n",
       "      <th>0</th>\n",
       "      <td>0</td>\n",
       "      <td>2005-02-02</td>\n",
       "      <td>2005-02-02</td>\n",
       "      <td>0.10</td>\n",
       "      <td>A</td>\n",
       "      <td>2005</td>\n",
       "      <td>FOUNTAIN</td>\n",
       "    </tr>\n",
       "    <tr>\n",
       "      <th>1</th>\n",
       "      <td>1</td>\n",
       "      <td>2004-05-12</td>\n",
       "      <td>2004-05-12</td>\n",
       "      <td>0.25</td>\n",
       "      <td>A</td>\n",
       "      <td>2004</td>\n",
       "      <td>PIGEON</td>\n",
       "    </tr>\n",
       "    <tr>\n",
       "      <th>2</th>\n",
       "      <td>2</td>\n",
       "      <td>2004-05-31</td>\n",
       "      <td>2004-05-31</td>\n",
       "      <td>0.10</td>\n",
       "      <td>A</td>\n",
       "      <td>2004</td>\n",
       "      <td>SLACK</td>\n",
       "    </tr>\n",
       "    <tr>\n",
       "      <th>3</th>\n",
       "      <td>3</td>\n",
       "      <td>2004-06-28</td>\n",
       "      <td>2004-07-03</td>\n",
       "      <td>0.10</td>\n",
       "      <td>A</td>\n",
       "      <td>2004</td>\n",
       "      <td>DEER</td>\n",
       "    </tr>\n",
       "    <tr>\n",
       "      <th>4</th>\n",
       "      <td>4</td>\n",
       "      <td>2004-06-28</td>\n",
       "      <td>2004-07-03</td>\n",
       "      <td>0.10</td>\n",
       "      <td>A</td>\n",
       "      <td>2004</td>\n",
       "      <td>STEVENOT</td>\n",
       "    </tr>\n",
       "  </tbody>\n",
       "</table>\n",
       "</div>"
      ],
      "text/plain": [
       "   index discovery_date containment_date  size class  fire_year fire_name\n",
       "0      0     2005-02-02       2005-02-02  0.10     A       2005  FOUNTAIN\n",
       "1      1     2004-05-12       2004-05-12  0.25     A       2004    PIGEON\n",
       "2      2     2004-05-31       2004-05-31  0.10     A       2004     SLACK\n",
       "3      3     2004-06-28       2004-07-03  0.10     A       2004      DEER\n",
       "4      4     2004-06-28       2004-07-03  0.10     A       2004  STEVENOT"
      ]
     },
     "execution_count": 3,
     "metadata": {},
     "output_type": "execute_result"
    }
   ],
   "source": [
    "wildfire_df = pd.read_sql(\"select * from wildfire_data\",con=engine)\n",
    "wildfire_df.head()"
   ]
  },
  {
   "cell_type": "code",
   "execution_count": 4,
   "metadata": {},
   "outputs": [
    {
     "name": "stderr",
     "output_type": "stream",
     "text": [
      "/anaconda3/lib/python3.6/site-packages/ipykernel_launcher.py:3: SettingWithCopyWarning: \n",
      "A value is trying to be set on a copy of a slice from a DataFrame.\n",
      "Try using .loc[row_indexer,col_indexer] = value instead\n",
      "\n",
      "See the caveats in the documentation: http://pandas.pydata.org/pandas-docs/stable/indexing.html#indexing-view-versus-copy\n",
      "  This is separate from the ipykernel package so we can avoid doing imports until\n"
     ]
    }
   ],
   "source": [
    "wildfire_complete = wildfire_df.dropna()\n",
    "#fill in missing values using average by each group\n",
    "wildfire_complete[\"duration\"] = (wildfire_complete[\"containment_date\"] - wildfire_complete[\"discovery_date\"]).dt.days\n",
    "duration_class = wildfire_complete.groupby(\"class\").agg({\"duration\":\"mean\"})\n",
    "duration_class_dict = duration_class.to_dict()[\"duration\"]"
   ]
  },
  {
   "cell_type": "code",
   "execution_count": 5,
   "metadata": {},
   "outputs": [
    {
     "data": {
      "text/plain": [
       "{'A': 0.5788469890666013,\n",
       " 'B': 1.1438816490451602,\n",
       " 'C': 2.139679255043973,\n",
       " 'D': 6.192269573835481,\n",
       " 'E': 6.223479490806223,\n",
       " 'F': 14.183823529411764,\n",
       " 'G': 27.64306784660767}"
      ]
     },
     "execution_count": 5,
     "metadata": {},
     "output_type": "execute_result"
    }
   ],
   "source": [
    "duration_class_dict"
   ]
  },
  {
   "cell_type": "code",
   "execution_count": 6,
   "metadata": {},
   "outputs": [
    {
     "data": {
      "text/html": [
       "<div>\n",
       "<style scoped>\n",
       "    .dataframe tbody tr th:only-of-type {\n",
       "        vertical-align: middle;\n",
       "    }\n",
       "\n",
       "    .dataframe tbody tr th {\n",
       "        vertical-align: top;\n",
       "    }\n",
       "\n",
       "    .dataframe thead th {\n",
       "        text-align: right;\n",
       "    }\n",
       "</style>\n",
       "<table border=\"1\" class=\"dataframe\">\n",
       "  <thead>\n",
       "    <tr style=\"text-align: right;\">\n",
       "      <th></th>\n",
       "      <th>index</th>\n",
       "      <th>discovery_date</th>\n",
       "      <th>containment_date</th>\n",
       "      <th>size</th>\n",
       "      <th>class</th>\n",
       "      <th>fire_year</th>\n",
       "      <th>fire_name</th>\n",
       "    </tr>\n",
       "  </thead>\n",
       "  <tbody>\n",
       "    <tr>\n",
       "      <th>821</th>\n",
       "      <td>821</td>\n",
       "      <td>2005-12-05</td>\n",
       "      <td>NaT</td>\n",
       "      <td>0.1</td>\n",
       "      <td>A</td>\n",
       "      <td>2005</td>\n",
       "      <td>PAINTED</td>\n",
       "    </tr>\n",
       "    <tr>\n",
       "      <th>2035</th>\n",
       "      <td>2035</td>\n",
       "      <td>2006-08-23</td>\n",
       "      <td>NaT</td>\n",
       "      <td>7.0</td>\n",
       "      <td>B</td>\n",
       "      <td>2006</td>\n",
       "      <td>NEILSON</td>\n",
       "    </tr>\n",
       "    <tr>\n",
       "      <th>2203</th>\n",
       "      <td>2203</td>\n",
       "      <td>2006-09-27</td>\n",
       "      <td>NaT</td>\n",
       "      <td>5.0</td>\n",
       "      <td>B</td>\n",
       "      <td>2006</td>\n",
       "      <td>WHEELER</td>\n",
       "    </tr>\n",
       "    <tr>\n",
       "      <th>2235</th>\n",
       "      <td>2235</td>\n",
       "      <td>2006-06-26</td>\n",
       "      <td>NaT</td>\n",
       "      <td>1247.0</td>\n",
       "      <td>F</td>\n",
       "      <td>2006</td>\n",
       "      <td>HARVEY</td>\n",
       "    </tr>\n",
       "    <tr>\n",
       "      <th>2294</th>\n",
       "      <td>2294</td>\n",
       "      <td>2006-07-23</td>\n",
       "      <td>NaT</td>\n",
       "      <td>5792.0</td>\n",
       "      <td>G</td>\n",
       "      <td>2006</td>\n",
       "      <td>TITUS</td>\n",
       "    </tr>\n",
       "    <tr>\n",
       "      <th>2524</th>\n",
       "      <td>2524</td>\n",
       "      <td>2006-08-22</td>\n",
       "      <td>NaT</td>\n",
       "      <td>0.1</td>\n",
       "      <td>A</td>\n",
       "      <td>2006</td>\n",
       "      <td>BEAR</td>\n",
       "    </tr>\n",
       "    <tr>\n",
       "      <th>2599</th>\n",
       "      <td>2599</td>\n",
       "      <td>2006-09-03</td>\n",
       "      <td>NaT</td>\n",
       "      <td>178.0</td>\n",
       "      <td>D</td>\n",
       "      <td>2006</td>\n",
       "      <td>SAND FLAT</td>\n",
       "    </tr>\n",
       "    <tr>\n",
       "      <th>2600</th>\n",
       "      <td>2600</td>\n",
       "      <td>2006-07-21</td>\n",
       "      <td>NaT</td>\n",
       "      <td>0.1</td>\n",
       "      <td>A</td>\n",
       "      <td>2006</td>\n",
       "      <td>DEER</td>\n",
       "    </tr>\n",
       "    <tr>\n",
       "      <th>2924</th>\n",
       "      <td>2924</td>\n",
       "      <td>2006-09-29</td>\n",
       "      <td>NaT</td>\n",
       "      <td>0.5</td>\n",
       "      <td>B</td>\n",
       "      <td>2006</td>\n",
       "      <td>BLUE</td>\n",
       "    </tr>\n",
       "    <tr>\n",
       "      <th>3816</th>\n",
       "      <td>3816</td>\n",
       "      <td>2007-09-24</td>\n",
       "      <td>NaT</td>\n",
       "      <td>0.1</td>\n",
       "      <td>A</td>\n",
       "      <td>2007</td>\n",
       "      <td>WILLIS</td>\n",
       "    </tr>\n",
       "  </tbody>\n",
       "</table>\n",
       "</div>"
      ],
      "text/plain": [
       "      index discovery_date containment_date    size class  fire_year  \\\n",
       "821     821     2005-12-05              NaT     0.1     A       2005   \n",
       "2035   2035     2006-08-23              NaT     7.0     B       2006   \n",
       "2203   2203     2006-09-27              NaT     5.0     B       2006   \n",
       "2235   2235     2006-06-26              NaT  1247.0     F       2006   \n",
       "2294   2294     2006-07-23              NaT  5792.0     G       2006   \n",
       "2524   2524     2006-08-22              NaT     0.1     A       2006   \n",
       "2599   2599     2006-09-03              NaT   178.0     D       2006   \n",
       "2600   2600     2006-07-21              NaT     0.1     A       2006   \n",
       "2924   2924     2006-09-29              NaT     0.5     B       2006   \n",
       "3816   3816     2007-09-24              NaT     0.1     A       2007   \n",
       "\n",
       "      fire_name  \n",
       "821     PAINTED  \n",
       "2035    NEILSON  \n",
       "2203    WHEELER  \n",
       "2235     HARVEY  \n",
       "2294      TITUS  \n",
       "2524       BEAR  \n",
       "2599  SAND FLAT  \n",
       "2600       DEER  \n",
       "2924       BLUE  \n",
       "3816     WILLIS  "
      ]
     },
     "execution_count": 6,
     "metadata": {},
     "output_type": "execute_result"
    }
   ],
   "source": [
    "wildfire_df[wildfire_df[\"containment_date\"].isnull()].iloc[0:10,]"
   ]
  },
  {
   "cell_type": "code",
   "execution_count": null,
   "metadata": {},
   "outputs": [],
   "source": [
    "for index, row in wildfire_df.iterrows():\n",
    "    if pd.isnull(row[\"containment_date\"]):\n",
    "        this_class = row[\"class\"]\n",
    "        wildfire_df.loc[index,\"containment_date\"] = row[\"discovery_date\"] + pd.Timedelta(str(duration_class_dict[this_class]) + \" days\")"
   ]
  },
  {
   "cell_type": "code",
   "execution_count": null,
   "metadata": {},
   "outputs": [],
   "source": [
    "wildfire_df[wildfire_df[\"containment_date\"].isnull()]"
   ]
  },
  {
   "cell_type": "code",
   "execution_count": null,
   "metadata": {},
   "outputs": [],
   "source": [
    "wildfire_df.to_sql(name=\"cleaned_wildfires\", con=engine, if_exists=\"append\", index=True)"
   ]
  },
  {
   "cell_type": "code",
   "execution_count": null,
   "metadata": {},
   "outputs": [],
   "source": [
    "dates_with_fire = []\n",
    "fire_acres = []\n",
    "for index, row in wildfire_df.iterrows():\n",
    "    duration = row[\"containment_date\"] - row[\"discovery_date\"]\n",
    "    current_dates_with_fire = [row[\"discovery_date\"] + timedelta(days=x) for x in range(duration.days + 1) ]\n",
    "    for x in current_dates_with_fire:\n",
    "        dates_with_fire.append(x)\n",
    "        fire_acres.append(row[\"size\"])"
   ]
  },
  {
   "cell_type": "code",
   "execution_count": null,
   "metadata": {},
   "outputs": [],
   "source": [
    "type(dates_with_fire)"
   ]
  },
  {
   "cell_type": "code",
   "execution_count": null,
   "metadata": {},
   "outputs": [],
   "source": [
    "pd.DataFrame.from_records(dates_with_fire, fire_acres)"
   ]
  },
  {
   "cell_type": "code",
   "execution_count": null,
   "metadata": {},
   "outputs": [],
   "source": [
    "pd.DataFrame.from_records(sales, columns=labels)"
   ]
  },
  {
   "cell_type": "code",
   "execution_count": null,
   "metadata": {},
   "outputs": [],
   "source": []
  },
  {
   "cell_type": "code",
   "execution_count": null,
   "metadata": {},
   "outputs": [],
   "source": []
  },
  {
   "cell_type": "code",
   "execution_count": null,
   "metadata": {},
   "outputs": [],
   "source": []
  },
  {
   "cell_type": "code",
   "execution_count": null,
   "metadata": {},
   "outputs": [],
   "source": []
  },
  {
   "cell_type": "code",
   "execution_count": null,
   "metadata": {},
   "outputs": [],
   "source": []
  },
  {
   "cell_type": "code",
   "execution_count": null,
   "metadata": {},
   "outputs": [],
   "source": [
    "#truncate dates\n",
    "truncated_dates_with_fire = [x.replace(hour = 0,minute = 0, second = 0,microsecond = 0 , nanosecond = 0) for x in dates_with_fire]\n",
    "unique_dates_with_fire = list(set(truncated_dates_with_fire))"
   ]
  },
  {
   "cell_type": "code",
   "execution_count": null,
   "metadata": {},
   "outputs": [],
   "source": []
  },
  {
   "cell_type": "code",
   "execution_count": null,
   "metadata": {},
   "outputs": [],
   "source": []
  },
  {
   "cell_type": "code",
   "execution_count": null,
   "metadata": {},
   "outputs": [],
   "source": []
  },
  {
   "cell_type": "code",
   "execution_count": null,
   "metadata": {},
   "outputs": [],
   "source": []
  },
  {
   "cell_type": "code",
   "execution_count": null,
   "metadata": {},
   "outputs": [],
   "source": []
  },
  {
   "cell_type": "code",
   "execution_count": null,
   "metadata": {},
   "outputs": [],
   "source": []
  },
  {
   "cell_type": "code",
   "execution_count": null,
   "metadata": {},
   "outputs": [],
   "source": []
  },
  {
   "cell_type": "code",
   "execution_count": null,
   "metadata": {},
   "outputs": [],
   "source": []
  },
  {
   "cell_type": "code",
   "execution_count": null,
   "metadata": {},
   "outputs": [],
   "source": []
  },
  {
   "cell_type": "code",
   "execution_count": null,
   "metadata": {
    "scrolled": true
   },
   "outputs": [],
   "source": [
    "air_quality_df = pd.read_sql(\"select * from aqi_data\",con=engine)\n",
    "air_quality_df[\"total_size\"] = 0\n",
    "air_quality_df.head()"
   ]
  },
  {
   "cell_type": "code",
   "execution_count": null,
   "metadata": {},
   "outputs": [],
   "source": [
    "wildfire_df = wildfire_df.iloc[0:100]"
   ]
  },
  {
   "cell_type": "code",
   "execution_count": null,
   "metadata": {},
   "outputs": [],
   "source": [
    "for index, row in wildfire_df.iterrows():\n",
    "    fire_size = row[\"size\"]\n",
    "    duration = (row[\"containment_date\"] - row[\"discovery_date\"]).days\n",
    "    date = wildfire_df[\"discovery_date\"]\n",
    "    for i in range (1, duration):\n",
    "        row_index = air_quality_df[air_quality_df[\"date\"] == date\n",
    "        print(air_quality_df.loc[:,\"total_size\"].iloc[row_index,])                           \n",
    "     #   (air_quality_df.iloc[row_index])[\"total_size\"] = (air_quality_df.iloc[row_index])[\"total_size\"] + fire_size    \n",
    "        date = date + 1\n",
    "        \n",
    "#    while date <= wildfire_df[\"containment_date\"]\n",
    " #       air_quality_df.loc[:,\"total_size\"].iloc[row_index,] = air_quality_df.loc[:,\"total_size\"].iloc[row_index,] + fire_size\n",
    "  #      date = date + 1"
   ]
  },
  {
   "cell_type": "code",
   "execution_count": null,
   "metadata": {},
   "outputs": [],
   "source": [
    "for index, row in wildfire_df.iloc[0:100,].iterrows():\n",
    "    fire_size = row[\"size\"]\n",
    "    duration = row[\"containment_date\"] - row[\"discovery_date\"]\n",
    "    current_dates_with_fire = [row[\"discovery_date\"] + timedelta(days=x) for x in range(duration.days + 1)]\n",
    "    for x in current_dates_with_fire:\n",
    "        row_index = air_quality_df[air_quality_df[\"date\"] == x].index.values[0]\n",
    "         = air_quality_df.loc[:,\"total_size\"].iloc[row_index,] + fire_size\n",
    "        #air_quality_df.loc[,\"total_size\"].iloc[row_index,] = air_quality_df[air_quality_df[\"date\"] == x][\"total_size\"] + fire_size\n",
    "        #air_quality_df[air_quality_df[\"date\"] == x][\"total_size\"] += fire_size"
   ]
  },
  {
   "cell_type": "code",
   "execution_count": null,
   "metadata": {},
   "outputs": [],
   "source": [
    "air_quality_df.head()"
   ]
  },
  {
   "cell_type": "code",
   "execution_count": null,
   "metadata": {},
   "outputs": [],
   "source": [
    "air_quality_df[(air_quality_df[\"total_size\"] != 0)]"
   ]
  },
  {
   "cell_type": "code",
   "execution_count": null,
   "metadata": {},
   "outputs": [],
   "source": [
    "df[(df['A']>0) & (df['B']>0) & (df['C']>0)].count()"
   ]
  },
  {
   "cell_type": "code",
   "execution_count": null,
   "metadata": {},
   "outputs": [],
   "source": [
    "air_quality_df.loc[\"total_size\" != 0]"
   ]
  },
  {
   "cell_type": "code",
   "execution_count": null,
   "metadata": {},
   "outputs": [],
   "source": []
  }
 ],
 "metadata": {
  "kernelspec": {
   "display_name": "Python 3",
   "language": "python",
   "name": "python3"
  },
  "language_info": {
   "codemirror_mode": {
    "name": "ipython",
    "version": 3
   },
   "file_extension": ".py",
   "mimetype": "text/x-python",
   "name": "python",
   "nbconvert_exporter": "python",
   "pygments_lexer": "ipython3",
   "version": "3.6.5"
  }
 },
 "nbformat": 4,
 "nbformat_minor": 2
}
