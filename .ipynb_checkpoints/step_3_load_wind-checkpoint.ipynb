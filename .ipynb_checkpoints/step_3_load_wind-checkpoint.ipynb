{
 "cells": [
  {
   "cell_type": "markdown",
   "metadata": {},
   "source": [
    "# Create database table of wind (wind_data)\n",
    "### This notebook reads in a .csv file with wind infoand writes the information to database table \"wind_data\" in the table \"fires\"\n"
   ]
  },
  {
   "cell_type": "code",
   "execution_count": 1,
   "metadata": {},
   "outputs": [],
   "source": [
    "import pandas as pd\n",
    "from sqlalchemy import create_engine"
   ]
  },
  {
   "cell_type": "code",
   "execution_count": 2,
   "metadata": {},
   "outputs": [],
   "source": [
    "# read csv into dataframe\n",
    "file_wind = \"data/weather_data/wind_data.csv\"\n",
    "wind_df = pd.read_csv(file_wind)\n"
   ]
  },
  {
   "cell_type": "markdown",
   "metadata": {},
   "source": [
    "## Drop unnecessary columns and rename remaining columns"
   ]
  },
  {
   "cell_type": "code",
   "execution_count": 3,
   "metadata": {
    "scrolled": true
   },
   "outputs": [
    {
     "data": {
      "text/html": [
       "<div>\n",
       "<style scoped>\n",
       "    .dataframe tbody tr th:only-of-type {\n",
       "        vertical-align: middle;\n",
       "    }\n",
       "\n",
       "    .dataframe tbody tr th {\n",
       "        vertical-align: top;\n",
       "    }\n",
       "\n",
       "    .dataframe thead th {\n",
       "        text-align: right;\n",
       "    }\n",
       "</style>\n",
       "<table border=\"1\" class=\"dataframe\">\n",
       "  <thead>\n",
       "    <tr style=\"text-align: right;\">\n",
       "      <th></th>\n",
       "      <th>STATION</th>\n",
       "      <th>NAME</th>\n",
       "      <th>DATE</th>\n",
       "      <th>AWND</th>\n",
       "      <th>FMTM</th>\n",
       "      <th>PGTM</th>\n",
       "      <th>WDF2</th>\n",
       "      <th>WDF5</th>\n",
       "      <th>WSF2</th>\n",
       "      <th>WSF5</th>\n",
       "    </tr>\n",
       "  </thead>\n",
       "  <tbody>\n",
       "    <tr>\n",
       "      <th>0</th>\n",
       "      <td>USW00023234</td>\n",
       "      <td>SAN FRANCISCO INTERNATIONAL AIRPORT, CA US</td>\n",
       "      <td>2000-12-01</td>\n",
       "      <td>3.58</td>\n",
       "      <td>1635.0</td>\n",
       "      <td>1634.0</td>\n",
       "      <td>280</td>\n",
       "      <td>280.0</td>\n",
       "      <td>14.1</td>\n",
       "      <td>16.1</td>\n",
       "    </tr>\n",
       "    <tr>\n",
       "      <th>1</th>\n",
       "      <td>USW00023234</td>\n",
       "      <td>SAN FRANCISCO INTERNATIONAL AIRPORT, CA US</td>\n",
       "      <td>2000-12-02</td>\n",
       "      <td>2.91</td>\n",
       "      <td>1016.0</td>\n",
       "      <td>2356.0</td>\n",
       "      <td>20</td>\n",
       "      <td>220.0</td>\n",
       "      <td>8.1</td>\n",
       "      <td>8.9</td>\n",
       "    </tr>\n",
       "    <tr>\n",
       "      <th>2</th>\n",
       "      <td>USW00023234</td>\n",
       "      <td>SAN FRANCISCO INTERNATIONAL AIRPORT, CA US</td>\n",
       "      <td>2000-12-03</td>\n",
       "      <td>3.80</td>\n",
       "      <td>517.0</td>\n",
       "      <td>516.0</td>\n",
       "      <td>10</td>\n",
       "      <td>10.0</td>\n",
       "      <td>13.0</td>\n",
       "      <td>14.1</td>\n",
       "    </tr>\n",
       "    <tr>\n",
       "      <th>3</th>\n",
       "      <td>USW00023234</td>\n",
       "      <td>SAN FRANCISCO INTERNATIONAL AIRPORT, CA US</td>\n",
       "      <td>2000-12-04</td>\n",
       "      <td>2.91</td>\n",
       "      <td>2206.0</td>\n",
       "      <td>2204.0</td>\n",
       "      <td>10</td>\n",
       "      <td>10.0</td>\n",
       "      <td>8.9</td>\n",
       "      <td>10.1</td>\n",
       "    </tr>\n",
       "    <tr>\n",
       "      <th>4</th>\n",
       "      <td>USW00023234</td>\n",
       "      <td>SAN FRANCISCO INTERNATIONAL AIRPORT, CA US</td>\n",
       "      <td>2000-12-05</td>\n",
       "      <td>4.03</td>\n",
       "      <td>702.0</td>\n",
       "      <td>702.0</td>\n",
       "      <td>360</td>\n",
       "      <td>360.0</td>\n",
       "      <td>10.1</td>\n",
       "      <td>12.1</td>\n",
       "    </tr>\n",
       "  </tbody>\n",
       "</table>\n",
       "</div>"
      ],
      "text/plain": [
       "       STATION                                        NAME        DATE  AWND  \\\n",
       "0  USW00023234  SAN FRANCISCO INTERNATIONAL AIRPORT, CA US  2000-12-01  3.58   \n",
       "1  USW00023234  SAN FRANCISCO INTERNATIONAL AIRPORT, CA US  2000-12-02  2.91   \n",
       "2  USW00023234  SAN FRANCISCO INTERNATIONAL AIRPORT, CA US  2000-12-03  3.80   \n",
       "3  USW00023234  SAN FRANCISCO INTERNATIONAL AIRPORT, CA US  2000-12-04  2.91   \n",
       "4  USW00023234  SAN FRANCISCO INTERNATIONAL AIRPORT, CA US  2000-12-05  4.03   \n",
       "\n",
       "     FMTM    PGTM  WDF2   WDF5  WSF2  WSF5  \n",
       "0  1635.0  1634.0   280  280.0  14.1  16.1  \n",
       "1  1016.0  2356.0    20  220.0   8.1   8.9  \n",
       "2   517.0   516.0    10   10.0  13.0  14.1  \n",
       "3  2206.0  2204.0    10   10.0   8.9  10.1  \n",
       "4   702.0   702.0   360  360.0  10.1  12.1  "
      ]
     },
     "execution_count": 3,
     "metadata": {},
     "output_type": "execute_result"
    }
   ],
   "source": [
    "wind_df.head()"
   ]
  },
  {
   "cell_type": "code",
   "execution_count": 4,
   "metadata": {},
   "outputs": [
    {
     "data": {
      "text/html": [
       "<div>\n",
       "<style scoped>\n",
       "    .dataframe tbody tr th:only-of-type {\n",
       "        vertical-align: middle;\n",
       "    }\n",
       "\n",
       "    .dataframe tbody tr th {\n",
       "        vertical-align: top;\n",
       "    }\n",
       "\n",
       "    .dataframe thead th {\n",
       "        text-align: right;\n",
       "    }\n",
       "</style>\n",
       "<table border=\"1\" class=\"dataframe\">\n",
       "  <thead>\n",
       "    <tr style=\"text-align: right;\">\n",
       "      <th></th>\n",
       "      <th>station</th>\n",
       "      <th>name</th>\n",
       "      <th>date</th>\n",
       "      <th>avg_daily_wind_speed</th>\n",
       "      <th>time_of_fastest</th>\n",
       "      <th>pgtm</th>\n",
       "      <th>direction_of_fastest_2_min</th>\n",
       "      <th>direction_fastest_5_min</th>\n",
       "      <th>fastest_2_min_speed</th>\n",
       "      <th>fastest_5_min_speed</th>\n",
       "    </tr>\n",
       "  </thead>\n",
       "  <tbody>\n",
       "    <tr>\n",
       "      <th>0</th>\n",
       "      <td>USW00023234</td>\n",
       "      <td>SAN FRANCISCO INTERNATIONAL AIRPORT, CA US</td>\n",
       "      <td>2000-12-01</td>\n",
       "      <td>3.58</td>\n",
       "      <td>1635.0</td>\n",
       "      <td>1634.0</td>\n",
       "      <td>280</td>\n",
       "      <td>280.0</td>\n",
       "      <td>14.1</td>\n",
       "      <td>16.1</td>\n",
       "    </tr>\n",
       "    <tr>\n",
       "      <th>1</th>\n",
       "      <td>USW00023234</td>\n",
       "      <td>SAN FRANCISCO INTERNATIONAL AIRPORT, CA US</td>\n",
       "      <td>2000-12-02</td>\n",
       "      <td>2.91</td>\n",
       "      <td>1016.0</td>\n",
       "      <td>2356.0</td>\n",
       "      <td>20</td>\n",
       "      <td>220.0</td>\n",
       "      <td>8.1</td>\n",
       "      <td>8.9</td>\n",
       "    </tr>\n",
       "  </tbody>\n",
       "</table>\n",
       "</div>"
      ],
      "text/plain": [
       "       station                                        name        date  \\\n",
       "0  USW00023234  SAN FRANCISCO INTERNATIONAL AIRPORT, CA US  2000-12-01   \n",
       "1  USW00023234  SAN FRANCISCO INTERNATIONAL AIRPORT, CA US  2000-12-02   \n",
       "\n",
       "   avg_daily_wind_speed  time_of_fastest    pgtm  direction_of_fastest_2_min  \\\n",
       "0                  3.58           1635.0  1634.0                         280   \n",
       "1                  2.91           1016.0  2356.0                          20   \n",
       "\n",
       "   direction_fastest_5_min  fastest_2_min_speed  fastest_5_min_speed  \n",
       "0                    280.0                 14.1                 16.1  \n",
       "1                    220.0                  8.1                  8.9  "
      ]
     },
     "execution_count": 4,
     "metadata": {},
     "output_type": "execute_result"
    }
   ],
   "source": [
    "wind_df.columns = \"station\", \"name\", \"date\", \"avg_daily_wind_speed\", \"time_of_fastest\", \"pgtm\", \"direction_of_fastest_2_min\", \"direction_fastest_5_min\", \"fastest_2_min_speed\", \"fastest_5_min_speed\"\n",
    "wind_df.head(2)"
   ]
  },
  {
   "cell_type": "code",
   "execution_count": 5,
   "metadata": {},
   "outputs": [
    {
     "data": {
      "text/html": [
       "<div>\n",
       "<style scoped>\n",
       "    .dataframe tbody tr th:only-of-type {\n",
       "        vertical-align: middle;\n",
       "    }\n",
       "\n",
       "    .dataframe tbody tr th {\n",
       "        vertical-align: top;\n",
       "    }\n",
       "\n",
       "    .dataframe thead th {\n",
       "        text-align: right;\n",
       "    }\n",
       "</style>\n",
       "<table border=\"1\" class=\"dataframe\">\n",
       "  <thead>\n",
       "    <tr style=\"text-align: right;\">\n",
       "      <th></th>\n",
       "      <th>date</th>\n",
       "      <th>avg_daily_wind_speed</th>\n",
       "      <th>fastest_2_min_speed</th>\n",
       "      <th>fastest_5_min_speed</th>\n",
       "    </tr>\n",
       "  </thead>\n",
       "  <tbody>\n",
       "    <tr>\n",
       "      <th>0</th>\n",
       "      <td>2000-12-01</td>\n",
       "      <td>3.58</td>\n",
       "      <td>14.1</td>\n",
       "      <td>16.1</td>\n",
       "    </tr>\n",
       "    <tr>\n",
       "      <th>1</th>\n",
       "      <td>2000-12-02</td>\n",
       "      <td>2.91</td>\n",
       "      <td>8.1</td>\n",
       "      <td>8.9</td>\n",
       "    </tr>\n",
       "    <tr>\n",
       "      <th>2</th>\n",
       "      <td>2000-12-03</td>\n",
       "      <td>3.80</td>\n",
       "      <td>13.0</td>\n",
       "      <td>14.1</td>\n",
       "    </tr>\n",
       "    <tr>\n",
       "      <th>3</th>\n",
       "      <td>2000-12-04</td>\n",
       "      <td>2.91</td>\n",
       "      <td>8.9</td>\n",
       "      <td>10.1</td>\n",
       "    </tr>\n",
       "    <tr>\n",
       "      <th>4</th>\n",
       "      <td>2000-12-05</td>\n",
       "      <td>4.03</td>\n",
       "      <td>10.1</td>\n",
       "      <td>12.1</td>\n",
       "    </tr>\n",
       "  </tbody>\n",
       "</table>\n",
       "</div>"
      ],
      "text/plain": [
       "         date  avg_daily_wind_speed  fastest_2_min_speed  fastest_5_min_speed\n",
       "0  2000-12-01                  3.58                 14.1                 16.1\n",
       "1  2000-12-02                  2.91                  8.1                  8.9\n",
       "2  2000-12-03                  3.80                 13.0                 14.1\n",
       "3  2000-12-04                  2.91                  8.9                 10.1\n",
       "4  2000-12-05                  4.03                 10.1                 12.1"
      ]
     },
     "execution_count": 5,
     "metadata": {},
     "output_type": "execute_result"
    }
   ],
   "source": [
    "wind_df = wind_df[['date', 'avg_daily_wind_speed', 'fastest_2_min_speed', 'fastest_5_min_speed']]\n",
    "wind_df.head()"
   ]
  },
  {
   "cell_type": "markdown",
   "metadata": {},
   "source": [
    "## Write to database"
   ]
  },
  {
   "cell_type": "code",
   "execution_count": 6,
   "metadata": {},
   "outputs": [
    {
     "name": "stderr",
     "output_type": "stream",
     "text": [
      "/anaconda3/lib/python3.6/site-packages/pymysql/cursors.py:170: Warning: (3719, \"'utf8' is currently an alias for the character set UTF8MB3, but will be an alias for UTF8MB4 in a future release. Please consider using UTF8MB4 in order to be unambiguous.\")\n",
      "  result = self._query(query)\n"
     ]
    }
   ],
   "source": [
    "rds_connection_string = \"root:12345678@127.0.0.1/fires\"\n",
    "engine = create_engine(f'mysql+pymysql://{rds_connection_string}')\n",
    "wind_df.to_sql(name=\"wind_data\", con=engine, if_exists=\"replace\", index=True)\n",
    "    "
   ]
  },
  {
   "cell_type": "code",
   "execution_count": null,
   "metadata": {},
   "outputs": [],
   "source": []
  }
 ],
 "metadata": {
  "kernelspec": {
   "display_name": "Python 3",
   "language": "python",
   "name": "python3"
  },
  "language_info": {
   "codemirror_mode": {
    "name": "ipython",
    "version": 3
   },
   "file_extension": ".py",
   "mimetype": "text/x-python",
   "name": "python",
   "nbconvert_exporter": "python",
   "pygments_lexer": "ipython3",
   "version": "3.6.5"
  }
 },
 "nbformat": 4,
 "nbformat_minor": 2
}
