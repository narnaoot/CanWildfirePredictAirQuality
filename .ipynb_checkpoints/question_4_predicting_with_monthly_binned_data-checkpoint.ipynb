{
 "cells": [
  {
   "cell_type": "markdown",
   "metadata": {},
   "source": [
    "## Question : Given the total number of acres burned by fires in California each month, binned by distance from SF, can we predict the air quality in SF on the date that they are contained?"
   ]
  },
  {
   "cell_type": "code",
   "execution_count": 25,
   "metadata": {},
   "outputs": [],
   "source": [
    "from sqlalchemy import create_engine\n",
    "from sklearn.datasets import make_regression\n",
    "from sklearn.model_selection import train_test_split\n",
    "from sklearn.linear_model import LinearRegression\n",
    "from sklearn.neighbors import KNeighborsRegressor\n",
    "from sklearn.ensemble import GradientBoostingRegressor, RandomForestRegressor\n",
    "\n",
    "from sklearn.decomposition import PCA\n",
    "from sklearn.cluster import KMeans\n",
    "\n",
    "\n",
    "import pandas as pd\n",
    "import numpy as np\n",
    "import datetime\n",
    "\n",
    "\n",
    "%matplotlib inline\n",
    "import matplotlib.pyplot as plt"
   ]
  },
  {
   "cell_type": "code",
   "execution_count": 7,
   "metadata": {},
   "outputs": [],
   "source": [
    "rds_connection_string = \"root:12345678@127.0.0.1/fires\"\n",
    "engine = create_engine(f'mysql+pymysql://{rds_connection_string}')"
   ]
  },
  {
   "cell_type": "code",
   "execution_count": 8,
   "metadata": {},
   "outputs": [
    {
     "name": "stderr",
     "output_type": "stream",
     "text": [
      "/anaconda3/lib/python3.6/site-packages/pymysql/cursors.py:170: Warning: (3719, \"'utf8' is currently an alias for the character set UTF8MB3, but will be an alias for UTF8MB4 in a future release. Please consider using UTF8MB4 in order to be unambiguous.\")\n",
      "  result = self._query(query)\n"
     ]
    },
    {
     "data": {
      "text/html": [
       "<div>\n",
       "<style scoped>\n",
       "    .dataframe tbody tr th:only-of-type {\n",
       "        vertical-align: middle;\n",
       "    }\n",
       "\n",
       "    .dataframe tbody tr th {\n",
       "        vertical-align: top;\n",
       "    }\n",
       "\n",
       "    .dataframe thead th {\n",
       "        text-align: right;\n",
       "    }\n",
       "</style>\n",
       "<table border=\"1\" class=\"dataframe\">\n",
       "  <thead>\n",
       "    <tr style=\"text-align: right;\">\n",
       "      <th></th>\n",
       "      <th>date</th>\n",
       "      <th>bigger then 300</th>\n",
       "      <th>within 100</th>\n",
       "      <th>within 150</th>\n",
       "      <th>within 200</th>\n",
       "      <th>within 250</th>\n",
       "      <th>within 300</th>\n",
       "      <th>within 50</th>\n",
       "      <th>mean_aqi</th>\n",
       "      <th>max_aqi</th>\n",
       "      <th>min_aqi</th>\n",
       "    </tr>\n",
       "  </thead>\n",
       "  <tbody>\n",
       "    <tr>\n",
       "      <th>0</th>\n",
       "      <td>2001-01-31</td>\n",
       "      <td>10399.4</td>\n",
       "      <td>0.1</td>\n",
       "      <td>40.3</td>\n",
       "      <td>20.6</td>\n",
       "      <td>86.5</td>\n",
       "      <td>4.0</td>\n",
       "      <td>0.1</td>\n",
       "      <td>100.569620</td>\n",
       "      <td>158</td>\n",
       "      <td>25</td>\n",
       "    </tr>\n",
       "    <tr>\n",
       "      <th>1</th>\n",
       "      <td>2001-02-28</td>\n",
       "      <td>6.3</td>\n",
       "      <td>1.2</td>\n",
       "      <td>1.3</td>\n",
       "      <td>0.1</td>\n",
       "      <td>76.4</td>\n",
       "      <td>0.1</td>\n",
       "      <td>0.2</td>\n",
       "      <td>44.411765</td>\n",
       "      <td>117</td>\n",
       "      <td>30</td>\n",
       "    </tr>\n",
       "    <tr>\n",
       "      <th>2</th>\n",
       "      <td>2001-03-31</td>\n",
       "      <td>202.3</td>\n",
       "      <td>0.8</td>\n",
       "      <td>54.7</td>\n",
       "      <td>12.5</td>\n",
       "      <td>15.7</td>\n",
       "      <td>2.2</td>\n",
       "      <td>5.0</td>\n",
       "      <td>39.555556</td>\n",
       "      <td>66</td>\n",
       "      <td>22</td>\n",
       "    </tr>\n",
       "    <tr>\n",
       "      <th>3</th>\n",
       "      <td>2001-04-30</td>\n",
       "      <td>33.1</td>\n",
       "      <td>1.2</td>\n",
       "      <td>21.6</td>\n",
       "      <td>19.0</td>\n",
       "      <td>13.3</td>\n",
       "      <td>4.5</td>\n",
       "      <td>0.0</td>\n",
       "      <td>37.675325</td>\n",
       "      <td>49</td>\n",
       "      <td>23</td>\n",
       "    </tr>\n",
       "    <tr>\n",
       "      <th>4</th>\n",
       "      <td>2001-05-31</td>\n",
       "      <td>109.8</td>\n",
       "      <td>68.9</td>\n",
       "      <td>1156.0</td>\n",
       "      <td>526.5</td>\n",
       "      <td>988.1</td>\n",
       "      <td>1963.1</td>\n",
       "      <td>0.3</td>\n",
       "      <td>39.112532</td>\n",
       "      <td>67</td>\n",
       "      <td>24</td>\n",
       "    </tr>\n",
       "  </tbody>\n",
       "</table>\n",
       "</div>"
      ],
      "text/plain": [
       "        date  bigger then 300  within 100  within 150  within 200  within 250  \\\n",
       "0 2001-01-31          10399.4         0.1        40.3        20.6        86.5   \n",
       "1 2001-02-28              6.3         1.2         1.3         0.1        76.4   \n",
       "2 2001-03-31            202.3         0.8        54.7        12.5        15.7   \n",
       "3 2001-04-30             33.1         1.2        21.6        19.0        13.3   \n",
       "4 2001-05-31            109.8        68.9      1156.0       526.5       988.1   \n",
       "\n",
       "   within 300  within 50    mean_aqi  max_aqi  min_aqi  \n",
       "0         4.0        0.1  100.569620      158       25  \n",
       "1         0.1        0.2   44.411765      117       30  \n",
       "2         2.2        5.0   39.555556       66       22  \n",
       "3         4.5        0.0   37.675325       49       23  \n",
       "4      1963.1        0.3   39.112532       67       24  "
      ]
     },
     "execution_count": 8,
     "metadata": {},
     "output_type": "execute_result"
    }
   ],
   "source": [
    "data = pd.read_sql(\"select * from final_binned_monthly_data\", con=engine)\n",
    "data.head()"
   ]
  },
  {
   "cell_type": "code",
   "execution_count": 9,
   "metadata": {},
   "outputs": [
    {
     "data": {
      "text/html": [
       "<div>\n",
       "<style scoped>\n",
       "    .dataframe tbody tr th:only-of-type {\n",
       "        vertical-align: middle;\n",
       "    }\n",
       "\n",
       "    .dataframe tbody tr th {\n",
       "        vertical-align: top;\n",
       "    }\n",
       "\n",
       "    .dataframe thead th {\n",
       "        text-align: right;\n",
       "    }\n",
       "</style>\n",
       "<table border=\"1\" class=\"dataframe\">\n",
       "  <thead>\n",
       "    <tr style=\"text-align: right;\">\n",
       "      <th></th>\n",
       "      <th>bigger then 300</th>\n",
       "      <th>within 100</th>\n",
       "      <th>within 150</th>\n",
       "      <th>within 200</th>\n",
       "      <th>within 250</th>\n",
       "      <th>within 300</th>\n",
       "      <th>within 50</th>\n",
       "      <th>mean_aqi</th>\n",
       "      <th>max_aqi</th>\n",
       "      <th>min_aqi</th>\n",
       "    </tr>\n",
       "  </thead>\n",
       "  <tbody>\n",
       "    <tr>\n",
       "      <th>count</th>\n",
       "      <td>168.000000</td>\n",
       "      <td>168.000000</td>\n",
       "      <td>168.000000</td>\n",
       "      <td>168.000000</td>\n",
       "      <td>168.000000</td>\n",
       "      <td>168.000000</td>\n",
       "      <td>168.000000</td>\n",
       "      <td>168.000000</td>\n",
       "      <td>168.000000</td>\n",
       "      <td>168.000000</td>\n",
       "    </tr>\n",
       "    <tr>\n",
       "      <th>mean</th>\n",
       "      <td>14522.743512</td>\n",
       "      <td>1228.588036</td>\n",
       "      <td>5970.511845</td>\n",
       "      <td>4765.250595</td>\n",
       "      <td>9371.255893</td>\n",
       "      <td>7510.062917</td>\n",
       "      <td>50.559881</td>\n",
       "      <td>48.540700</td>\n",
       "      <td>85.833333</td>\n",
       "      <td>26.125000</td>\n",
       "    </tr>\n",
       "    <tr>\n",
       "      <th>std</th>\n",
       "      <td>56025.184546</td>\n",
       "      <td>5167.199429</td>\n",
       "      <td>30320.609036</td>\n",
       "      <td>14398.544164</td>\n",
       "      <td>34889.930320</td>\n",
       "      <td>26287.039135</td>\n",
       "      <td>268.017592</td>\n",
       "      <td>12.515171</td>\n",
       "      <td>28.118583</td>\n",
       "      <td>7.288074</td>\n",
       "    </tr>\n",
       "    <tr>\n",
       "      <th>min</th>\n",
       "      <td>1.200000</td>\n",
       "      <td>0.000000</td>\n",
       "      <td>0.000000</td>\n",
       "      <td>0.000000</td>\n",
       "      <td>0.000000</td>\n",
       "      <td>0.000000</td>\n",
       "      <td>0.000000</td>\n",
       "      <td>22.604113</td>\n",
       "      <td>47.000000</td>\n",
       "      <td>9.000000</td>\n",
       "    </tr>\n",
       "    <tr>\n",
       "      <th>25%</th>\n",
       "      <td>42.815000</td>\n",
       "      <td>0.745000</td>\n",
       "      <td>7.450000</td>\n",
       "      <td>4.637500</td>\n",
       "      <td>10.082500</td>\n",
       "      <td>3.462500</td>\n",
       "      <td>0.000000</td>\n",
       "      <td>40.263540</td>\n",
       "      <td>64.000000</td>\n",
       "      <td>21.000000</td>\n",
       "    </tr>\n",
       "    <tr>\n",
       "      <th>50%</th>\n",
       "      <td>814.650000</td>\n",
       "      <td>13.400000</td>\n",
       "      <td>118.200000</td>\n",
       "      <td>83.445000</td>\n",
       "      <td>228.310000</td>\n",
       "      <td>154.000000</td>\n",
       "      <td>0.200000</td>\n",
       "      <td>47.691454</td>\n",
       "      <td>76.000000</td>\n",
       "      <td>26.000000</td>\n",
       "    </tr>\n",
       "    <tr>\n",
       "      <th>75%</th>\n",
       "      <td>4677.832500</td>\n",
       "      <td>260.637500</td>\n",
       "      <td>1600.315000</td>\n",
       "      <td>1725.162500</td>\n",
       "      <td>2586.555000</td>\n",
       "      <td>2833.250000</td>\n",
       "      <td>5.905000</td>\n",
       "      <td>55.430723</td>\n",
       "      <td>102.250000</td>\n",
       "      <td>31.000000</td>\n",
       "    </tr>\n",
       "    <tr>\n",
       "      <th>max</th>\n",
       "      <td>560117.560000</td>\n",
       "      <td>47822.400000</td>\n",
       "      <td>283772.280000</td>\n",
       "      <td>107166.610000</td>\n",
       "      <td>315945.090000</td>\n",
       "      <td>189488.650000</td>\n",
       "      <td>3180.740000</td>\n",
       "      <td>100.569620</td>\n",
       "      <td>179.000000</td>\n",
       "      <td>50.000000</td>\n",
       "    </tr>\n",
       "  </tbody>\n",
       "</table>\n",
       "</div>"
      ],
      "text/plain": [
       "       bigger then 300    within 100     within 150     within 200  \\\n",
       "count       168.000000    168.000000     168.000000     168.000000   \n",
       "mean      14522.743512   1228.588036    5970.511845    4765.250595   \n",
       "std       56025.184546   5167.199429   30320.609036   14398.544164   \n",
       "min           1.200000      0.000000       0.000000       0.000000   \n",
       "25%          42.815000      0.745000       7.450000       4.637500   \n",
       "50%         814.650000     13.400000     118.200000      83.445000   \n",
       "75%        4677.832500    260.637500    1600.315000    1725.162500   \n",
       "max      560117.560000  47822.400000  283772.280000  107166.610000   \n",
       "\n",
       "          within 250     within 300    within 50    mean_aqi     max_aqi  \\\n",
       "count     168.000000     168.000000   168.000000  168.000000  168.000000   \n",
       "mean     9371.255893    7510.062917    50.559881   48.540700   85.833333   \n",
       "std     34889.930320   26287.039135   268.017592   12.515171   28.118583   \n",
       "min         0.000000       0.000000     0.000000   22.604113   47.000000   \n",
       "25%        10.082500       3.462500     0.000000   40.263540   64.000000   \n",
       "50%       228.310000     154.000000     0.200000   47.691454   76.000000   \n",
       "75%      2586.555000    2833.250000     5.905000   55.430723  102.250000   \n",
       "max    315945.090000  189488.650000  3180.740000  100.569620  179.000000   \n",
       "\n",
       "          min_aqi  \n",
       "count  168.000000  \n",
       "mean    26.125000  \n",
       "std      7.288074  \n",
       "min      9.000000  \n",
       "25%     21.000000  \n",
       "50%     26.000000  \n",
       "75%     31.000000  \n",
       "max     50.000000  "
      ]
     },
     "execution_count": 9,
     "metadata": {},
     "output_type": "execute_result"
    }
   ],
   "source": [
    "data.describe()"
   ]
  },
  {
   "cell_type": "code",
   "execution_count": 10,
   "metadata": {},
   "outputs": [],
   "source": [
    "data = data.fillna(0)"
   ]
  },
  {
   "cell_type": "markdown",
   "metadata": {},
   "source": [
    "### Supervised machine learning"
   ]
  },
  {
   "cell_type": "markdown",
   "metadata": {},
   "source": [
    "#### Preparing the data"
   ]
  },
  {
   "cell_type": "code",
   "execution_count": 16,
   "metadata": {},
   "outputs": [
    {
     "data": {
      "text/html": [
       "<div>\n",
       "<style scoped>\n",
       "    .dataframe tbody tr th:only-of-type {\n",
       "        vertical-align: middle;\n",
       "    }\n",
       "\n",
       "    .dataframe tbody tr th {\n",
       "        vertical-align: top;\n",
       "    }\n",
       "\n",
       "    .dataframe thead th {\n",
       "        text-align: right;\n",
       "    }\n",
       "</style>\n",
       "<table border=\"1\" class=\"dataframe\">\n",
       "  <thead>\n",
       "    <tr style=\"text-align: right;\">\n",
       "      <th></th>\n",
       "      <th>date</th>\n",
       "      <th>bigger then 300</th>\n",
       "      <th>within 100</th>\n",
       "      <th>within 150</th>\n",
       "      <th>within 200</th>\n",
       "      <th>within 250</th>\n",
       "      <th>within 300</th>\n",
       "      <th>within 50</th>\n",
       "      <th>mean_aqi</th>\n",
       "      <th>max_aqi</th>\n",
       "      <th>min_aqi</th>\n",
       "    </tr>\n",
       "  </thead>\n",
       "  <tbody>\n",
       "    <tr>\n",
       "      <th>0</th>\n",
       "      <td>2001-01-31</td>\n",
       "      <td>10399.4</td>\n",
       "      <td>0.1</td>\n",
       "      <td>40.3</td>\n",
       "      <td>20.6</td>\n",
       "      <td>86.5</td>\n",
       "      <td>4.0</td>\n",
       "      <td>0.1</td>\n",
       "      <td>100.569620</td>\n",
       "      <td>158</td>\n",
       "      <td>25</td>\n",
       "    </tr>\n",
       "    <tr>\n",
       "      <th>1</th>\n",
       "      <td>2001-02-28</td>\n",
       "      <td>6.3</td>\n",
       "      <td>1.2</td>\n",
       "      <td>1.3</td>\n",
       "      <td>0.1</td>\n",
       "      <td>76.4</td>\n",
       "      <td>0.1</td>\n",
       "      <td>0.2</td>\n",
       "      <td>44.411765</td>\n",
       "      <td>117</td>\n",
       "      <td>30</td>\n",
       "    </tr>\n",
       "    <tr>\n",
       "      <th>2</th>\n",
       "      <td>2001-03-31</td>\n",
       "      <td>202.3</td>\n",
       "      <td>0.8</td>\n",
       "      <td>54.7</td>\n",
       "      <td>12.5</td>\n",
       "      <td>15.7</td>\n",
       "      <td>2.2</td>\n",
       "      <td>5.0</td>\n",
       "      <td>39.555556</td>\n",
       "      <td>66</td>\n",
       "      <td>22</td>\n",
       "    </tr>\n",
       "    <tr>\n",
       "      <th>3</th>\n",
       "      <td>2001-04-30</td>\n",
       "      <td>33.1</td>\n",
       "      <td>1.2</td>\n",
       "      <td>21.6</td>\n",
       "      <td>19.0</td>\n",
       "      <td>13.3</td>\n",
       "      <td>4.5</td>\n",
       "      <td>0.0</td>\n",
       "      <td>37.675325</td>\n",
       "      <td>49</td>\n",
       "      <td>23</td>\n",
       "    </tr>\n",
       "    <tr>\n",
       "      <th>4</th>\n",
       "      <td>2001-05-31</td>\n",
       "      <td>109.8</td>\n",
       "      <td>68.9</td>\n",
       "      <td>1156.0</td>\n",
       "      <td>526.5</td>\n",
       "      <td>988.1</td>\n",
       "      <td>1963.1</td>\n",
       "      <td>0.3</td>\n",
       "      <td>39.112532</td>\n",
       "      <td>67</td>\n",
       "      <td>24</td>\n",
       "    </tr>\n",
       "  </tbody>\n",
       "</table>\n",
       "</div>"
      ],
      "text/plain": [
       "        date  bigger then 300  within 100  within 150  within 200  within 250  \\\n",
       "0 2001-01-31          10399.4         0.1        40.3        20.6        86.5   \n",
       "1 2001-02-28              6.3         1.2         1.3         0.1        76.4   \n",
       "2 2001-03-31            202.3         0.8        54.7        12.5        15.7   \n",
       "3 2001-04-30             33.1         1.2        21.6        19.0        13.3   \n",
       "4 2001-05-31            109.8        68.9      1156.0       526.5       988.1   \n",
       "\n",
       "   within 300  within 50    mean_aqi  max_aqi  min_aqi  \n",
       "0         4.0        0.1  100.569620      158       25  \n",
       "1         0.1        0.2   44.411765      117       30  \n",
       "2         2.2        5.0   39.555556       66       22  \n",
       "3         4.5        0.0   37.675325       49       23  \n",
       "4      1963.1        0.3   39.112532       67       24  "
      ]
     },
     "execution_count": 16,
     "metadata": {},
     "output_type": "execute_result"
    }
   ],
   "source": [
    "data.head()"
   ]
  },
  {
   "cell_type": "code",
   "execution_count": 17,
   "metadata": {},
   "outputs": [],
   "source": [
    "X = data.drop(['date', 'mean_aqi', 'max_aqi', 'min_aqi'],axis=1)"
   ]
  },
  {
   "cell_type": "code",
   "execution_count": 18,
   "metadata": {},
   "outputs": [
    {
     "name": "stdout",
     "output_type": "stream",
     "text": [
      "(168, 7) (168, 1)\n"
     ]
    }
   ],
   "source": [
    "y = data['min_aqi'].values.reshape(-1,1)\n",
    "print(X.shape, y.shape)"
   ]
  },
  {
   "cell_type": "code",
   "execution_count": 19,
   "metadata": {},
   "outputs": [],
   "source": [
    "X_train, X_test, y_train, y_test = train_test_split(X, y, random_state=42)"
   ]
  },
  {
   "cell_type": "markdown",
   "metadata": {},
   "source": [
    "#### Linear Regression"
   ]
  },
  {
   "cell_type": "code",
   "execution_count": 20,
   "metadata": {},
   "outputs": [],
   "source": [
    "model=LinearRegression()"
   ]
  },
  {
   "cell_type": "code",
   "execution_count": 21,
   "metadata": {},
   "outputs": [
    {
     "data": {
      "text/plain": [
       "LinearRegression(copy_X=True, fit_intercept=True, n_jobs=1, normalize=False)"
      ]
     },
     "execution_count": 21,
     "metadata": {},
     "output_type": "execute_result"
    }
   ],
   "source": [
    "model.fit(X_train, y_train)"
   ]
  },
  {
   "cell_type": "code",
   "execution_count": 22,
   "metadata": {},
   "outputs": [
    {
     "name": "stdout",
     "output_type": "stream",
     "text": [
      "Linear Regression Training Score: 0.10877606602061574\n",
      "Linear Regression Testing Score: -0.9739643950700602\n"
     ]
    }
   ],
   "source": [
    "model.fit(X_train, y_train)\n",
    "training_score = model.score(X_train, y_train)\n",
    "testing_score = model.score(X_test, y_test)\n",
    "\n",
    "\n",
    "\n",
    "print(f\"Linear Regression Training Score: {training_score}\")\n",
    "print(f\"Linear Regression Testing Score: {testing_score}\")"
   ]
  },
  {
   "cell_type": "code",
   "execution_count": 23,
   "metadata": {},
   "outputs": [
    {
     "data": {
      "text/plain": [
       "Text(0.5,1,'Residual Plot')"
      ]
     },
     "execution_count": 23,
     "metadata": {},
     "output_type": "execute_result"
    },
    {
     "data": {
      "image/png": "[encoded data removed]",
      "text/plain": [
       "<Figure size 432x288 with 1 Axes>"
      ]
     },
     "metadata": {},
     "output_type": "display_data"
    }
   ],
   "source": [
    "plt.scatter(model.predict(X_train), model.predict(X_train) - y_train, c=\"blue\", label=\"Training Data\")\n",
    "plt.scatter(model.predict(X_test), model.predict(X_test) - y_test, c=\"orange\", label=\"Testing Data\")\n",
    "plt.legend()\n",
    "plt.hlines(y=0, xmin=y.min(), xmax=y.max())\n",
    "plt.title(\"Residual Plot\")"
   ]
  },
  {
   "cell_type": "markdown",
   "metadata": {},
   "source": [
    "#### K Neighbords Regressor"
   ]
  },
  {
   "cell_type": "code",
   "execution_count": 26,
   "metadata": {},
   "outputs": [],
   "source": [
    "knr = KNeighborsRegressor(n_neighbors=10)"
   ]
  },
  {
   "cell_type": "code",
   "execution_count": 27,
   "metadata": {},
   "outputs": [
    {
     "data": {
      "text/plain": [
       "KNeighborsRegressor(algorithm='auto', leaf_size=30, metric='minkowski',\n",
       "          metric_params=None, n_jobs=1, n_neighbors=10, p=2,\n",
       "          weights='uniform')"
      ]
     },
     "execution_count": 27,
     "metadata": {},
     "output_type": "execute_result"
    }
   ],
   "source": [
    "knr.fit(X_train, y_train)"
   ]
  },
  {
   "cell_type": "code",
   "execution_count": 28,
   "metadata": {},
   "outputs": [
    {
     "name": "stdout",
     "output_type": "stream",
     "text": [
      "K Neighbords Regressor Training Score: 0.2761365639270713\n",
      "K Neighbords Regressor Testing Score: 0.08765590689503733\n"
     ]
    }
   ],
   "source": [
    "knr.fit(X_train, y_train)\n",
    "training_score = knr.score(X_train, y_train)\n",
    "testing_score = knr.score(X_test, y_test)\n",
    "\n",
    "\n",
    "\n",
    "print(f\"K Neighbords Regressor Training Score: {training_score}\")\n",
    "print(f\"K Neighbords Regressor Testing Score: {testing_score}\")"
   ]
  },
  {
   "cell_type": "markdown",
   "metadata": {},
   "source": [
    "#### Gradient Boosting Regressor"
   ]
  },
  {
   "cell_type": "code",
   "execution_count": 30,
   "metadata": {},
   "outputs": [],
   "source": [
    "gbr = GradientBoostingRegressor(n_estimators=200)"
   ]
  },
  {
   "cell_type": "code",
   "execution_count": 31,
   "metadata": {},
   "outputs": [
    {
     "name": "stdout",
     "output_type": "stream",
     "text": [
      "Gradient Boosting Regressor Training Score: 0.9929082986887423\n",
      "Gradient Boosting Regressor Testing Score: 0.04827763968843002\n"
     ]
    },
    {
     "name": "stderr",
     "output_type": "stream",
     "text": [
      "/anaconda3/lib/python3.6/site-packages/sklearn/utils/validation.py:578: DataConversionWarning: A column-vector y was passed when a 1d array was expected. Please change the shape of y to (n_samples, ), for example using ravel().\n",
      "  y = column_or_1d(y, warn=True)\n"
     ]
    }
   ],
   "source": [
    "gbr.fit(X_train, y_train)\n",
    "training_score = gbr.score(X_train, y_train)\n",
    "testing_score = gbr.score(X_test, y_test)\n",
    "\n",
    "\n",
    "\n",
    "print(f\"Gradient Boosting Regressor Training Score: {training_score}\")\n",
    "print(f\"Gradient Boosting Regressor Testing Score: {testing_score}\")"
   ]
  },
  {
   "cell_type": "markdown",
   "metadata": {},
   "source": [
    "#### Random Forest Regressor"
   ]
  },
  {
   "cell_type": "code",
   "execution_count": 33,
   "metadata": {},
   "outputs": [],
   "source": [
    "rfr = RandomForestRegressor(n_estimators=50)"
   ]
  },
  {
   "cell_type": "code",
   "execution_count": 34,
   "metadata": {},
   "outputs": [
    {
     "name": "stdout",
     "output_type": "stream",
     "text": [
      "Random Forest Regressor Training Score: 0.8648444073111831\n",
      "Random Forest Regressor Testing Score: 0.2805317303469478\n"
     ]
    },
    {
     "name": "stderr",
     "output_type": "stream",
     "text": [
      "/anaconda3/lib/python3.6/site-packages/ipykernel_launcher.py:1: DataConversionWarning: A column-vector y was passed when a 1d array was expected. Please change the shape of y to (n_samples,), for example using ravel().\n",
      "  \"\"\"Entry point for launching an IPython kernel.\n"
     ]
    }
   ],
   "source": [
    "rfr.fit(X_train, y_train)\n",
    "training_score = rfr.score(X_train, y_train)\n",
    "testing_score = rfr.score(X_test, y_test)\n",
    "\n",
    "\n",
    "\n",
    "print(f\"Random Forest Regressor Training Score: {training_score}\")\n",
    "print(f\"Random Forest Regressor Testing Score: {testing_score}\")"
   ]
  },
  {
   "cell_type": "markdown",
   "metadata": {},
   "source": [
    "## Unsupervised learning"
   ]
  },
  {
   "cell_type": "code",
   "execution_count": 35,
   "metadata": {},
   "outputs": [],
   "source": [
    "X = data.drop(['date'],axis=1)"
   ]
  },
  {
   "cell_type": "code",
   "execution_count": 36,
   "metadata": {},
   "outputs": [],
   "source": [
    "pca = PCA(n_components=2)"
   ]
  },
  {
   "cell_type": "code",
   "execution_count": 37,
   "metadata": {},
   "outputs": [
    {
     "data": {
      "text/plain": [
       "PCA(copy=True, iterated_power='auto', n_components=2, random_state=None,\n",
       "  svd_solver='auto', tol=0.0, whiten=False)"
      ]
     },
     "execution_count": 37,
     "metadata": {},
     "output_type": "execute_result"
    }
   ],
   "source": [
    "pca.fit(X)"
   ]
  },
  {
   "cell_type": "code",
   "execution_count": 38,
   "metadata": {},
   "outputs": [],
   "source": [
    "pca_data = pca.transform(X)"
   ]
  },
  {
   "cell_type": "code",
   "execution_count": 39,
   "metadata": {},
   "outputs": [],
   "source": [
    "kmeans= KMeans(n_clusters=2)"
   ]
  },
  {
   "cell_type": "code",
   "execution_count": 40,
   "metadata": {},
   "outputs": [
    {
     "data": {
      "text/plain": [
       "KMeans(algorithm='auto', copy_x=True, init='k-means++', max_iter=300,\n",
       "    n_clusters=2, n_init=10, n_jobs=1, precompute_distances='auto',\n",
       "    random_state=None, tol=0.0001, verbose=0)"
      ]
     },
     "execution_count": 40,
     "metadata": {},
     "output_type": "execute_result"
    }
   ],
   "source": [
    "kmeans.fit(X)"
   ]
  },
  {
   "cell_type": "code",
   "execution_count": 41,
   "metadata": {},
   "outputs": [
    {
     "data": {
      "text/plain": [
       "<matplotlib.collections.PathCollection at 0x1a1c4a82e8>"
      ]
     },
     "execution_count": 41,
     "metadata": {},
     "output_type": "execute_result"
    },
    {
     "data": {
      "image/png": "[encoded data removed]",
      "text/plain": [
       "<Figure size 432x288 with 1 Axes>"
      ]
     },
     "metadata": {},
     "output_type": "display_data"
    }
   ],
   "source": [
    "plt.scatter(pca_data[:,0],pca_data[:,1],c=kmeans.labels_)"
   ]
  },
  {
   "cell_type": "code",
   "execution_count": 42,
   "metadata": {},
   "outputs": [
    {
     "data": {
      "text/plain": [
       "array([[-3.90578397e+03, -1.36919147e+04],\n",
       "       [-1.42876245e+04, -1.39911898e+04],\n",
       "       [-1.40912696e+04, -1.40054728e+04],\n",
       "       [-1.42595451e+04, -1.40249455e+04],\n",
       "       [-1.41854499e+04, -1.20115309e+04],\n",
       "       [-1.14965252e+04, -1.07690565e+04],\n",
       "       [-1.07413404e+04, -6.30561867e+03],\n",
       "       [-1.14152868e+04,  7.93537999e+04],\n",
       "       [-1.42242013e+04,  1.45776227e+03],\n",
       "       [-7.10829243e+03, -1.06422166e+04],\n",
       "       [-1.40958053e+04, -1.40297818e+04],\n",
       "       [-1.30913139e+04, -1.39729653e+04],\n",
       "       [-1.41584495e+04, -1.40471817e+04],\n",
       "       [-1.15051112e+04, -1.39707305e+04],\n",
       "       [-1.15985047e+04, -1.31174798e+04],\n",
       "       [-1.32586975e+04, -1.39140706e+04],\n",
       "       [-6.17974417e+03, -1.34779671e+04],\n",
       "       [ 2.22701896e+04, -2.35672299e+02],\n",
       "       [-6.72506777e+03,  1.10060114e+04],\n",
       "       [ 5.58446237e+04,  3.47982843e+04],\n",
       "       [-5.23811372e+03, -1.12556473e+04],\n",
       "       [ 2.30814304e+04, -1.21460932e+04],\n",
       "       [-1.42973520e+04, -1.23454187e+04],\n",
       "       [-1.43437884e+04, -1.26525038e+04],\n",
       "       [-1.32202417e+04, -1.40231597e+04],\n",
       "       [-1.42871067e+04, -1.40455118e+04],\n",
       "       [-1.41833830e+04, -1.40283760e+04],\n",
       "       [-1.42672763e+04, -1.38625567e+04],\n",
       "       [-1.42163105e+04, -1.36669418e+04],\n",
       "       [-1.38550292e+04, -1.19582479e+04],\n",
       "       [ 1.61651944e+04,  3.12283438e+03],\n",
       "       [-1.31855574e+04, -9.95506092e+03],\n",
       "       [-1.33351718e+04,  1.63436084e+03],\n",
       "       [ 1.70711365e+05, -3.21636729e+03],\n",
       "       [ 5.45345175e+05,  1.53105346e+03],\n",
       "       [-1.42521215e+04, -7.63148933e+03],\n",
       "       [-1.42853445e+04, -1.40494088e+04],\n",
       "       [-1.41504993e+04, -1.40452481e+04],\n",
       "       [-1.39190765e+04, -1.39933412e+04],\n",
       "       [-1.19685737e+04, -1.36921097e+04],\n",
       "       [ 1.56586092e+04, -1.24805109e+04],\n",
       "       [-1.32682234e+04, -1.01057159e+04],\n",
       "       [ 2.15970491e+04, -1.59253635e+03],\n",
       "       [-1.23083062e+04,  1.56891203e+04],\n",
       "       [-1.08293389e+04, -1.26145378e+04],\n",
       "       [-1.48478192e+04,  1.46267325e+02],\n",
       "       [-1.42918696e+04, -1.39718976e+04],\n",
       "       [-1.42887488e+04, -1.40492076e+04],\n",
       "       [-1.42877629e+04, -1.40503992e+04],\n",
       "       [-1.42866175e+04, -1.40479444e+04],\n",
       "       [-1.42877820e+04, -1.40421108e+04],\n",
       "       [-1.42759006e+04, -1.39528632e+04],\n",
       "       [-1.37230237e+04, -1.36524330e+04],\n",
       "       [-4.05663527e+03, -1.20974279e+04],\n",
       "       [ 7.42231950e+04, -6.77071820e+03],\n",
       "       [-1.19645170e+04, -9.89367896e+03],\n",
       "       [-6.62934481e+03, -9.76669676e+03],\n",
       "       [ 2.32709939e+04, -1.22239550e+04],\n",
       "       [-1.42068945e+04, -1.13353692e+04],\n",
       "       [-1.42662172e+04, -1.40400959e+04],\n",
       "       [-1.37846692e+04, -1.40382125e+04],\n",
       "       [-3.62177087e+03, -1.37425966e+04],\n",
       "       [-1.42034173e+04, -1.32216966e+04],\n",
       "       [-1.42782715e+04, -1.40478089e+04],\n",
       "       [-1.34397406e+04, -1.09170720e+04],\n",
       "       [-1.35093067e+04, -5.44758547e+03],\n",
       "       [ 8.55725002e+04,  2.08497147e+04],\n",
       "       [-1.11150244e+04, -4.53011973e+03],\n",
       "       [ 1.64516703e+04,  6.26837593e+03],\n",
       "       [ 3.04977655e+04,  7.45657804e+04],\n",
       "       [-1.57387595e+04,  4.24082411e+04],\n",
       "       [-1.42901372e+04, -5.85114212e+03],\n",
       "       [-1.39638341e+04, -1.38344097e+04],\n",
       "       [-1.42713348e+04, -1.38901195e+04],\n",
       "       [-1.18132764e+04, -1.32009910e+04],\n",
       "       [-8.03633470e+03, -1.34780030e+04],\n",
       "       [-1.21797022e+04, -1.23473106e+04],\n",
       "       [-1.14343116e+04, -9.74452761e+03],\n",
       "       [-1.27884766e+04,  4.61171446e+03],\n",
       "       [-5.62424628e+03, -8.51624429e+03],\n",
       "       [-1.71434104e+04,  1.96306119e+05],\n",
       "       [ 3.32965394e+05, -4.48492833e+03],\n",
       "       [ 9.80899397e+04, -1.10964744e+04],\n",
       "       [ 3.50665012e+04, -1.05405996e+04],\n",
       "       [-1.42882901e+04, -1.40494728e+04],\n",
       "       [-1.42878053e+04, -1.40434266e+04],\n",
       "       [-1.42681448e+04, -1.34961981e+04],\n",
       "       [-1.37959511e+04, -1.39046984e+04],\n",
       "       [-1.23934495e+04, -1.38122717e+04],\n",
       "       [-1.34154222e+04,  5.78481219e+03],\n",
       "       [-2.00801631e+04,  2.38522401e+05],\n",
       "       [-1.52419669e+04,  4.36924131e+04],\n",
       "       [-1.43523020e+04,  5.50584857e+03],\n",
       "       [ 1.05523355e+04,  9.94517084e+04],\n",
       "       [ 2.70185567e+04, -4.15743221e+03],\n",
       "       [-1.47901739e+04,  2.77598194e+03],\n",
       "       [-1.42922662e+04, -1.39478210e+04],\n",
       "       [-1.42806750e+04, -1.40499410e+04],\n",
       "       [-1.42668934e+04, -1.39953508e+04],\n",
       "       [-1.36136087e+04, -1.39040506e+04],\n",
       "       [-1.37368017e+04, -1.10294937e+04],\n",
       "       [-1.29860207e+04, -1.32222355e+04],\n",
       "       [-1.02770942e+04, -7.91898948e+03],\n",
       "       [-1.42908201e+04,  7.99639622e+04],\n",
       "       [ 1.67406390e+05,  8.33781624e+03],\n",
       "       [-7.05215261e+03, -1.18389868e+04],\n",
       "       [-1.19618786e+04, -1.05613534e+04],\n",
       "       [-1.42539385e+04, -1.40446448e+04],\n",
       "       [-1.41810949e+04, -1.40491154e+04],\n",
       "       [-1.42905833e+04, -1.40524440e+04],\n",
       "       [-1.42898903e+04, -1.39606305e+04],\n",
       "       [-1.41508930e+04, -1.40456910e+04],\n",
       "       [-1.30923242e+04, -1.14652870e+04],\n",
       "       [-1.38404329e+04, -1.22550306e+04],\n",
       "       [-8.85423795e+03, -1.15888947e+04],\n",
       "       [ 2.25011926e+03,  3.08561402e+03],\n",
       "       [-1.29376721e+04, -1.00748770e+04],\n",
       "       [-1.44882817e+04, -5.67712895e+03],\n",
       "       [-1.41696201e+04, -1.25045925e+04],\n",
       "       [-1.42867417e+04, -1.40523199e+04],\n",
       "       [-1.42752774e+04, -1.40512656e+04],\n",
       "       [-1.42886852e+04, -1.40511170e+04],\n",
       "       [-1.42877636e+04, -1.33779988e+04],\n",
       "       [-1.41647940e+04, -1.40395921e+04],\n",
       "       [-1.24073675e+04, -1.33322471e+04],\n",
       "       [-1.29060158e+04, -5.23860078e+03],\n",
       "       [ 4.45433810e+02, -1.19372124e+04],\n",
       "       [-7.50747515e+03, -1.24242600e+04],\n",
       "       [-1.00967201e+04,  1.13782139e+04],\n",
       "       [-6.88508333e+03, -1.21103575e+04],\n",
       "       [-1.48412489e+04,  2.27586898e+03],\n",
       "       [-1.42980408e+04, -1.37099191e+04],\n",
       "       [-1.42494472e+04, -1.40317798e+04],\n",
       "       [-1.42853614e+04, -1.40429246e+04],\n",
       "       [-1.42783891e+04, -1.40342334e+04],\n",
       "       [-1.41162658e+04, -1.40372314e+04],\n",
       "       [-1.00627845e+04, -1.37428474e+04],\n",
       "       [-9.50461435e+03, -1.19508173e+04],\n",
       "       [-1.36886978e+04, -6.37356124e+03],\n",
       "       [ 1.48574280e+03,  8.09846305e+03],\n",
       "       [-1.29312887e+04,  3.85346509e+04],\n",
       "       [-1.91784823e+04,  2.92127554e+05],\n",
       "       [-1.39189268e+04, -1.36131128e+04],\n",
       "       [-1.42887389e+04, -1.40522282e+04],\n",
       "       [-1.42573343e+04, -1.40368253e+04],\n",
       "       [-1.42861817e+04, -1.40399513e+04],\n",
       "       [-1.38840520e+04, -1.39066709e+04],\n",
       "       [-1.34748411e+04, -1.37758129e+04],\n",
       "       [ 5.27836074e+04, -7.28654337e+03],\n",
       "       [-1.02283566e+04, -1.24126562e+04],\n",
       "       [-6.09208189e+03, -1.13100739e+04],\n",
       "       [ 8.72815494e+03, -6.22874950e+03],\n",
       "       [-1.35236272e+04, -2.74523473e+03],\n",
       "       [-1.95194852e+04,  1.47640425e+05],\n",
       "       [ 1.32092367e+04, -1.23378167e+04],\n",
       "       [-1.42775502e+04, -1.40444337e+04],\n",
       "       [-1.23004976e+04, -1.37569348e+04],\n",
       "       [-1.42572259e+04, -1.40472950e+04],\n",
       "       [-1.40416313e+04, -1.28029884e+04],\n",
       "       [-1.42659989e+04, -1.39721486e+04],\n",
       "       [-1.40732504e+04, -1.40043723e+04],\n",
       "       [-1.40284910e+04, -1.26755499e+04],\n",
       "       [-1.37050281e+04, -7.17027408e+03],\n",
       "       [-1.57352280e+04,  7.50508647e+04],\n",
       "       [-1.14128241e+04,  5.44343226e+04],\n",
       "       [-1.36251445e+04,  2.29672942e+03],\n",
       "       [-1.40615816e+04, -1.38675577e+04],\n",
       "       [-1.42837167e+04, -1.40382983e+04]])"
      ]
     },
     "execution_count": 42,
     "metadata": {},
     "output_type": "execute_result"
    }
   ],
   "source": [
    "pca_data"
   ]
  }
 ],
 "metadata": {
  "kernelspec": {
   "display_name": "Python 3",
   "language": "python",
   "name": "python3"
  },
  "language_info": {
   "codemirror_mode": {
    "name": "ipython",
    "version": 3
   },
   "file_extension": ".py",
   "mimetype": "text/x-python",
   "name": "python",
   "nbconvert_exporter": "python",
   "pygments_lexer": "ipython3",
   "version": "3.6.5"
  }
 },
 "nbformat": 4,
 "nbformat_minor": 2
}
