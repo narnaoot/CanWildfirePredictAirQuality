{
 "cells": [
  {
   "cell_type": "markdown",
   "metadata": {},
   "source": [
    "## Machine learning with acres only\n",
    "### Walks through different machine learning algorithms with acres only\n",
    "### Compares total acres data against first max_aqi, then min_aqi, then mean_aqi\n",
    "### We are now ignoring distance"
   ]
  },
  {
   "cell_type": "code",
   "execution_count": 1,
   "metadata": {},
   "outputs": [],
   "source": [
    "from sqlalchemy import create_engine\n",
    "from sklearn.datasets import make_regression\n",
    "from sklearn.model_selection import train_test_split\n",
    "from sklearn.linear_model import LinearRegression\n",
    "import pandas as pd\n",
    "import numpy as np\n",
    "import datetime\n",
    "\n",
    "\n",
    "%matplotlib inline\n",
    "import matplotlib.pyplot as plt"
   ]
  },
  {
   "cell_type": "code",
   "execution_count": 31,
   "metadata": {},
   "outputs": [],
   "source": [
    "rds_connection_string = \"root:12345678@127.0.0.1/fires\"\n",
    "engine = create_engine(f'mysql+pymysql://{rds_connection_string}')"
   ]
  },
  {
   "cell_type": "code",
   "execution_count": 32,
   "metadata": {},
   "outputs": [
    {
     "name": "stderr",
     "output_type": "stream",
     "text": [
      "/anaconda3/lib/python3.6/site-packages/pymysql/cursors.py:170: Warning: (3719, \"'utf8' is currently an alias for the character set UTF8MB3, but will be an alias for UTF8MB4 in a future release. Please consider using UTF8MB4 in order to be unambiguous.\")\n",
      "  result = self._query(query)\n"
     ]
    },
    {
     "data": {
      "text/html": [
       "<div>\n",
       "<style scoped>\n",
       "    .dataframe tbody tr th:only-of-type {\n",
       "        vertical-align: middle;\n",
       "    }\n",
       "\n",
       "    .dataframe tbody tr th {\n",
       "        vertical-align: top;\n",
       "    }\n",
       "\n",
       "    .dataframe thead th {\n",
       "        text-align: right;\n",
       "    }\n",
       "</style>\n",
       "<table border=\"1\" class=\"dataframe\">\n",
       "  <thead>\n",
       "    <tr style=\"text-align: right;\">\n",
       "      <th></th>\n",
       "      <th>date</th>\n",
       "      <th>size</th>\n",
       "      <th>mean_aqi</th>\n",
       "      <th>max_aqi</th>\n",
       "      <th>min_aqi</th>\n",
       "    </tr>\n",
       "  </thead>\n",
       "  <tbody>\n",
       "    <tr>\n",
       "      <th>0</th>\n",
       "      <td>2001-01-31</td>\n",
       "      <td>10551.0</td>\n",
       "      <td>100.569620</td>\n",
       "      <td>158</td>\n",
       "      <td>25</td>\n",
       "    </tr>\n",
       "    <tr>\n",
       "      <th>1</th>\n",
       "      <td>2001-02-28</td>\n",
       "      <td>85.6</td>\n",
       "      <td>44.411765</td>\n",
       "      <td>117</td>\n",
       "      <td>30</td>\n",
       "    </tr>\n",
       "    <tr>\n",
       "      <th>2</th>\n",
       "      <td>2001-03-31</td>\n",
       "      <td>293.2</td>\n",
       "      <td>39.555556</td>\n",
       "      <td>66</td>\n",
       "      <td>22</td>\n",
       "    </tr>\n",
       "    <tr>\n",
       "      <th>3</th>\n",
       "      <td>2001-04-30</td>\n",
       "      <td>92.7</td>\n",
       "      <td>37.675325</td>\n",
       "      <td>49</td>\n",
       "      <td>23</td>\n",
       "    </tr>\n",
       "    <tr>\n",
       "      <th>4</th>\n",
       "      <td>2001-05-31</td>\n",
       "      <td>4812.7</td>\n",
       "      <td>39.112532</td>\n",
       "      <td>67</td>\n",
       "      <td>24</td>\n",
       "    </tr>\n",
       "  </tbody>\n",
       "</table>\n",
       "</div>"
      ],
      "text/plain": [
       "        date     size    mean_aqi  max_aqi  min_aqi\n",
       "0 2001-01-31  10551.0  100.569620      158       25\n",
       "1 2001-02-28     85.6   44.411765      117       30\n",
       "2 2001-03-31    293.2   39.555556       66       22\n",
       "3 2001-04-30     92.7   37.675325       49       23\n",
       "4 2001-05-31   4812.7   39.112532       67       24"
      ]
     },
     "execution_count": 32,
     "metadata": {},
     "output_type": "execute_result"
    }
   ],
   "source": [
    "data = pd.read_sql(\"select * from final_acres where size > 10\", con=engine)\n",
    "data.head()"
   ]
  },
  {
   "cell_type": "code",
   "execution_count": 33,
   "metadata": {},
   "outputs": [
    {
     "data": {
      "text/html": [
       "<div>\n",
       "<style scoped>\n",
       "    .dataframe tbody tr th:only-of-type {\n",
       "        vertical-align: middle;\n",
       "    }\n",
       "\n",
       "    .dataframe tbody tr th {\n",
       "        vertical-align: top;\n",
       "    }\n",
       "\n",
       "    .dataframe thead th {\n",
       "        text-align: right;\n",
       "    }\n",
       "</style>\n",
       "<table border=\"1\" class=\"dataframe\">\n",
       "  <thead>\n",
       "    <tr style=\"text-align: right;\">\n",
       "      <th></th>\n",
       "      <th>size</th>\n",
       "      <th>mean_aqi</th>\n",
       "      <th>max_aqi</th>\n",
       "      <th>min_aqi</th>\n",
       "    </tr>\n",
       "  </thead>\n",
       "  <tbody>\n",
       "    <tr>\n",
       "      <th>count</th>\n",
       "      <td>164.000000</td>\n",
       "      <td>164.000000</td>\n",
       "      <td>164.000000</td>\n",
       "      <td>164.000000</td>\n",
       "    </tr>\n",
       "    <tr>\n",
       "      <th>mean</th>\n",
       "      <td>44477.864634</td>\n",
       "      <td>48.437536</td>\n",
       "      <td>86.036585</td>\n",
       "      <td>25.932927</td>\n",
       "    </tr>\n",
       "    <tr>\n",
       "      <th>std</th>\n",
       "      <td>94656.544004</td>\n",
       "      <td>12.621738</td>\n",
       "      <td>28.326512</td>\n",
       "      <td>7.257855</td>\n",
       "    </tr>\n",
       "    <tr>\n",
       "      <th>min</th>\n",
       "      <td>10.300000</td>\n",
       "      <td>22.604113</td>\n",
       "      <td>47.000000</td>\n",
       "      <td>9.000000</td>\n",
       "    </tr>\n",
       "    <tr>\n",
       "      <th>25%</th>\n",
       "      <td>507.940000</td>\n",
       "      <td>39.793144</td>\n",
       "      <td>64.000000</td>\n",
       "      <td>21.000000</td>\n",
       "    </tr>\n",
       "    <tr>\n",
       "      <th>50%</th>\n",
       "      <td>8174.305000</td>\n",
       "      <td>47.624022</td>\n",
       "      <td>76.000000</td>\n",
       "      <td>26.000000</td>\n",
       "    </tr>\n",
       "    <tr>\n",
       "      <th>75%</th>\n",
       "      <td>41304.180000</td>\n",
       "      <td>55.430723</td>\n",
       "      <td>103.500000</td>\n",
       "      <td>31.000000</td>\n",
       "    </tr>\n",
       "    <tr>\n",
       "      <th>max</th>\n",
       "      <td>564015.570000</td>\n",
       "      <td>100.569620</td>\n",
       "      <td>179.000000</td>\n",
       "      <td>50.000000</td>\n",
       "    </tr>\n",
       "  </tbody>\n",
       "</table>\n",
       "</div>"
      ],
      "text/plain": [
       "                size    mean_aqi     max_aqi     min_aqi\n",
       "count     164.000000  164.000000  164.000000  164.000000\n",
       "mean    44477.864634   48.437536   86.036585   25.932927\n",
       "std     94656.544004   12.621738   28.326512    7.257855\n",
       "min        10.300000   22.604113   47.000000    9.000000\n",
       "25%       507.940000   39.793144   64.000000   21.000000\n",
       "50%      8174.305000   47.624022   76.000000   26.000000\n",
       "75%     41304.180000   55.430723  103.500000   31.000000\n",
       "max    564015.570000  100.569620  179.000000   50.000000"
      ]
     },
     "execution_count": 33,
     "metadata": {},
     "output_type": "execute_result"
    }
   ],
   "source": [
    "data.describe()"
   ]
  },
  {
   "cell_type": "code",
   "execution_count": 34,
   "metadata": {},
   "outputs": [],
   "source": [
    "from sklearn.decomposition import PCA"
   ]
  },
  {
   "cell_type": "code",
   "execution_count": 35,
   "metadata": {},
   "outputs": [],
   "source": [
    "from sklearn.cluster import KMeans"
   ]
  },
  {
   "cell_type": "code",
   "execution_count": 36,
   "metadata": {},
   "outputs": [],
   "source": [
    "X = data.drop(['date'],axis=1)"
   ]
  },
  {
   "cell_type": "code",
   "execution_count": 37,
   "metadata": {},
   "outputs": [],
   "source": [
    "#X=data[['within 50', 'within 100', 'within 150', 'within 200', 'within 250', 'within 300', 'bigger then 300']]"
   ]
  },
  {
   "cell_type": "code",
   "execution_count": 38,
   "metadata": {},
   "outputs": [],
   "source": [
    "pca = PCA(n_components=2)"
   ]
  },
  {
   "cell_type": "code",
   "execution_count": 39,
   "metadata": {},
   "outputs": [
    {
     "data": {
      "text/plain": [
       "PCA(copy=True, iterated_power='auto', n_components=2, random_state=None,\n",
       "  svd_solver='auto', tol=0.0, whiten=False)"
      ]
     },
     "execution_count": 39,
     "metadata": {},
     "output_type": "execute_result"
    }
   ],
   "source": [
    "pca.fit(X)"
   ]
  },
  {
   "cell_type": "code",
   "execution_count": 40,
   "metadata": {},
   "outputs": [],
   "source": [
    "pca_data = pca.transform(X)"
   ]
  },
  {
   "cell_type": "code",
   "execution_count": 41,
   "metadata": {},
   "outputs": [],
   "source": [
    "kmeans= KMeans(n_clusters=2)"
   ]
  },
  {
   "cell_type": "code",
   "execution_count": 42,
   "metadata": {},
   "outputs": [
    {
     "data": {
      "text/plain": [
       "KMeans(algorithm='auto', copy_x=True, init='k-means++', max_iter=300,\n",
       "    n_clusters=2, n_init=10, n_jobs=1, precompute_distances='auto',\n",
       "    random_state=None, tol=0.0001, verbose=0)"
      ]
     },
     "execution_count": 42,
     "metadata": {},
     "output_type": "execute_result"
    }
   ],
   "source": [
    "kmeans.fit(X)"
   ]
  },
  {
   "cell_type": "code",
   "execution_count": 43,
   "metadata": {},
   "outputs": [
    {
     "data": {
      "text/plain": [
       "<matplotlib.collections.PathCollection at 0x10e2fc9e8>"
      ]
     },
     "execution_count": 43,
     "metadata": {},
     "output_type": "execute_result"
    },
    {
     "data": {
      "image/png": "[encoded data removed]",
      "text/plain": [
       "<Figure size 432x288 with 1 Axes>"
      ]
     },
     "metadata": {},
     "output_type": "display_data"
    }
   ],
   "source": [
    "plt.scatter(pca_data[:,0],pca_data[:,1],c=kmeans.labels_)"
   ]
  },
  {
   "cell_type": "code",
   "execution_count": 44,
   "metadata": {},
   "outputs": [
    {
     "data": {
      "text/plain": [
       "array([[-3.39268669e+04,  8.42908949e+01],\n",
       "       [-4.43922652e+04,  2.68477402e+01],\n",
       "       [-4.41846640e+04, -2.32028604e+01],\n",
       "       [-4.43851637e+04, -3.96811113e+01],\n",
       "       [-3.96651641e+04, -2.21430779e+01],\n",
       "       [-3.15250640e+04, -2.05852031e+01],\n",
       "       [-1.46406634e+04, -4.10199554e+01],\n",
       "       [ 1.32826837e+05, -3.85829133e+01],\n",
       "       [-2.90386382e+03, -2.70620747e+01],\n",
       "       [-2.65527645e+04, -9.77575837e+00],\n",
       "       [-4.41507653e+04,  2.79450430e+01],\n",
       "       [-4.30819643e+04, -1.13280242e+01],\n",
       "       [-4.43381655e+04,  3.76951133e+01],\n",
       "       [-4.16484653e+04,  2.74063447e+01],\n",
       "       [-4.06533641e+04, -2.20632760e+01],\n",
       "       [-4.32371639e+04, -3.17862877e+01],\n",
       "       [-3.52766638e+04, -3.42796665e+01],\n",
       "       [ 2.85643363e+04, -2.81611064e+01],\n",
       "       [ 2.42154365e+04, -3.67367649e+01],\n",
       "       [ 1.80130736e+05, -9.79445044e+00],\n",
       "       [-2.97318637e+04, -3.14518215e+01],\n",
       "       [-1.83466432e+03, -1.43633318e+01],\n",
       "       [-3.96037662e+04,  7.04448453e+01],\n",
       "       [-4.13163667e+04,  8.07201493e+01],\n",
       "       [-4.34005154e+04,  3.20954848e+01],\n",
       "       [-4.44555141e+04, -2.52336057e+01],\n",
       "       [-4.43082037e+04, -3.55001955e+01],\n",
       "       [-4.36926138e+04, -4.01265060e+01],\n",
       "       [-4.35384137e+04, -3.41557466e+01],\n",
       "       [-3.93801440e+04, -2.22101300e+01],\n",
       "       [ 2.62393566e+04, -4.17322526e+01],\n",
       "       [-3.47891035e+04, -3.95105581e+01],\n",
       "       [-3.26362390e+03, -2.41884258e+01],\n",
       "       [ 1.54389546e+05, -1.38518439e+01],\n",
       "       [ 5.19537705e+05,  2.93656736e+01],\n",
       "       [-3.04275149e+04,  1.07570384e+01],\n",
       "       [-4.44662161e+04,  6.35406240e+01],\n",
       "       [-4.43272147e+04,  1.14970382e-01],\n",
       "       [-4.39773648e+04, -1.27110037e+00],\n",
       "       [-4.14226243e+04, -1.95190585e+01],\n",
       "       [-1.20510139e+04, -2.64834145e+01],\n",
       "       [-3.24230244e+04, -1.15461717e+01],\n",
       "       [ 2.45570363e+04, -3.46493657e+01],\n",
       "       [ 9.48096359e+02, -3.64580821e+01],\n",
       "       [-2.57160141e+04, -2.00213394e+01],\n",
       "       [-1.41162141e+04, -1.91439097e+01],\n",
       "       [-4.42333657e+04,  4.93725641e+01],\n",
       "       [-4.44670953e+04,  2.09745385e+01],\n",
       "       [-4.44675656e+04,  3.48682222e+01],\n",
       "       [-4.44639653e+04,  3.21261251e+01],\n",
       "       [-4.44449142e+04, -2.49771173e+01],\n",
       "       [-4.43242538e+04, -3.96539521e+01],\n",
       "       [-4.30970839e+04, -3.24995088e+01],\n",
       "       [-3.05028937e+04, -3.40063009e+01],\n",
       "       [ 5.48473263e+04, -3.32930094e+01],\n",
       "       [-3.37223138e+04, -2.90194085e+01],\n",
       "       [-2.21512940e+04, -2.35702662e+01],\n",
       "       [-4.27046391e+03, -2.63693145e+01],\n",
       "       [-3.67654746e+04,  9.08409620e-02],\n",
       "       [-4.44251555e+04,  3.55585214e+01],\n",
       "       [-4.39674443e+04, -1.57852688e+01],\n",
       "       [-3.37289549e+04,  8.11563458e+00],\n",
       "       [-4.16450636e+04, -4.02740476e+01],\n",
       "       [-4.44530241e+04, -2.47874110e+01],\n",
       "       [-3.75280742e+04, -1.68591616e+01],\n",
       "       [-3.05111539e+04, -2.43532789e+01],\n",
       "       [ 1.59572306e+05, -2.19765612e+01],\n",
       "       [-1.58421738e+04, -3.15488547e+01],\n",
       "       [ 2.56053157e+04, -1.30380215e+01],\n",
       "       [ 2.31468695e+05,  2.05019643e+01],\n",
       "       [ 2.72826655e+04, -7.82065338e-01],\n",
       "       [-3.14431760e+04,  6.29131921e+01],\n",
       "       [-4.35669355e+04,  3.80769543e+01],\n",
       "       [-4.42362654e+04,  3.62423683e+01],\n",
       "       [-4.08247739e+04, -3.12548330e+01],\n",
       "       [-3.68657440e+04, -2.34505077e+01],\n",
       "       [-3.76838237e+04, -3.40763528e+01],\n",
       "       [-3.14326139e+04, -2.46246078e+01],\n",
       "       [ 6.97541635e+03, -3.30032793e+01],\n",
       "       [-1.80110437e+04, -3.44984479e+01],\n",
       "       [ 3.17486706e+05, -1.17221802e+01],\n",
       "       [ 3.04108506e+05, -1.29733132e+01],\n",
       "       [ 6.82128254e+04, -9.93401539e-01],\n",
       "       [ 9.96379585e+03, -1.94404028e+01],\n",
       "       [-4.44645647e+04,  3.16637509e+00],\n",
       "       [-4.44594142e+04, -2.19439186e+01],\n",
       "       [-4.37253439e+04, -3.06198969e+01],\n",
       "       [-4.36587948e+04,  7.37587548e-01],\n",
       "       [-4.20922742e+04, -2.34880499e+01],\n",
       "       [ 2.93457755e+04, -3.63301874e+00],\n",
       "       [ 4.55111045e+05,  5.23813000e+00],\n",
       "       [ 1.15934126e+05, -2.13980658e+01],\n",
       "       [ 1.55614553e+03, -1.12427857e+01],\n",
       "       [ 2.55803205e+05, -2.65969844e+00],\n",
       "       [ 3.14981646e+04,  2.90005745e+01],\n",
       "       [-2.20994952e+04,  1.60877508e+01],\n",
       "       [-4.43055560e+04,  5.40306844e+01],\n",
       "       [-4.44620052e+04,  2.02108427e+01],\n",
       "       [-4.43716541e+04, -2.42464745e+01],\n",
       "       [-4.33671543e+04, -2.03268286e+01],\n",
       "       [-3.40430244e+04, -1.47501719e+01],\n",
       "       [-3.86716244e+04, -9.35020587e+00],\n",
       "       [-2.73790842e+04, -1.66010940e+01],\n",
       "       [ 8.31697356e+04, -5.68605490e+00],\n",
       "       [ 1.67972545e+05, -5.05592792e+00],\n",
       "       [-3.28347541e+04, -2.35554861e+01],\n",
       "       [-3.68329744e+04, -1.18650572e+01],\n",
       "       [-4.44255249e+04,  5.56189010e+00],\n",
       "       [-4.43654462e+04,  5.17420121e+01],\n",
       "       [-4.43433944e+04, -1.70018860e+01],\n",
       "       [-4.43290446e+04, -8.88732016e+00],\n",
       "       [-3.94454042e+04, -2.15490988e+01],\n",
       "       [-4.05823145e+04, -1.05281008e+01],\n",
       "       [-3.18636345e+04, -9.46152380e+00],\n",
       "       [ 1.05356135e+04,  8.92629688e+01],\n",
       "       [-3.10297257e+04,  4.52147169e+01],\n",
       "       [-3.35254654e+04,  2.79061472e+01],\n",
       "       [-4.08097947e+04, -2.58106412e+00],\n",
       "       [-4.44586453e+04,  9.39206779e+00],\n",
       "       [-4.35996547e+04,  1.90740185e+00],\n",
       "       [-4.43317944e+04, -1.27542089e+01],\n",
       "       [-4.08894348e+04,  3.40815204e+00],\n",
       "       [-2.97235958e+04,  5.71170638e+01],\n",
       "       [-2.54477454e+04,  3.92167054e+01],\n",
       "       [-3.52932252e+04,  3.18900133e+01],\n",
       "       [ 2.90100544e+04,  4.22898495e+01],\n",
       "       [-3.20751945e+04, -3.51606275e+00],\n",
       "       [-2.36783248e+04,  4.08108074e+00],\n",
       "       [-4.37435359e+04,  5.16984348e+01],\n",
       "       [-4.43779053e+04,  1.99183950e+01],\n",
       "       [-4.44520744e+04, -1.06592639e+01],\n",
       "       [-4.44143643e+04, -1.53803826e+01],\n",
       "       [-4.42744743e+04, -1.64229696e+01],\n",
       "       [-3.94491051e+04,  1.47557887e+01],\n",
       "       [-3.58416443e+04, -1.37276157e+01],\n",
       "       [-2.67328861e+04,  7.06081114e+01],\n",
       "       [ 3.32462644e+04,  4.40261192e+01],\n",
       "       [ 5.93932847e+04,  2.37430298e+01],\n",
       "       [ 4.55613325e+05,  2.14481855e+01],\n",
       "       [-4.23767850e+04,  8.53208513e+00],\n",
       "       [-4.44185053e+04,  1.81157461e+01],\n",
       "       [-4.44506248e+04,  2.26178580e-01],\n",
       "       [-4.36006142e+04, -2.41948034e+01],\n",
       "       [-4.29170347e+04, -3.72555237e+00],\n",
       "       [ 4.06302145e+04,  3.27570815e+01],\n",
       "       [-3.56938554e+04,  3.42040917e+01],\n",
       "       [-2.79627751e+04,  1.43287446e+01],\n",
       "       [ 1.87645570e+03, -1.35613412e+01],\n",
       "       [ 1.37978652e+04,  6.92200641e+00],\n",
       "       [ 2.90358325e+05, -1.71899705e-01],\n",
       "       [-1.16144856e+04,  3.09446480e+01],\n",
       "       [-4.44457259e+04,  4.38993452e+01],\n",
       "       [-4.15343658e+04,  3.86437470e+01],\n",
       "       [-4.44335942e+04, -2.42213033e+01],\n",
       "       [-4.23041547e+04, -4.09094428e+00],\n",
       "       [-4.41999656e+04,  3.53871251e+01],\n",
       "       [-4.40626358e+04,  4.67686912e+01],\n",
       "       [-4.01975952e+04,  2.22098129e+01],\n",
       "       [-8.51329513e+03,  2.57191084e+01],\n",
       "       [ 9.98850058e+04, -1.98850453e+01],\n",
       "       [ 1.31263865e+05,  1.55205788e+01],\n",
       "       [-1.76813552e+03,  3.67590999e+01],\n",
       "       [-4.38497550e+04,  9.62187569e+00],\n",
       "       [-4.44375545e+04, -9.09150645e+00]])"
      ]
     },
     "execution_count": 44,
     "metadata": {},
     "output_type": "execute_result"
    }
   ],
   "source": [
    "pca_data"
   ]
  },
  {
   "cell_type": "code",
   "execution_count": 45,
   "metadata": {},
   "outputs": [
    {
     "data": {
      "text/plain": [
       "<matplotlib.collections.PathCollection at 0x10e270eb8>"
      ]
     },
     "execution_count": 45,
     "metadata": {},
     "output_type": "execute_result"
    },
    {
     "data": {
      "image/png": "[encoded data removed]",
      "text/plain": [
       "<Figure size 432x288 with 1 Axes>"
      ]
     },
     "metadata": {},
     "output_type": "display_data"
    }
   ],
   "source": [
    "plt.scatter(X['size'],X['mean_aqi'],c=kmeans.labels_)"
   ]
  },
  {
   "cell_type": "code",
   "execution_count": 46,
   "metadata": {},
   "outputs": [
    {
     "data": {
      "text/plain": [
       "<matplotlib.collections.PathCollection at 0x1a18f35588>"
      ]
     },
     "execution_count": 46,
     "metadata": {},
     "output_type": "execute_result"
    },
    {
     "data": {
      "image/png": "[encoded data removed]",
      "text/plain": [
       "<Figure size 432x288 with 1 Axes>"
      ]
     },
     "metadata": {},
     "output_type": "display_data"
    }
   ],
   "source": [
    "plt.scatter(X['size'],X['max_aqi'],c=kmeans.labels_)"
   ]
  },
  {
   "cell_type": "code",
   "execution_count": 47,
   "metadata": {},
   "outputs": [
    {
     "data": {
      "text/plain": [
       "<matplotlib.collections.PathCollection at 0x1a18f8cda0>"
      ]
     },
     "execution_count": 47,
     "metadata": {},
     "output_type": "execute_result"
    },
    {
     "data": {
      "image/png": "[encoded data removed]",
      "text/plain": [
       "<Figure size 432x288 with 1 Axes>"
      ]
     },
     "metadata": {},
     "output_type": "display_data"
    }
   ],
   "source": [
    "plt.scatter(X['size'],X['min_aqi'],c=kmeans.labels_)"
   ]
  },
  {
   "cell_type": "code",
   "execution_count": 48,
   "metadata": {},
   "outputs": [
    {
     "data": {
      "text/html": [
       "<div>\n",
       "<style scoped>\n",
       "    .dataframe tbody tr th:only-of-type {\n",
       "        vertical-align: middle;\n",
       "    }\n",
       "\n",
       "    .dataframe tbody tr th {\n",
       "        vertical-align: top;\n",
       "    }\n",
       "\n",
       "    .dataframe thead th {\n",
       "        text-align: right;\n",
       "    }\n",
       "</style>\n",
       "<table border=\"1\" class=\"dataframe\">\n",
       "  <thead>\n",
       "    <tr style=\"text-align: right;\">\n",
       "      <th></th>\n",
       "      <th>size</th>\n",
       "      <th>mean_aqi</th>\n",
       "      <th>max_aqi</th>\n",
       "      <th>min_aqi</th>\n",
       "    </tr>\n",
       "  </thead>\n",
       "  <tbody>\n",
       "    <tr>\n",
       "      <th>0</th>\n",
       "      <td>10551.0</td>\n",
       "      <td>100.569620</td>\n",
       "      <td>158</td>\n",
       "      <td>25</td>\n",
       "    </tr>\n",
       "    <tr>\n",
       "      <th>1</th>\n",
       "      <td>85.6</td>\n",
       "      <td>44.411765</td>\n",
       "      <td>117</td>\n",
       "      <td>30</td>\n",
       "    </tr>\n",
       "    <tr>\n",
       "      <th>2</th>\n",
       "      <td>293.2</td>\n",
       "      <td>39.555556</td>\n",
       "      <td>66</td>\n",
       "      <td>22</td>\n",
       "    </tr>\n",
       "    <tr>\n",
       "      <th>3</th>\n",
       "      <td>92.7</td>\n",
       "      <td>37.675325</td>\n",
       "      <td>49</td>\n",
       "      <td>23</td>\n",
       "    </tr>\n",
       "    <tr>\n",
       "      <th>4</th>\n",
       "      <td>4812.7</td>\n",
       "      <td>39.112532</td>\n",
       "      <td>67</td>\n",
       "      <td>24</td>\n",
       "    </tr>\n",
       "  </tbody>\n",
       "</table>\n",
       "</div>"
      ],
      "text/plain": [
       "      size    mean_aqi  max_aqi  min_aqi\n",
       "0  10551.0  100.569620      158       25\n",
       "1     85.6   44.411765      117       30\n",
       "2    293.2   39.555556       66       22\n",
       "3     92.7   37.675325       49       23\n",
       "4   4812.7   39.112532       67       24"
      ]
     },
     "execution_count": 48,
     "metadata": {},
     "output_type": "execute_result"
    }
   ],
   "source": [
    "X.head()"
   ]
  },
  {
   "cell_type": "code",
   "execution_count": null,
   "metadata": {},
   "outputs": [],
   "source": []
  },
  {
   "cell_type": "code",
   "execution_count": null,
   "metadata": {},
   "outputs": [],
   "source": []
  },
  {
   "cell_type": "code",
   "execution_count": null,
   "metadata": {},
   "outputs": [],
   "source": []
  },
  {
   "cell_type": "markdown",
   "metadata": {},
   "source": [
    "df = pd.concat([data,pd.get_dummies(data['bins'], prefix=\"bins\")], axis=1)"
   ]
  },
  {
   "cell_type": "markdown",
   "metadata": {
    "scrolled": true
   },
   "source": [
    "df.head()"
   ]
  },
  {
   "cell_type": "markdown",
   "metadata": {},
   "source": [
    "df = df.dropna()\n",
    "x_demo = df.drop('air_aquality',axis=1)\n",
    "x_demo.drop('date',axis=1,inplace=True)\n",
    "\n",
    "x_demo.drop('bins',axis=1,inplace=True)\n",
    "y_demo = df['air_aquality']\n",
    "X_train, X_test, y_train, y_test = train_test_split(x_demo, y_demo, random_state=42)"
   ]
  },
  {
   "cell_type": "markdown",
   "metadata": {},
   "source": [
    "\n",
    "model_demo = LinearRegression()\n",
    "model_demo.fit(X_train,y_train)\n"
   ]
  },
  {
   "cell_type": "markdown",
   "metadata": {},
   "source": [
    "training_score_demo = model_demo.score(X_train, y_train)\n",
    "testing_score_demo = model_demo.score(X_test, y_test)\n",
    "\n",
    "\n",
    "\n",
    "print(f\"Training Score: {training_score_demo}\")\n",
    "print(f\"Testing Score: {testing_score_demo}\")"
   ]
  },
  {
   "cell_type": "markdown",
   "metadata": {},
   "source": []
  },
  {
   "cell_type": "markdown",
   "metadata": {},
   "source": []
  },
  {
   "cell_type": "markdown",
   "metadata": {},
   "source": [
    "for index, row in df.iterrows():\n",
    "    df.loc[index,'bins_within 100'] = df.loc[index,'bins_within 100']* df.loc[index, 'size']\n",
    "    df.loc[index,'bins_within 150'] = df.loc[index,'bins_within 150']* df.loc[index, 'size']\n",
    "    df.loc[index,'bins_within 200'] = df.loc[index,'bins_within 200']* df.loc[index, 'size']\n",
    "    df.loc[index,'bins_within 250'] = df.loc[index,'bins_within 250']* df.loc[index, 'size']\n",
    "    df.loc[index,'bins_within 300'] = df.loc[index,'bins_within 300']* df.loc[index, 'size']\n",
    "    df.loc[index,'bins_within 350'] = df.loc[index,'bins_within 350']* df.loc[index, 'size']\n",
    "    df.loc[index,'bins_within 400'] = df.loc[index,'bins_within 400']* df.loc[index, 'size']\n",
    "    df.loc[index,'bins_bigger then 400'] = df.loc[index,'bins_bigger then 400']* df.loc[index, 'size']"
   ]
  },
  {
   "cell_type": "markdown",
   "metadata": {
    "scrolled": true
   },
   "source": [
    "df.head(40)"
   ]
  },
  {
   "cell_type": "markdown",
   "metadata": {},
   "source": [
    "df.drop(['bins'], axis=1, inplace=True)"
   ]
  },
  {
   "cell_type": "markdown",
   "metadata": {},
   "source": []
  },
  {
   "cell_type": "markdown",
   "metadata": {},
   "source": [
    "df.drop(['total_size'], axis=1, inplace=True)"
   ]
  },
  {
   "cell_type": "markdown",
   "metadata": {},
   "source": [
    "df.drop(['size'], axis=1, inplace=True)"
   ]
  },
  {
   "cell_type": "markdown",
   "metadata": {},
   "source": [
    "df.head()"
   ]
  },
  {
   "cell_type": "markdown",
   "metadata": {},
   "source": [
    "df.dtypes"
   ]
  },
  {
   "cell_type": "markdown",
   "metadata": {},
   "source": [
    "# df['month'] = pd.DatetimeIndex(df['date']).month\n",
    "# df.head()"
   ]
  },
  {
   "cell_type": "markdown",
   "metadata": {
    "scrolled": true
   },
   "source": [
    " df[df['bins_within 100'].isnull()].count()"
   ]
  },
  {
   "cell_type": "markdown",
   "metadata": {},
   "source": [
    "df = df.dropna()\n",
    "df[df['bins_within 100'].isnull()].count()"
   ]
  },
  {
   "cell_type": "markdown",
   "metadata": {},
   "source": [
    "df.head()"
   ]
  },
  {
   "cell_type": "markdown",
   "metadata": {},
   "source": [
    "# the nulls were on cases where there was no fire for a date"
   ]
  },
  {
   "cell_type": "markdown",
   "metadata": {},
   "source": [
    "no_air = df.drop(['air_quality'], axis=1)"
   ]
  },
  {
   "cell_type": "markdown",
   "metadata": {},
   "source": [
    "no_air.head()"
   ]
  },
  {
   "cell_type": "markdown",
   "metadata": {},
   "source": [
    "group = no_air.groupby('date').sum()"
   ]
  },
  {
   "cell_type": "markdown",
   "metadata": {},
   "source": [
    "group.head()"
   ]
  },
  {
   "cell_type": "markdown",
   "metadata": {},
   "source": [
    "air = df[['date','air_quality']]"
   ]
  },
  {
   "cell_type": "markdown",
   "metadata": {},
   "source": [
    "air = df[['date','air_quality']]"
   ]
  },
  {
   "cell_type": "markdown",
   "metadata": {},
   "source": [
    "air.head()"
   ]
  },
  {
   "cell_type": "markdown",
   "metadata": {},
   "source": [
    "air = air.groupby('date').mean()\n"
   ]
  },
  {
   "cell_type": "markdown",
   "metadata": {},
   "source": [
    "air.head()"
   ]
  },
  {
   "cell_type": "markdown",
   "metadata": {},
   "source": [
    "df = pd.merge(air, group, on='date')"
   ]
  },
  {
   "cell_type": "markdown",
   "metadata": {},
   "source": [
    "df.head()"
   ]
  },
  {
   "cell_type": "markdown",
   "metadata": {},
   "source": [
    "## You now are ready to do your machine learning"
   ]
  },
  {
   "cell_type": "code",
   "execution_count": 49,
   "metadata": {},
   "outputs": [
    {
     "data": {
      "text/html": [
       "<div>\n",
       "<style scoped>\n",
       "    .dataframe tbody tr th:only-of-type {\n",
       "        vertical-align: middle;\n",
       "    }\n",
       "\n",
       "    .dataframe tbody tr th {\n",
       "        vertical-align: top;\n",
       "    }\n",
       "\n",
       "    .dataframe thead th {\n",
       "        text-align: right;\n",
       "    }\n",
       "</style>\n",
       "<table border=\"1\" class=\"dataframe\">\n",
       "  <thead>\n",
       "    <tr style=\"text-align: right;\">\n",
       "      <th></th>\n",
       "      <th>date</th>\n",
       "      <th>size</th>\n",
       "      <th>mean_aqi</th>\n",
       "      <th>max_aqi</th>\n",
       "      <th>min_aqi</th>\n",
       "    </tr>\n",
       "  </thead>\n",
       "  <tbody>\n",
       "    <tr>\n",
       "      <th>0</th>\n",
       "      <td>2001-01-31</td>\n",
       "      <td>10551.0</td>\n",
       "      <td>100.569620</td>\n",
       "      <td>158</td>\n",
       "      <td>25</td>\n",
       "    </tr>\n",
       "    <tr>\n",
       "      <th>1</th>\n",
       "      <td>2001-02-28</td>\n",
       "      <td>85.6</td>\n",
       "      <td>44.411765</td>\n",
       "      <td>117</td>\n",
       "      <td>30</td>\n",
       "    </tr>\n",
       "    <tr>\n",
       "      <th>2</th>\n",
       "      <td>2001-03-31</td>\n",
       "      <td>293.2</td>\n",
       "      <td>39.555556</td>\n",
       "      <td>66</td>\n",
       "      <td>22</td>\n",
       "    </tr>\n",
       "    <tr>\n",
       "      <th>3</th>\n",
       "      <td>2001-04-30</td>\n",
       "      <td>92.7</td>\n",
       "      <td>37.675325</td>\n",
       "      <td>49</td>\n",
       "      <td>23</td>\n",
       "    </tr>\n",
       "    <tr>\n",
       "      <th>4</th>\n",
       "      <td>2001-05-31</td>\n",
       "      <td>4812.7</td>\n",
       "      <td>39.112532</td>\n",
       "      <td>67</td>\n",
       "      <td>24</td>\n",
       "    </tr>\n",
       "  </tbody>\n",
       "</table>\n",
       "</div>"
      ],
      "text/plain": [
       "        date     size    mean_aqi  max_aqi  min_aqi\n",
       "0 2001-01-31  10551.0  100.569620      158       25\n",
       "1 2001-02-28     85.6   44.411765      117       30\n",
       "2 2001-03-31    293.2   39.555556       66       22\n",
       "3 2001-04-30     92.7   37.675325       49       23\n",
       "4 2001-05-31   4812.7   39.112532       67       24"
      ]
     },
     "execution_count": 49,
     "metadata": {},
     "output_type": "execute_result"
    }
   ],
   "source": [
    "data.head()"
   ]
  },
  {
   "cell_type": "code",
   "execution_count": 50,
   "metadata": {},
   "outputs": [],
   "source": [
    "X = data.drop(['date', 'mean_aqi', 'max_aqi', 'min_aqi'],axis=1)"
   ]
  },
  {
   "cell_type": "code",
   "execution_count": 51,
   "metadata": {},
   "outputs": [
    {
     "name": "stdout",
     "output_type": "stream",
     "text": [
      "(164, 1) (164, 1)\n"
     ]
    }
   ],
   "source": [
    "y = data['min_aqi'].values.reshape(-1,1)\n",
    "print(X.shape, y.shape)"
   ]
  },
  {
   "cell_type": "code",
   "execution_count": 52,
   "metadata": {},
   "outputs": [],
   "source": [
    "X_train, X_test, y_train, y_test = train_test_split(X, y, random_state=42)"
   ]
  },
  {
   "cell_type": "code",
   "execution_count": 53,
   "metadata": {},
   "outputs": [],
   "source": [
    "from sklearn.neighbors import KNeighborsRegressor"
   ]
  },
  {
   "cell_type": "code",
   "execution_count": 54,
   "metadata": {},
   "outputs": [],
   "source": [
    "from sklearn.ensemble import GradientBoostingRegressor, RandomForestRegressor"
   ]
  },
  {
   "cell_type": "code",
   "execution_count": 55,
   "metadata": {},
   "outputs": [],
   "source": [
    "knr = KNeighborsRegressor(n_neighbors=10)"
   ]
  },
  {
   "cell_type": "code",
   "execution_count": 56,
   "metadata": {},
   "outputs": [
    {
     "data": {
      "text/plain": [
       "KNeighborsRegressor(algorithm='auto', leaf_size=30, metric='minkowski',\n",
       "          metric_params=None, n_jobs=1, n_neighbors=10, p=2,\n",
       "          weights='uniform')"
      ]
     },
     "execution_count": 56,
     "metadata": {},
     "output_type": "execute_result"
    }
   ],
   "source": [
    "knr.fit(X_train, y_train)"
   ]
  },
  {
   "cell_type": "code",
   "execution_count": 57,
   "metadata": {},
   "outputs": [
    {
     "name": "stdout",
     "output_type": "stream",
     "text": [
      "Training Score: 0.25265836373474837\n",
      "Testing Score: 0.053515464182791406\n"
     ]
    }
   ],
   "source": [
    "knr.fit(X_train, y_train)\n",
    "training_score = knr.score(X_train, y_train)\n",
    "testing_score = knr.score(X_test, y_test)\n",
    "\n",
    "\n",
    "\n",
    "print(f\"Training Score: {training_score}\")\n",
    "print(f\"Testing Score: {testing_score}\")"
   ]
  },
  {
   "cell_type": "code",
   "execution_count": 58,
   "metadata": {},
   "outputs": [],
   "source": [
    "gbr = GradientBoostingRegressor(n_estimators=200)"
   ]
  },
  {
   "cell_type": "code",
   "execution_count": 59,
   "metadata": {},
   "outputs": [
    {
     "name": "stdout",
     "output_type": "stream",
     "text": [
      "Training Score: 0.9378017900055222\n",
      "Testing Score: -0.6591120321851243\n"
     ]
    },
    {
     "name": "stderr",
     "output_type": "stream",
     "text": [
      "/anaconda3/lib/python3.6/site-packages/sklearn/utils/validation.py:578: DataConversionWarning: A column-vector y was passed when a 1d array was expected. Please change the shape of y to (n_samples, ), for example using ravel().\n",
      "  y = column_or_1d(y, warn=True)\n"
     ]
    }
   ],
   "source": [
    "gbr.fit(X_train, y_train)\n",
    "training_score = gbr.score(X_train, y_train)\n",
    "testing_score = gbr.score(X_test, y_test)\n",
    "\n",
    "\n",
    "\n",
    "print(f\"Training Score: {training_score}\")\n",
    "print(f\"Testing Score: {testing_score}\")"
   ]
  },
  {
   "cell_type": "code",
   "execution_count": 60,
   "metadata": {},
   "outputs": [],
   "source": [
    "rfr = RandomForestRegressor(n_estimators=50)"
   ]
  },
  {
   "cell_type": "code",
   "execution_count": 61,
   "metadata": {},
   "outputs": [
    {
     "name": "stdout",
     "output_type": "stream",
     "text": [
      "Training Score: 0.8477968739947583\n",
      "Testing Score: -0.43388406237134625\n"
     ]
    },
    {
     "name": "stderr",
     "output_type": "stream",
     "text": [
      "/anaconda3/lib/python3.6/site-packages/ipykernel_launcher.py:1: DataConversionWarning: A column-vector y was passed when a 1d array was expected. Please change the shape of y to (n_samples,), for example using ravel().\n",
      "  \"\"\"Entry point for launching an IPython kernel.\n"
     ]
    }
   ],
   "source": [
    "rfr.fit(X_train, y_train)\n",
    "training_score = rfr.score(X_train, y_train)\n",
    "testing_score = rfr.score(X_test, y_test)\n",
    "\n",
    "\n",
    "\n",
    "print(f\"Training Score: {training_score}\")\n",
    "print(f\"Testing Score: {testing_score}\")"
   ]
  },
  {
   "cell_type": "code",
   "execution_count": null,
   "metadata": {},
   "outputs": [],
   "source": []
  },
  {
   "cell_type": "code",
   "execution_count": null,
   "metadata": {},
   "outputs": [],
   "source": []
  },
  {
   "cell_type": "code",
   "execution_count": 62,
   "metadata": {},
   "outputs": [],
   "source": [
    "model=LinearRegression()"
   ]
  },
  {
   "cell_type": "code",
   "execution_count": 63,
   "metadata": {},
   "outputs": [
    {
     "data": {
      "text/plain": [
       "LinearRegression(copy_X=True, fit_intercept=True, n_jobs=1, normalize=False)"
      ]
     },
     "execution_count": 63,
     "metadata": {},
     "output_type": "execute_result"
    }
   ],
   "source": [
    "model.fit(X_train, y_train)"
   ]
  },
  {
   "cell_type": "code",
   "execution_count": 64,
   "metadata": {},
   "outputs": [
    {
     "name": "stdout",
     "output_type": "stream",
     "text": [
      "Training Score: 0.02059980869134248\n",
      "Testing Score: -0.09584490169016946\n"
     ]
    }
   ],
   "source": [
    "model.fit(X_train, y_train)\n",
    "training_score = model.score(X_train, y_train)\n",
    "testing_score = model.score(X_test, y_test)\n",
    "\n",
    "\n",
    "\n",
    "print(f\"Training Score: {training_score}\")\n",
    "print(f\"Testing Score: {testing_score}\")"
   ]
  },
  {
   "cell_type": "code",
   "execution_count": 65,
   "metadata": {},
   "outputs": [
    {
     "data": {
      "text/plain": [
       "Text(0.5,1,'Residual Plot')"
      ]
     },
     "execution_count": 65,
     "metadata": {},
     "output_type": "execute_result"
    },
    {
     "data": {
      "image/png": "[encoded data removed]",
      "text/plain": [
       "<Figure size 432x288 with 1 Axes>"
      ]
     },
     "metadata": {},
     "output_type": "display_data"
    }
   ],
   "source": [
    "plt.scatter(model.predict(X_train), model.predict(X_train) - y_train, c=\"blue\", label=\"Training Data\")\n",
    "plt.scatter(model.predict(X_test), model.predict(X_test) - y_test, c=\"orange\", label=\"Testing Data\")\n",
    "plt.legend()\n",
    "plt.hlines(y=0, xmin=y.min(), xmax=y.max())\n",
    "plt.title(\"Residual Plot\")"
   ]
  }
 ],
 "metadata": {
  "kernelspec": {
   "display_name": "Python 3",
   "language": "python",
   "name": "python3"
  },
  "language_info": {
   "codemirror_mode": {
    "name": "ipython",
    "version": 3
   },
   "file_extension": ".py",
   "mimetype": "text/x-python",
   "name": "python",
   "nbconvert_exporter": "python",
   "pygments_lexer": "ipython3",
   "version": "3.6.5"
  }
 },
 "nbformat": 4,
 "nbformat_minor": 2
}
