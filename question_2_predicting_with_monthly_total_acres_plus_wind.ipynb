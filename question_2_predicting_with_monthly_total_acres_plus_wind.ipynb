{
 "cells": [
  {
   "cell_type": "markdown",
   "metadata": {},
   "source": [
    "## Question 2: Given the total acres burned by fires each month in California, and data on wind conditions, can we predict the air quality in SF for the month?\n"
   ]
  },
  {
   "cell_type": "code",
   "execution_count": 38,
   "metadata": {},
   "outputs": [],
   "source": [
    "from sqlalchemy import create_engine\n",
    "from sklearn.datasets import make_regression\n",
    "from sklearn.model_selection import train_test_split\n",
    "from sklearn.linear_model import LinearRegression\n",
    "from sklearn.neighbors import KNeighborsRegressor\n",
    "from sklearn.ensemble import GradientBoostingRegressor, RandomForestRegressor\n",
    "\n",
    "from sklearn.decomposition import PCA\n",
    "from sklearn.cluster import KMeans\n",
    "\n",
    "\n",
    "import pandas as pd\n",
    "import numpy as np\n",
    "import datetime\n",
    "\n",
    "\n",
    "%matplotlib inline\n",
    "import matplotlib.pyplot as plt"
   ]
  },
  {
   "cell_type": "code",
   "execution_count": 14,
   "metadata": {},
   "outputs": [],
   "source": [
    "rds_connection_string = \"root:12345678@127.0.0.1/fires\"\n",
    "engine = create_engine(f'mysql+pymysql://{rds_connection_string}')"
   ]
  },
  {
   "cell_type": "code",
   "execution_count": 15,
   "metadata": {},
   "outputs": [
    {
     "name": "stderr",
     "output_type": "stream",
     "text": [
      "/anaconda3/lib/python3.6/site-packages/pymysql/cursors.py:170: Warning: (3719, \"'utf8' is currently an alias for the character set UTF8MB3, but will be an alias for UTF8MB4 in a future release. Please consider using UTF8MB4 in order to be unambiguous.\")\n",
      "  result = self._query(query)\n"
     ]
    },
    {
     "data": {
      "text/html": [
       "<div>\n",
       "<style scoped>\n",
       "    .dataframe tbody tr th:only-of-type {\n",
       "        vertical-align: middle;\n",
       "    }\n",
       "\n",
       "    .dataframe tbody tr th {\n",
       "        vertical-align: top;\n",
       "    }\n",
       "\n",
       "    .dataframe thead th {\n",
       "        text-align: right;\n",
       "    }\n",
       "</style>\n",
       "<table border=\"1\" class=\"dataframe\">\n",
       "  <thead>\n",
       "    <tr style=\"text-align: right;\">\n",
       "      <th></th>\n",
       "      <th>date</th>\n",
       "      <th>size</th>\n",
       "      <th>avg_daily_wind_speed</th>\n",
       "      <th>avg_fastest_2_min</th>\n",
       "      <th>avg_fastest_5_min</th>\n",
       "      <th>mean_aqi</th>\n",
       "      <th>max_aqi</th>\n",
       "      <th>min_aqi</th>\n",
       "    </tr>\n",
       "  </thead>\n",
       "  <tbody>\n",
       "    <tr>\n",
       "      <th>0</th>\n",
       "      <td>2001-01-31</td>\n",
       "      <td>10551.0</td>\n",
       "      <td>16.78</td>\n",
       "      <td>38.9</td>\n",
       "      <td>48.1</td>\n",
       "      <td>100.569620</td>\n",
       "      <td>158</td>\n",
       "      <td>25</td>\n",
       "    </tr>\n",
       "    <tr>\n",
       "      <th>1</th>\n",
       "      <td>2001-02-28</td>\n",
       "      <td>85.6</td>\n",
       "      <td>26.62</td>\n",
       "      <td>44.1</td>\n",
       "      <td>51.0</td>\n",
       "      <td>44.411765</td>\n",
       "      <td>117</td>\n",
       "      <td>30</td>\n",
       "    </tr>\n",
       "    <tr>\n",
       "      <th>2</th>\n",
       "      <td>2001-03-31</td>\n",
       "      <td>293.2</td>\n",
       "      <td>21.47</td>\n",
       "      <td>32.0</td>\n",
       "      <td>40.9</td>\n",
       "      <td>39.555556</td>\n",
       "      <td>66</td>\n",
       "      <td>22</td>\n",
       "    </tr>\n",
       "    <tr>\n",
       "      <th>3</th>\n",
       "      <td>2001-04-30</td>\n",
       "      <td>92.7</td>\n",
       "      <td>22.59</td>\n",
       "      <td>45.0</td>\n",
       "      <td>53.0</td>\n",
       "      <td>37.675325</td>\n",
       "      <td>49</td>\n",
       "      <td>23</td>\n",
       "    </tr>\n",
       "    <tr>\n",
       "      <th>4</th>\n",
       "      <td>2001-05-31</td>\n",
       "      <td>4812.7</td>\n",
       "      <td>21.70</td>\n",
       "      <td>34.9</td>\n",
       "      <td>38.9</td>\n",
       "      <td>39.112532</td>\n",
       "      <td>67</td>\n",
       "      <td>24</td>\n",
       "    </tr>\n",
       "  </tbody>\n",
       "</table>\n",
       "</div>"
      ],
      "text/plain": [
       "        date     size  avg_daily_wind_speed  avg_fastest_2_min  \\\n",
       "0 2001-01-31  10551.0                 16.78               38.9   \n",
       "1 2001-02-28     85.6                 26.62               44.1   \n",
       "2 2001-03-31    293.2                 21.47               32.0   \n",
       "3 2001-04-30     92.7                 22.59               45.0   \n",
       "4 2001-05-31   4812.7                 21.70               34.9   \n",
       "\n",
       "   avg_fastest_5_min    mean_aqi  max_aqi  min_aqi  \n",
       "0               48.1  100.569620      158       25  \n",
       "1               51.0   44.411765      117       30  \n",
       "2               40.9   39.555556       66       22  \n",
       "3               53.0   37.675325       49       23  \n",
       "4               38.9   39.112532       67       24  "
      ]
     },
     "execution_count": 15,
     "metadata": {},
     "output_type": "execute_result"
    }
   ],
   "source": [
    "data = pd.read_sql(\"select * from final_monthly_total_plus_wind\", con=engine)\n",
    "data.head()"
   ]
  },
  {
   "cell_type": "code",
   "execution_count": 16,
   "metadata": {},
   "outputs": [
    {
     "data": {
      "text/html": [
       "<div>\n",
       "<style scoped>\n",
       "    .dataframe tbody tr th:only-of-type {\n",
       "        vertical-align: middle;\n",
       "    }\n",
       "\n",
       "    .dataframe tbody tr th {\n",
       "        vertical-align: top;\n",
       "    }\n",
       "\n",
       "    .dataframe thead th {\n",
       "        text-align: right;\n",
       "    }\n",
       "</style>\n",
       "<table border=\"1\" class=\"dataframe\">\n",
       "  <thead>\n",
       "    <tr style=\"text-align: right;\">\n",
       "      <th></th>\n",
       "      <th>size</th>\n",
       "      <th>avg_daily_wind_speed</th>\n",
       "      <th>avg_fastest_2_min</th>\n",
       "      <th>avg_fastest_5_min</th>\n",
       "      <th>mean_aqi</th>\n",
       "      <th>max_aqi</th>\n",
       "      <th>min_aqi</th>\n",
       "    </tr>\n",
       "  </thead>\n",
       "  <tbody>\n",
       "    <tr>\n",
       "      <th>count</th>\n",
       "      <td>168.000000</td>\n",
       "      <td>168.000000</td>\n",
       "      <td>168.000000</td>\n",
       "      <td>168.000000</td>\n",
       "      <td>168.000000</td>\n",
       "      <td>168.000000</td>\n",
       "      <td>168.000000</td>\n",
       "    </tr>\n",
       "    <tr>\n",
       "      <th>mean</th>\n",
       "      <td>43418.972679</td>\n",
       "      <td>19.601071</td>\n",
       "      <td>37.279167</td>\n",
       "      <td>45.858929</td>\n",
       "      <td>48.540700</td>\n",
       "      <td>85.833333</td>\n",
       "      <td>26.125000</td>\n",
       "    </tr>\n",
       "    <tr>\n",
       "      <th>std</th>\n",
       "      <td>93763.001672</td>\n",
       "      <td>9.129979</td>\n",
       "      <td>6.143551</td>\n",
       "      <td>8.272611</td>\n",
       "      <td>12.515171</td>\n",
       "      <td>28.118583</td>\n",
       "      <td>7.288074</td>\n",
       "    </tr>\n",
       "    <tr>\n",
       "      <th>min</th>\n",
       "      <td>1.510000</td>\n",
       "      <td>9.400000</td>\n",
       "      <td>25.100000</td>\n",
       "      <td>28.000000</td>\n",
       "      <td>22.604113</td>\n",
       "      <td>47.000000</td>\n",
       "      <td>9.000000</td>\n",
       "    </tr>\n",
       "    <tr>\n",
       "      <th>25%</th>\n",
       "      <td>318.625000</td>\n",
       "      <td>16.330000</td>\n",
       "      <td>32.825000</td>\n",
       "      <td>39.725000</td>\n",
       "      <td>40.263540</td>\n",
       "      <td>64.000000</td>\n",
       "      <td>21.000000</td>\n",
       "    </tr>\n",
       "    <tr>\n",
       "      <th>50%</th>\n",
       "      <td>7628.505000</td>\n",
       "      <td>18.790000</td>\n",
       "      <td>36.900000</td>\n",
       "      <td>45.000000</td>\n",
       "      <td>47.691454</td>\n",
       "      <td>76.000000</td>\n",
       "      <td>26.000000</td>\n",
       "    </tr>\n",
       "    <tr>\n",
       "      <th>75%</th>\n",
       "      <td>40459.110000</td>\n",
       "      <td>21.920000</td>\n",
       "      <td>40.900000</td>\n",
       "      <td>51.000000</td>\n",
       "      <td>55.430723</td>\n",
       "      <td>102.250000</td>\n",
       "      <td>31.000000</td>\n",
       "    </tr>\n",
       "    <tr>\n",
       "      <th>max</th>\n",
       "      <td>564015.570000</td>\n",
       "      <td>125.040000</td>\n",
       "      <td>59.900000</td>\n",
       "      <td>70.900000</td>\n",
       "      <td>100.569620</td>\n",
       "      <td>179.000000</td>\n",
       "      <td>50.000000</td>\n",
       "    </tr>\n",
       "  </tbody>\n",
       "</table>\n",
       "</div>"
      ],
      "text/plain": [
       "                size  avg_daily_wind_speed  avg_fastest_2_min  \\\n",
       "count     168.000000            168.000000         168.000000   \n",
       "mean    43418.972679             19.601071          37.279167   \n",
       "std     93763.001672              9.129979           6.143551   \n",
       "min         1.510000              9.400000          25.100000   \n",
       "25%       318.625000             16.330000          32.825000   \n",
       "50%      7628.505000             18.790000          36.900000   \n",
       "75%     40459.110000             21.920000          40.900000   \n",
       "max    564015.570000            125.040000          59.900000   \n",
       "\n",
       "       avg_fastest_5_min    mean_aqi     max_aqi     min_aqi  \n",
       "count         168.000000  168.000000  168.000000  168.000000  \n",
       "mean           45.858929   48.540700   85.833333   26.125000  \n",
       "std             8.272611   12.515171   28.118583    7.288074  \n",
       "min            28.000000   22.604113   47.000000    9.000000  \n",
       "25%            39.725000   40.263540   64.000000   21.000000  \n",
       "50%            45.000000   47.691454   76.000000   26.000000  \n",
       "75%            51.000000   55.430723  102.250000   31.000000  \n",
       "max            70.900000  100.569620  179.000000   50.000000  "
      ]
     },
     "execution_count": 16,
     "metadata": {},
     "output_type": "execute_result"
    }
   ],
   "source": [
    "data.describe()"
   ]
  },
  {
   "cell_type": "code",
   "execution_count": 17,
   "metadata": {},
   "outputs": [],
   "source": [
    "data = data.fillna(0)"
   ]
  },
  {
   "cell_type": "code",
   "execution_count": null,
   "metadata": {},
   "outputs": [],
   "source": []
  },
  {
   "cell_type": "markdown",
   "metadata": {},
   "source": [
    "## Supervised machine learning"
   ]
  },
  {
   "cell_type": "markdown",
   "metadata": {},
   "source": [
    "#### Preparing the data"
   ]
  },
  {
   "cell_type": "code",
   "execution_count": 18,
   "metadata": {},
   "outputs": [
    {
     "data": {
      "text/html": [
       "<div>\n",
       "<style scoped>\n",
       "    .dataframe tbody tr th:only-of-type {\n",
       "        vertical-align: middle;\n",
       "    }\n",
       "\n",
       "    .dataframe tbody tr th {\n",
       "        vertical-align: top;\n",
       "    }\n",
       "\n",
       "    .dataframe thead th {\n",
       "        text-align: right;\n",
       "    }\n",
       "</style>\n",
       "<table border=\"1\" class=\"dataframe\">\n",
       "  <thead>\n",
       "    <tr style=\"text-align: right;\">\n",
       "      <th></th>\n",
       "      <th>date</th>\n",
       "      <th>size</th>\n",
       "      <th>avg_daily_wind_speed</th>\n",
       "      <th>avg_fastest_2_min</th>\n",
       "      <th>avg_fastest_5_min</th>\n",
       "      <th>mean_aqi</th>\n",
       "      <th>max_aqi</th>\n",
       "      <th>min_aqi</th>\n",
       "    </tr>\n",
       "  </thead>\n",
       "  <tbody>\n",
       "    <tr>\n",
       "      <th>0</th>\n",
       "      <td>2001-01-31</td>\n",
       "      <td>10551.0</td>\n",
       "      <td>16.78</td>\n",
       "      <td>38.9</td>\n",
       "      <td>48.1</td>\n",
       "      <td>100.569620</td>\n",
       "      <td>158</td>\n",
       "      <td>25</td>\n",
       "    </tr>\n",
       "    <tr>\n",
       "      <th>1</th>\n",
       "      <td>2001-02-28</td>\n",
       "      <td>85.6</td>\n",
       "      <td>26.62</td>\n",
       "      <td>44.1</td>\n",
       "      <td>51.0</td>\n",
       "      <td>44.411765</td>\n",
       "      <td>117</td>\n",
       "      <td>30</td>\n",
       "    </tr>\n",
       "    <tr>\n",
       "      <th>2</th>\n",
       "      <td>2001-03-31</td>\n",
       "      <td>293.2</td>\n",
       "      <td>21.47</td>\n",
       "      <td>32.0</td>\n",
       "      <td>40.9</td>\n",
       "      <td>39.555556</td>\n",
       "      <td>66</td>\n",
       "      <td>22</td>\n",
       "    </tr>\n",
       "    <tr>\n",
       "      <th>3</th>\n",
       "      <td>2001-04-30</td>\n",
       "      <td>92.7</td>\n",
       "      <td>22.59</td>\n",
       "      <td>45.0</td>\n",
       "      <td>53.0</td>\n",
       "      <td>37.675325</td>\n",
       "      <td>49</td>\n",
       "      <td>23</td>\n",
       "    </tr>\n",
       "    <tr>\n",
       "      <th>4</th>\n",
       "      <td>2001-05-31</td>\n",
       "      <td>4812.7</td>\n",
       "      <td>21.70</td>\n",
       "      <td>34.9</td>\n",
       "      <td>38.9</td>\n",
       "      <td>39.112532</td>\n",
       "      <td>67</td>\n",
       "      <td>24</td>\n",
       "    </tr>\n",
       "  </tbody>\n",
       "</table>\n",
       "</div>"
      ],
      "text/plain": [
       "        date     size  avg_daily_wind_speed  avg_fastest_2_min  \\\n",
       "0 2001-01-31  10551.0                 16.78               38.9   \n",
       "1 2001-02-28     85.6                 26.62               44.1   \n",
       "2 2001-03-31    293.2                 21.47               32.0   \n",
       "3 2001-04-30     92.7                 22.59               45.0   \n",
       "4 2001-05-31   4812.7                 21.70               34.9   \n",
       "\n",
       "   avg_fastest_5_min    mean_aqi  max_aqi  min_aqi  \n",
       "0               48.1  100.569620      158       25  \n",
       "1               51.0   44.411765      117       30  \n",
       "2               40.9   39.555556       66       22  \n",
       "3               53.0   37.675325       49       23  \n",
       "4               38.9   39.112532       67       24  "
      ]
     },
     "execution_count": 18,
     "metadata": {},
     "output_type": "execute_result"
    }
   ],
   "source": [
    "data.head()"
   ]
  },
  {
   "cell_type": "code",
   "execution_count": 19,
   "metadata": {},
   "outputs": [
    {
     "data": {
      "text/html": [
       "<div>\n",
       "<style scoped>\n",
       "    .dataframe tbody tr th:only-of-type {\n",
       "        vertical-align: middle;\n",
       "    }\n",
       "\n",
       "    .dataframe tbody tr th {\n",
       "        vertical-align: top;\n",
       "    }\n",
       "\n",
       "    .dataframe thead th {\n",
       "        text-align: right;\n",
       "    }\n",
       "</style>\n",
       "<table border=\"1\" class=\"dataframe\">\n",
       "  <thead>\n",
       "    <tr style=\"text-align: right;\">\n",
       "      <th></th>\n",
       "      <th>size</th>\n",
       "      <th>avg_daily_wind_speed</th>\n",
       "      <th>avg_fastest_2_min</th>\n",
       "      <th>avg_fastest_5_min</th>\n",
       "    </tr>\n",
       "  </thead>\n",
       "  <tbody>\n",
       "    <tr>\n",
       "      <th>0</th>\n",
       "      <td>10551.0</td>\n",
       "      <td>16.78</td>\n",
       "      <td>38.9</td>\n",
       "      <td>48.1</td>\n",
       "    </tr>\n",
       "    <tr>\n",
       "      <th>1</th>\n",
       "      <td>85.6</td>\n",
       "      <td>26.62</td>\n",
       "      <td>44.1</td>\n",
       "      <td>51.0</td>\n",
       "    </tr>\n",
       "    <tr>\n",
       "      <th>2</th>\n",
       "      <td>293.2</td>\n",
       "      <td>21.47</td>\n",
       "      <td>32.0</td>\n",
       "      <td>40.9</td>\n",
       "    </tr>\n",
       "    <tr>\n",
       "      <th>3</th>\n",
       "      <td>92.7</td>\n",
       "      <td>22.59</td>\n",
       "      <td>45.0</td>\n",
       "      <td>53.0</td>\n",
       "    </tr>\n",
       "    <tr>\n",
       "      <th>4</th>\n",
       "      <td>4812.7</td>\n",
       "      <td>21.70</td>\n",
       "      <td>34.9</td>\n",
       "      <td>38.9</td>\n",
       "    </tr>\n",
       "  </tbody>\n",
       "</table>\n",
       "</div>"
      ],
      "text/plain": [
       "      size  avg_daily_wind_speed  avg_fastest_2_min  avg_fastest_5_min\n",
       "0  10551.0                 16.78               38.9               48.1\n",
       "1     85.6                 26.62               44.1               51.0\n",
       "2    293.2                 21.47               32.0               40.9\n",
       "3     92.7                 22.59               45.0               53.0\n",
       "4   4812.7                 21.70               34.9               38.9"
      ]
     },
     "execution_count": 19,
     "metadata": {},
     "output_type": "execute_result"
    }
   ],
   "source": [
    "X = data.drop(['date', 'mean_aqi', 'max_aqi', 'min_aqi'],axis=1)\n",
    "X.head()"
   ]
  },
  {
   "cell_type": "code",
   "execution_count": 20,
   "metadata": {},
   "outputs": [
    {
     "name": "stdout",
     "output_type": "stream",
     "text": [
      "(168, 4) (168, 1)\n"
     ]
    }
   ],
   "source": [
    "y = data['max_aqi'].values.reshape(-1,1)\n",
    "print(X.shape, y.shape)"
   ]
  },
  {
   "cell_type": "code",
   "execution_count": 21,
   "metadata": {},
   "outputs": [],
   "source": [
    "X_train, X_test, y_train, y_test = train_test_split(X, y, random_state=42)"
   ]
  },
  {
   "cell_type": "markdown",
   "metadata": {},
   "source": [
    "### Linear Regression"
   ]
  },
  {
   "cell_type": "code",
   "execution_count": 22,
   "metadata": {},
   "outputs": [],
   "source": [
    "model=LinearRegression()"
   ]
  },
  {
   "cell_type": "code",
   "execution_count": null,
   "metadata": {},
   "outputs": [],
   "source": [
    "model.fit(X_train, y_train)"
   ]
  },
  {
   "cell_type": "code",
   "execution_count": 23,
   "metadata": {},
   "outputs": [
    {
     "name": "stdout",
     "output_type": "stream",
     "text": [
      "Linear Regression Training Score: 0.03199229230791334\n",
      "Linear Regression Testing Score: -0.20802243492549088\n"
     ]
    }
   ],
   "source": [
    "model.fit(X_train, y_train)\n",
    "training_score = model.score(X_train, y_train)\n",
    "testing_score = model.score(X_test, y_test)\n",
    "\n",
    "\n",
    "\n",
    "print(f\"Linear Regression Training Score: {training_score}\")\n",
    "print(f\"Linear Regression Testing Score: {testing_score}\")"
   ]
  },
  {
   "cell_type": "code",
   "execution_count": 24,
   "metadata": {},
   "outputs": [
    {
     "data": {
      "text/plain": [
       "Text(0.5,1,'Residual Plot')"
      ]
     },
     "execution_count": 24,
     "metadata": {},
     "output_type": "execute_result"
    },
    {
     "data": {
      "image/png": "[encoded data removed]",
      "text/plain": [
       "<Figure size 432x288 with 1 Axes>"
      ]
     },
     "metadata": {},
     "output_type": "display_data"
    }
   ],
   "source": [
    "plt.scatter(model.predict(X_train), model.predict(X_train) - y_train, c=\"blue\", label=\"Training Data\")\n",
    "plt.scatter(model.predict(X_test), model.predict(X_test) - y_test, c=\"orange\", label=\"Testing Data\")\n",
    "plt.legend()\n",
    "plt.hlines(y=0, xmin=y.min(), xmax=y.max())\n",
    "plt.title(\"Residual Plot\")"
   ]
  },
  {
   "cell_type": "markdown",
   "metadata": {},
   "source": [
    "#### K Neighbors Regression"
   ]
  },
  {
   "cell_type": "code",
   "execution_count": 25,
   "metadata": {},
   "outputs": [],
   "source": [
    "knr = KNeighborsRegressor(n_neighbors=10)"
   ]
  },
  {
   "cell_type": "code",
   "execution_count": 26,
   "metadata": {},
   "outputs": [
    {
     "data": {
      "text/plain": [
       "KNeighborsRegressor(algorithm='auto', leaf_size=30, metric='minkowski',\n",
       "          metric_params=None, n_jobs=1, n_neighbors=10, p=2,\n",
       "          weights='uniform')"
      ]
     },
     "execution_count": 26,
     "metadata": {},
     "output_type": "execute_result"
    }
   ],
   "source": [
    "knr.fit(X_train, y_train)"
   ]
  },
  {
   "cell_type": "code",
   "execution_count": 28,
   "metadata": {},
   "outputs": [
    {
     "name": "stdout",
     "output_type": "stream",
     "text": [
      "K Neighbors Regression Training Score: 0.10932836247028221\n",
      "K Neighbors Regression Testing Score: -0.8102408275658626\n"
     ]
    }
   ],
   "source": [
    "knr.fit(X_train, y_train)\n",
    "training_score = knr.score(X_train, y_train)\n",
    "testing_score = knr.score(X_test, y_test)\n",
    "\n",
    "\n",
    "\n",
    "print(f\"K Neighbors Regression Training Score: {training_score}\")\n",
    "print(f\"K Neighbors Regression Testing Score: {testing_score}\")"
   ]
  },
  {
   "cell_type": "markdown",
   "metadata": {},
   "source": [
    "#### Gradient Boosting Regressor"
   ]
  },
  {
   "cell_type": "code",
   "execution_count": 29,
   "metadata": {},
   "outputs": [],
   "source": [
    "gbr = GradientBoostingRegressor(n_estimators=200)"
   ]
  },
  {
   "cell_type": "code",
   "execution_count": 31,
   "metadata": {},
   "outputs": [
    {
     "name": "stdout",
     "output_type": "stream",
     "text": [
      "Gradient Boosting Regressor Training Score: 0.9626720437127899\n",
      "Gradient Boosting Regressor Testing Score: -1.594711599001489\n"
     ]
    },
    {
     "name": "stderr",
     "output_type": "stream",
     "text": [
      "/anaconda3/lib/python3.6/site-packages/sklearn/utils/validation.py:578: DataConversionWarning: A column-vector y was passed when a 1d array was expected. Please change the shape of y to (n_samples, ), for example using ravel().\n",
      "  y = column_or_1d(y, warn=True)\n"
     ]
    }
   ],
   "source": [
    "gbr.fit(X_train, y_train)\n",
    "training_score = gbr.score(X_train, y_train)\n",
    "testing_score = gbr.score(X_test, y_test)\n",
    "\n",
    "\n",
    "\n",
    "print(f\"Gradient Boosting Regressor Training Score: {training_score}\")\n",
    "print(f\"Gradient Boosting Regressor Testing Score: {testing_score}\")"
   ]
  },
  {
   "cell_type": "markdown",
   "metadata": {},
   "source": [
    "#### Random Forest Regressor"
   ]
  },
  {
   "cell_type": "code",
   "execution_count": 33,
   "metadata": {},
   "outputs": [],
   "source": [
    "rfr = RandomForestRegressor(n_estimators=50)"
   ]
  },
  {
   "cell_type": "code",
   "execution_count": 34,
   "metadata": {},
   "outputs": [
    {
     "name": "stdout",
     "output_type": "stream",
     "text": [
      "Random Forest Regressor Training Score: 0.8352269622638063\n",
      "Random Forest Regressor Testing Score: -0.36014793489768526\n"
     ]
    },
    {
     "name": "stderr",
     "output_type": "stream",
     "text": [
      "/anaconda3/lib/python3.6/site-packages/ipykernel_launcher.py:1: DataConversionWarning: A column-vector y was passed when a 1d array was expected. Please change the shape of y to (n_samples,), for example using ravel().\n",
      "  \"\"\"Entry point for launching an IPython kernel.\n"
     ]
    }
   ],
   "source": [
    "rfr.fit(X_train, y_train)\n",
    "training_score = rfr.score(X_train, y_train)\n",
    "testing_score = rfr.score(X_test, y_test)\n",
    "\n",
    "\n",
    "\n",
    "print(f\"Random Forest Regressor Training Score: {training_score}\")\n",
    "print(f\"Random Forest Regressor Testing Score: {testing_score}\")"
   ]
  },
  {
   "cell_type": "code",
   "execution_count": null,
   "metadata": {},
   "outputs": [],
   "source": []
  },
  {
   "cell_type": "markdown",
   "metadata": {},
   "source": [
    "## Unsupervised machine learning"
   ]
  },
  {
   "cell_type": "code",
   "execution_count": 39,
   "metadata": {},
   "outputs": [],
   "source": [
    "X = data.drop(['date'],axis=1)"
   ]
  },
  {
   "cell_type": "code",
   "execution_count": 40,
   "metadata": {},
   "outputs": [
    {
     "data": {
      "text/html": [
       "<div>\n",
       "<style scoped>\n",
       "    .dataframe tbody tr th:only-of-type {\n",
       "        vertical-align: middle;\n",
       "    }\n",
       "\n",
       "    .dataframe tbody tr th {\n",
       "        vertical-align: top;\n",
       "    }\n",
       "\n",
       "    .dataframe thead th {\n",
       "        text-align: right;\n",
       "    }\n",
       "</style>\n",
       "<table border=\"1\" class=\"dataframe\">\n",
       "  <thead>\n",
       "    <tr style=\"text-align: right;\">\n",
       "      <th></th>\n",
       "      <th>size</th>\n",
       "      <th>avg_daily_wind_speed</th>\n",
       "      <th>avg_fastest_2_min</th>\n",
       "      <th>avg_fastest_5_min</th>\n",
       "      <th>mean_aqi</th>\n",
       "      <th>max_aqi</th>\n",
       "      <th>min_aqi</th>\n",
       "    </tr>\n",
       "  </thead>\n",
       "  <tbody>\n",
       "    <tr>\n",
       "      <th>0</th>\n",
       "      <td>10551.0</td>\n",
       "      <td>16.78</td>\n",
       "      <td>38.9</td>\n",
       "      <td>48.1</td>\n",
       "      <td>100.569620</td>\n",
       "      <td>158</td>\n",
       "      <td>25</td>\n",
       "    </tr>\n",
       "    <tr>\n",
       "      <th>1</th>\n",
       "      <td>85.6</td>\n",
       "      <td>26.62</td>\n",
       "      <td>44.1</td>\n",
       "      <td>51.0</td>\n",
       "      <td>44.411765</td>\n",
       "      <td>117</td>\n",
       "      <td>30</td>\n",
       "    </tr>\n",
       "    <tr>\n",
       "      <th>2</th>\n",
       "      <td>293.2</td>\n",
       "      <td>21.47</td>\n",
       "      <td>32.0</td>\n",
       "      <td>40.9</td>\n",
       "      <td>39.555556</td>\n",
       "      <td>66</td>\n",
       "      <td>22</td>\n",
       "    </tr>\n",
       "    <tr>\n",
       "      <th>3</th>\n",
       "      <td>92.7</td>\n",
       "      <td>22.59</td>\n",
       "      <td>45.0</td>\n",
       "      <td>53.0</td>\n",
       "      <td>37.675325</td>\n",
       "      <td>49</td>\n",
       "      <td>23</td>\n",
       "    </tr>\n",
       "    <tr>\n",
       "      <th>4</th>\n",
       "      <td>4812.7</td>\n",
       "      <td>21.70</td>\n",
       "      <td>34.9</td>\n",
       "      <td>38.9</td>\n",
       "      <td>39.112532</td>\n",
       "      <td>67</td>\n",
       "      <td>24</td>\n",
       "    </tr>\n",
       "  </tbody>\n",
       "</table>\n",
       "</div>"
      ],
      "text/plain": [
       "      size  avg_daily_wind_speed  avg_fastest_2_min  avg_fastest_5_min  \\\n",
       "0  10551.0                 16.78               38.9               48.1   \n",
       "1     85.6                 26.62               44.1               51.0   \n",
       "2    293.2                 21.47               32.0               40.9   \n",
       "3     92.7                 22.59               45.0               53.0   \n",
       "4   4812.7                 21.70               34.9               38.9   \n",
       "\n",
       "     mean_aqi  max_aqi  min_aqi  \n",
       "0  100.569620      158       25  \n",
       "1   44.411765      117       30  \n",
       "2   39.555556       66       22  \n",
       "3   37.675325       49       23  \n",
       "4   39.112532       67       24  "
      ]
     },
     "execution_count": 40,
     "metadata": {},
     "output_type": "execute_result"
    }
   ],
   "source": [
    "X.head()"
   ]
  },
  {
   "cell_type": "code",
   "execution_count": 41,
   "metadata": {},
   "outputs": [],
   "source": [
    "pca = PCA(n_components=2)"
   ]
  },
  {
   "cell_type": "code",
   "execution_count": 42,
   "metadata": {},
   "outputs": [
    {
     "data": {
      "text/plain": [
       "PCA(copy=True, iterated_power='auto', n_components=2, random_state=None,\n",
       "  svd_solver='auto', tol=0.0, whiten=False)"
      ]
     },
     "execution_count": 42,
     "metadata": {},
     "output_type": "execute_result"
    }
   ],
   "source": [
    "pca.fit(X)"
   ]
  },
  {
   "cell_type": "code",
   "execution_count": 43,
   "metadata": {},
   "outputs": [],
   "source": [
    "pca_data = pca.transform(X)"
   ]
  },
  {
   "cell_type": "code",
   "execution_count": 44,
   "metadata": {},
   "outputs": [],
   "source": [
    "kmeans= KMeans(n_clusters=2)"
   ]
  },
  {
   "cell_type": "code",
   "execution_count": 45,
   "metadata": {},
   "outputs": [
    {
     "data": {
      "text/plain": [
       "KMeans(algorithm='auto', copy_x=True, init='k-means++', max_iter=300,\n",
       "    n_clusters=2, n_init=10, n_jobs=1, precompute_distances='auto',\n",
       "    random_state=None, tol=0.0001, verbose=0)"
      ]
     },
     "execution_count": 45,
     "metadata": {},
     "output_type": "execute_result"
    }
   ],
   "source": [
    "kmeans.fit(X)"
   ]
  },
  {
   "cell_type": "code",
   "execution_count": 46,
   "metadata": {},
   "outputs": [
    {
     "data": {
      "text/plain": [
       "<matplotlib.collections.PathCollection at 0x1a1872b160>"
      ]
     },
     "execution_count": 46,
     "metadata": {},
     "output_type": "execute_result"
    },
    {
     "data": {
      "image/png": "[encoded data removed]",
      "text/plain": [
       "<Figure size 432x288 with 1 Axes>"
      ]
     },
     "metadata": {},
     "output_type": "display_data"
    }
   ],
   "source": [
    "plt.scatter(pca_data[:,0],pca_data[:,1],c=kmeans.labels_)"
   ]
  },
  {
   "cell_type": "code",
   "execution_count": 50,
   "metadata": {},
   "outputs": [
    {
     "data": {
      "text/plain": [
       "array([[-3.28679749e+04,  8.45115305e+01],\n",
       "       [-4.33333734e+04,  2.67407897e+01],\n",
       "       [-4.31257720e+04, -2.30277553e+01],\n",
       "       [-4.33262720e+04, -3.95688982e+01],\n",
       "       [-3.86062720e+04, -2.20122500e+01],\n",
       "       [-3.04661721e+04, -2.04978652e+01],\n",
       "       [-1.35817713e+04, -4.06161552e+01],\n",
       "       [ 1.33885729e+05, -3.83585521e+01],\n",
       "       [-1.84497162e+03, -2.67381811e+01],\n",
       "       [-2.54938723e+04, -9.41620722e+00],\n",
       "       [-4.30918736e+04,  2.81054203e+01],\n",
       "       [-4.20230726e+04, -1.11960332e+01],\n",
       "       [-4.32792730e+04,  3.82548084e+01],\n",
       "       [-4.05895730e+04,  2.78931680e+01],\n",
       "       [-3.95944722e+04, -2.18801893e+01],\n",
       "       [-4.21782721e+04, -3.17670417e+01],\n",
       "       [-3.42177718e+04, -3.41338847e+01],\n",
       "       [ 2.96232281e+04, -2.80630534e+01],\n",
       "       [ 2.52743286e+04, -3.63955672e+01],\n",
       "       [ 1.81189628e+05, -9.77518265e+00],\n",
       "       [-2.86729718e+04, -3.10817448e+01],\n",
       "       [-7.75772050e+02, -1.41128458e+01],\n",
       "       [-3.85448746e+04,  7.05636962e+01],\n",
       "       [-4.02574750e+04,  8.05911904e+01],\n",
       "       [-4.23416229e+04,  3.27195272e+01],\n",
       "       [-4.33966231e+04, -2.95833053e+01],\n",
       "       [-4.32493118e+04, -3.52569954e+01],\n",
       "       [-4.26337218e+04, -3.98037384e+01],\n",
       "       [-4.24795216e+04, -3.38432092e+01],\n",
       "       [-3.83212522e+04, -2.20555468e+01],\n",
       "       [ 2.72982486e+04, -4.14943619e+01],\n",
       "       [-3.37302115e+04, -3.92422910e+01],\n",
       "       [-2.20473204e+03, -2.38732709e+01],\n",
       "       [ 1.55448438e+05, -1.38450853e+01],\n",
       "       [ 5.20596597e+05,  2.91185898e+01],\n",
       "       [-2.93686230e+04,  1.10745008e+01],\n",
       "       [-4.34073243e+04,  6.39588305e+01],\n",
       "       [-4.32683231e+04,  1.82857519e-01],\n",
       "       [-4.29184728e+04, -1.04291340e+00],\n",
       "       [-4.03637322e+04, -1.91697234e+01],\n",
       "       [-1.09921220e+04, -2.64626341e+01],\n",
       "       [-3.13641328e+04, -1.16342927e+01],\n",
       "       [ 2.56159284e+04, -3.43783394e+01],\n",
       "       [ 2.00698839e+03, -3.61409539e+01],\n",
       "       [-2.46571221e+04, -1.98396329e+01],\n",
       "       [-1.30573222e+04, -1.87654331e+01],\n",
       "       [-4.31744736e+04,  4.96968558e+01],\n",
       "       [-4.34082036e+04,  2.13084098e+01],\n",
       "       [-4.34086738e+04,  3.51631485e+01],\n",
       "       [-4.34050729e+04,  3.26655148e+01],\n",
       "       [-4.33860222e+04, -2.47089667e+01],\n",
       "       [-4.32653620e+04, -3.94716476e+01],\n",
       "       [-4.20381919e+04, -3.22843457e+01],\n",
       "       [-2.94440021e+04, -3.41219636e+01],\n",
       "       [ 5.59062182e+04, -3.30231605e+01],\n",
       "       [-3.26634216e+04, -2.85733326e+01],\n",
       "       [-2.10924019e+04, -2.31183708e+01],\n",
       "       [-3.21157200e+03, -2.62706805e+01],\n",
       "       [-3.57065823e+04,  6.06216641e-01],\n",
       "       [-4.33662639e+04,  3.56357350e+01],\n",
       "       [-4.29085522e+04, -1.53501485e+01],\n",
       "       [-3.26700636e+04,  8.21046075e+00],\n",
       "       [-4.05861717e+04, -3.99965917e+01],\n",
       "       [-4.33941321e+04, -2.43346347e+01],\n",
       "       [-3.64691823e+04, -1.68534462e+01],\n",
       "       [-2.94522619e+04, -2.41653071e+01],\n",
       "       [ 1.60631198e+05, -2.19181893e+01],\n",
       "       [-1.47832816e+04, -3.11508391e+01],\n",
       "       [ 2.66642078e+04, -1.29951851e+01],\n",
       "       [ 2.32527587e+05,  2.05627610e+01],\n",
       "       [ 2.83415575e+04, -5.67980175e-01],\n",
       "       [-3.03842844e+04,  6.27503233e+01],\n",
       "       [-4.25080435e+04,  3.83639604e+01],\n",
       "       [-4.31773733e+04,  3.66226787e+01],\n",
       "       [-3.97658820e+04, -3.11448434e+01],\n",
       "       [-3.58068522e+04, -2.33672730e+01],\n",
       "       [-3.66249319e+04, -3.40881532e+01],\n",
       "       [-3.03737220e+04, -2.44934723e+01],\n",
       "       [ 8.03430845e+03, -3.27707724e+01],\n",
       "       [-1.69521518e+04, -3.43962356e+01],\n",
       "       [ 3.18545598e+05, -1.20580794e+01],\n",
       "       [ 3.05167398e+05, -1.31802863e+01],\n",
       "       [ 6.92717177e+04, -5.40144917e-01],\n",
       "       [ 1.10226880e+04, -1.91447653e+01],\n",
       "       [-4.34056733e+04,  3.14790814e+00],\n",
       "       [-4.34005225e+04, -2.17743440e+01],\n",
       "       [-4.26664519e+04, -3.03156713e+01],\n",
       "       [-4.25999032e+04,  5.91008871e-01],\n",
       "       [-4.10333825e+04, -2.35785365e+01],\n",
       "       [ 3.04046672e+04, -3.75414418e+00],\n",
       "       [ 4.56169938e+05,  5.00213132e+00],\n",
       "       [ 1.16993018e+05, -2.12417571e+01],\n",
       "       [ 2.61503770e+03, -1.08795697e+01],\n",
       "       [ 2.56862098e+05, -2.74108076e+00],\n",
       "       [ 3.25570567e+04,  2.91019157e+01],\n",
       "       [-2.10406034e+04,  1.62039580e+01],\n",
       "       [-4.32466637e+04,  5.42254939e+01],\n",
       "       [-4.34031132e+04,  2.05501838e+01],\n",
       "       [-4.33127623e+04, -2.41159361e+01],\n",
       "       [-4.23082628e+04, -2.04225576e+01],\n",
       "       [-3.29841325e+04, -1.47245398e+01],\n",
       "       [-3.76127326e+04, -9.28473972e+00],\n",
       "       [-2.63201921e+04, -1.63006681e+01],\n",
       "       [ 8.42286275e+04, -5.68861232e+00],\n",
       "       [ 1.69031437e+05, -5.31976305e+00],\n",
       "       [-3.17758626e+04, -2.36427647e+01],\n",
       "       [-3.57740824e+04, -1.15067685e+01],\n",
       "       [-4.33666329e+04,  5.93443663e+00],\n",
       "       [-4.33065545e+04,  5.19068841e+01],\n",
       "       [-4.34174622e+04, -2.16194107e+01],\n",
       "       [-4.32845024e+04, -1.66928826e+01],\n",
       "       [-4.32701527e+04, -8.66515875e+00],\n",
       "       [-3.83865125e+04, -2.13417010e+01],\n",
       "       [-3.95234226e+04, -1.05141594e+01],\n",
       "       [-3.08047426e+04, -9.23957455e+00],\n",
       "       [ 1.15945056e+04,  8.93807283e+01],\n",
       "       [-2.99708335e+04,  4.54043120e+01],\n",
       "       [-3.24665732e+04,  2.81581528e+01],\n",
       "       [-3.97509028e+04, -2.17993237e+00],\n",
       "       [-4.34137233e+04,  1.80715337e+01],\n",
       "       [-4.33997530e+04,  9.91927429e+00],\n",
       "       [-4.34125728e+04, -2.08715482e+00],\n",
       "       [-4.25407631e+04,  2.26973477e+00],\n",
       "       [-4.32729025e+04, -1.25679256e+01],\n",
       "       [-3.98305432e+04,  3.24428279e+00],\n",
       "       [-2.86647038e+04,  5.72823505e+01],\n",
       "       [-2.43888532e+04,  3.95235735e+01],\n",
       "       [-3.42343329e+04,  3.23308059e+01],\n",
       "       [ 3.00689466e+04,  4.25641405e+01],\n",
       "       [-3.10163023e+04, -2.99394840e+00],\n",
       "       [-2.26194326e+04,  4.57886611e+00],\n",
       "       [-4.26846437e+04,  5.19466421e+01],\n",
       "       [-4.33190135e+04,  2.01462768e+01],\n",
       "       [-4.33931824e+04, -1.03852666e+01],\n",
       "       [-4.33554724e+04, -1.52714700e+01],\n",
       "       [-4.32155822e+04, -1.61650099e+01],\n",
       "       [-3.83902134e+04,  1.47364723e+01],\n",
       "       [-3.47827525e+04, -1.37280843e+01],\n",
       "       [-2.56739938e+04,  7.09124145e+01],\n",
       "       [ 3.43051566e+04,  4.42154226e+01],\n",
       "       [ 6.04521769e+04,  2.39172049e+01],\n",
       "       [ 4.56672217e+05,  2.12559801e+01],\n",
       "       [-4.13178931e+04,  8.86893024e+00],\n",
       "       [-4.34145225e+04, -2.09875822e+01],\n",
       "       [-4.33596131e+04,  1.83160099e+01],\n",
       "       [-4.33917326e+04,  6.62755654e-01],\n",
       "       [-4.25417223e+04, -2.40416074e+01],\n",
       "       [-4.18581431e+04, -3.75649619e+00],\n",
       "       [ 4.16891062e+04,  3.24415825e+01],\n",
       "       [-3.46349635e+04,  3.42607201e+01],\n",
       "       [-2.69038832e+04,  1.46033491e+01],\n",
       "       [ 2.93534789e+03, -1.31989248e+01],\n",
       "       [ 1.48567570e+04,  6.97428860e+00],\n",
       "       [ 2.91417217e+05, -3.60792796e-01],\n",
       "       [-1.05555934e+04,  3.12957086e+01],\n",
       "       [-4.33868338e+04,  4.42960775e+01],\n",
       "       [-4.04754736e+04,  3.90590542e+01],\n",
       "       [-4.33747021e+04, -2.37963025e+01],\n",
       "       [-4.12452627e+04, -3.80456903e+00],\n",
       "       [-4.31410736e+04,  3.54034536e+01],\n",
       "       [-4.30037438e+04,  4.68536004e+01],\n",
       "       [-3.91387035e+04,  2.25896384e+01],\n",
       "       [-7.45440283e+03,  2.60322235e+01],\n",
       "       [ 1.00943898e+05, -1.96483297e+01],\n",
       "       [ 1.32322757e+05,  1.57744442e+01],\n",
       "       [-7.09243281e+02,  3.71683019e+01],\n",
       "       [-4.27908626e+04,  1.01619801e+01],\n",
       "       [-4.33786627e+04, -9.08549454e+00]])"
      ]
     },
     "execution_count": 50,
     "metadata": {},
     "output_type": "execute_result"
    }
   ],
   "source": [
    "pca_data"
   ]
  },
  {
   "cell_type": "code",
   "execution_count": null,
   "metadata": {},
   "outputs": [],
   "source": []
  },
  {
   "cell_type": "code",
   "execution_count": null,
   "metadata": {},
   "outputs": [],
   "source": []
  }
 ],
 "metadata": {
  "kernelspec": {
   "display_name": "Python 3",
   "language": "python",
   "name": "python3"
  },
  "language_info": {
   "codemirror_mode": {
    "name": "ipython",
    "version": 3
   },
   "file_extension": ".py",
   "mimetype": "text/x-python",
   "name": "python",
   "nbconvert_exporter": "python",
   "pygments_lexer": "ipython3",
   "version": "3.6.5"
  }
 },
 "nbformat": 4,
 "nbformat_minor": 2
}
