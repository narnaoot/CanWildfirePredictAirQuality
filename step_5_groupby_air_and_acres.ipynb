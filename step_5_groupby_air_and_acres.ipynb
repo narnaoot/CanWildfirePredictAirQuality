{
 "cells": [
  {
   "cell_type": "code",
   "execution_count": 1,
   "metadata": {},
   "outputs": [],
   "source": [
    "from sqlalchemy import create_engine\n",
    "import pandas as pd\n",
    "import numpy as np\n",
    "\n",
    "%matplotlib inline\n"
   ]
  },
  {
   "cell_type": "code",
   "execution_count": 2,
   "metadata": {},
   "outputs": [],
   "source": [
    "rds_connection_string = \"root:12345678@127.0.0.1/fires\"\n",
    "engine = create_engine(f'mysql+pymysql://{rds_connection_string}')\n"
   ]
  },
  {
   "cell_type": "code",
   "execution_count": 3,
   "metadata": {},
   "outputs": [
    {
     "name": "stderr",
     "output_type": "stream",
     "text": [
      "/anaconda3/lib/python3.6/site-packages/pymysql/cursors.py:170: Warning: (3719, \"'utf8' is currently an alias for the character set UTF8MB3, but will be an alias for UTF8MB4 in a future release. Please consider using UTF8MB4 in order to be unambiguous.\")\n",
      "  result = self._query(query)\n"
     ]
    },
    {
     "data": {
      "text/html": [
       "<div>\n",
       "<style scoped>\n",
       "    .dataframe tbody tr th:only-of-type {\n",
       "        vertical-align: middle;\n",
       "    }\n",
       "\n",
       "    .dataframe tbody tr th {\n",
       "        vertical-align: top;\n",
       "    }\n",
       "\n",
       "    .dataframe thead th {\n",
       "        text-align: right;\n",
       "    }\n",
       "</style>\n",
       "<table border=\"1\" class=\"dataframe\">\n",
       "  <thead>\n",
       "    <tr style=\"text-align: right;\">\n",
       "      <th></th>\n",
       "      <th>date</th>\n",
       "      <th>overall_aqi</th>\n",
       "      <th>site_name</th>\n",
       "      <th>year</th>\n",
       "      <th>fire_id</th>\n",
       "      <th>fire_name</th>\n",
       "      <th>discovery_date</th>\n",
       "      <th>containment_date</th>\n",
       "      <th>size</th>\n",
       "      <th>class</th>\n",
       "      <th>fire_year</th>\n",
       "      <th>distance</th>\n",
       "    </tr>\n",
       "  </thead>\n",
       "  <tbody>\n",
       "    <tr>\n",
       "      <th>0</th>\n",
       "      <td>2001-01-01</td>\n",
       "      <td>153</td>\n",
       "      <td>San Francisco</td>\n",
       "      <td>2001</td>\n",
       "      <td>8659.0</td>\n",
       "      <td>LUCERNE</td>\n",
       "      <td>2001-01-01</td>\n",
       "      <td>2001-01-01</td>\n",
       "      <td>0.1</td>\n",
       "      <td>A</td>\n",
       "      <td>2001.0</td>\n",
       "      <td>380.928215</td>\n",
       "    </tr>\n",
       "    <tr>\n",
       "      <th>1</th>\n",
       "      <td>2001-01-01</td>\n",
       "      <td>153</td>\n",
       "      <td>San Francisco</td>\n",
       "      <td>2001</td>\n",
       "      <td>9387.0</td>\n",
       "      <td>DEBRIS 2</td>\n",
       "      <td>2001-01-01</td>\n",
       "      <td>2001-01-01</td>\n",
       "      <td>0.1</td>\n",
       "      <td>A</td>\n",
       "      <td>2001.0</td>\n",
       "      <td>136.804378</td>\n",
       "    </tr>\n",
       "    <tr>\n",
       "      <th>2</th>\n",
       "      <td>2001-01-01</td>\n",
       "      <td>153</td>\n",
       "      <td>San Francisco</td>\n",
       "      <td>2001</td>\n",
       "      <td>17163.0</td>\n",
       "      <td>LP HILL</td>\n",
       "      <td>2001-01-01</td>\n",
       "      <td>2001-01-01</td>\n",
       "      <td>0.1</td>\n",
       "      <td>A</td>\n",
       "      <td>2001.0</td>\n",
       "      <td>251.976491</td>\n",
       "    </tr>\n",
       "    <tr>\n",
       "      <th>3</th>\n",
       "      <td>2001-01-01</td>\n",
       "      <td>153</td>\n",
       "      <td>San Francisco</td>\n",
       "      <td>2001</td>\n",
       "      <td>30114.0</td>\n",
       "      <td>PGE 1</td>\n",
       "      <td>2001-01-01</td>\n",
       "      <td>2001-01-01</td>\n",
       "      <td>0.1</td>\n",
       "      <td>A</td>\n",
       "      <td>2001.0</td>\n",
       "      <td>200.715760</td>\n",
       "    </tr>\n",
       "    <tr>\n",
       "      <th>4</th>\n",
       "      <td>2001-01-01</td>\n",
       "      <td>153</td>\n",
       "      <td>San Francisco</td>\n",
       "      <td>2001</td>\n",
       "      <td>30201.0</td>\n",
       "      <td>PUMP HOUSE</td>\n",
       "      <td>2001-01-01</td>\n",
       "      <td>2001-01-01</td>\n",
       "      <td>0.1</td>\n",
       "      <td>A</td>\n",
       "      <td>2001.0</td>\n",
       "      <td>467.441792</td>\n",
       "    </tr>\n",
       "  </tbody>\n",
       "</table>\n",
       "</div>"
      ],
      "text/plain": [
       "        date  overall_aqi      site_name  year  fire_id   fire_name  \\\n",
       "0 2001-01-01          153  San Francisco  2001   8659.0     LUCERNE   \n",
       "1 2001-01-01          153  San Francisco  2001   9387.0    DEBRIS 2   \n",
       "2 2001-01-01          153  San Francisco  2001  17163.0     LP HILL   \n",
       "3 2001-01-01          153  San Francisco  2001  30114.0       PGE 1   \n",
       "4 2001-01-01          153  San Francisco  2001  30201.0  PUMP HOUSE   \n",
       "\n",
       "  discovery_date containment_date  size class  fire_year    distance  \n",
       "0     2001-01-01       2001-01-01   0.1     A     2001.0  380.928215  \n",
       "1     2001-01-01       2001-01-01   0.1     A     2001.0  136.804378  \n",
       "2     2001-01-01       2001-01-01   0.1     A     2001.0  251.976491  \n",
       "3     2001-01-01       2001-01-01   0.1     A     2001.0  200.715760  \n",
       "4     2001-01-01       2001-01-01   0.1     A     2001.0  467.441792  "
      ]
     },
     "execution_count": 3,
     "metadata": {},
     "output_type": "execute_result"
    }
   ],
   "source": [
    "data = pd.read_sql(\"select * from fire_and_air_data\", con=engine)\n",
    "data.head()"
   ]
  },
  {
   "cell_type": "code",
   "execution_count": 4,
   "metadata": {},
   "outputs": [
    {
     "data": {
      "text/html": [
       "<div>\n",
       "<style scoped>\n",
       "    .dataframe tbody tr th:only-of-type {\n",
       "        vertical-align: middle;\n",
       "    }\n",
       "\n",
       "    .dataframe tbody tr th {\n",
       "        vertical-align: top;\n",
       "    }\n",
       "\n",
       "    .dataframe thead th {\n",
       "        text-align: right;\n",
       "    }\n",
       "</style>\n",
       "<table border=\"1\" class=\"dataframe\">\n",
       "  <thead>\n",
       "    <tr style=\"text-align: right;\">\n",
       "      <th></th>\n",
       "      <th>fire_year</th>\n",
       "    </tr>\n",
       "  </thead>\n",
       "  <tbody>\n",
       "    <tr>\n",
       "      <th>0</th>\n",
       "      <td>2001.0</td>\n",
       "    </tr>\n",
       "    <tr>\n",
       "      <th>1</th>\n",
       "      <td>NaN</td>\n",
       "    </tr>\n",
       "    <tr>\n",
       "      <th>2</th>\n",
       "      <td>2002.0</td>\n",
       "    </tr>\n",
       "    <tr>\n",
       "      <th>3</th>\n",
       "      <td>2003.0</td>\n",
       "    </tr>\n",
       "    <tr>\n",
       "      <th>4</th>\n",
       "      <td>2004.0</td>\n",
       "    </tr>\n",
       "  </tbody>\n",
       "</table>\n",
       "</div>"
      ],
      "text/plain": [
       "   fire_year\n",
       "0     2001.0\n",
       "1        NaN\n",
       "2     2002.0\n",
       "3     2003.0\n",
       "4     2004.0"
      ]
     },
     "execution_count": 4,
     "metadata": {},
     "output_type": "execute_result"
    }
   ],
   "source": [
    "year = pd.read_sql(\"select distinct fire_year from fire_and_air_data\", con=engine)\n",
    "year.head()"
   ]
  },
  {
   "cell_type": "code",
   "execution_count": null,
   "metadata": {},
   "outputs": [],
   "source": []
  },
  {
   "cell_type": "code",
   "execution_count": 5,
   "metadata": {},
   "outputs": [],
   "source": [
    "data = data[['date', 'overall_aqi', 'fire_id', 'size', 'distance']]"
   ]
  },
  {
   "cell_type": "code",
   "execution_count": 6,
   "metadata": {},
   "outputs": [],
   "source": [
    "bins = [0, 50, 100, 150, 200, 250, 10000000000000000]"
   ]
  },
  {
   "cell_type": "code",
   "execution_count": 7,
   "metadata": {},
   "outputs": [],
   "source": [
    "labels = ['within 50', 'within 100', 'within 150', 'within 200', 'within 250', 'bigger then 250']"
   ]
  },
  {
   "cell_type": "code",
   "execution_count": 8,
   "metadata": {},
   "outputs": [],
   "source": [
    "data['bins'] = pd.cut(data['distance'], bins=bins, labels=labels)"
   ]
  },
  {
   "cell_type": "code",
   "execution_count": 9,
   "metadata": {},
   "outputs": [
    {
     "data": {
      "text/html": [
       "<div>\n",
       "<style scoped>\n",
       "    .dataframe tbody tr th:only-of-type {\n",
       "        vertical-align: middle;\n",
       "    }\n",
       "\n",
       "    .dataframe tbody tr th {\n",
       "        vertical-align: top;\n",
       "    }\n",
       "\n",
       "    .dataframe thead th {\n",
       "        text-align: right;\n",
       "    }\n",
       "</style>\n",
       "<table border=\"1\" class=\"dataframe\">\n",
       "  <thead>\n",
       "    <tr style=\"text-align: right;\">\n",
       "      <th></th>\n",
       "      <th>date</th>\n",
       "      <th>overall_aqi</th>\n",
       "      <th>fire_id</th>\n",
       "      <th>size</th>\n",
       "      <th>distance</th>\n",
       "      <th>bins</th>\n",
       "    </tr>\n",
       "  </thead>\n",
       "  <tbody>\n",
       "    <tr>\n",
       "      <th>0</th>\n",
       "      <td>2001-01-01</td>\n",
       "      <td>153</td>\n",
       "      <td>8659.0</td>\n",
       "      <td>0.1</td>\n",
       "      <td>380.928215</td>\n",
       "      <td>bigger then 250</td>\n",
       "    </tr>\n",
       "    <tr>\n",
       "      <th>1</th>\n",
       "      <td>2001-01-01</td>\n",
       "      <td>153</td>\n",
       "      <td>9387.0</td>\n",
       "      <td>0.1</td>\n",
       "      <td>136.804378</td>\n",
       "      <td>within 150</td>\n",
       "    </tr>\n",
       "    <tr>\n",
       "      <th>2</th>\n",
       "      <td>2001-01-01</td>\n",
       "      <td>153</td>\n",
       "      <td>17163.0</td>\n",
       "      <td>0.1</td>\n",
       "      <td>251.976491</td>\n",
       "      <td>bigger then 250</td>\n",
       "    </tr>\n",
       "    <tr>\n",
       "      <th>3</th>\n",
       "      <td>2001-01-01</td>\n",
       "      <td>153</td>\n",
       "      <td>30114.0</td>\n",
       "      <td>0.1</td>\n",
       "      <td>200.715760</td>\n",
       "      <td>within 250</td>\n",
       "    </tr>\n",
       "    <tr>\n",
       "      <th>4</th>\n",
       "      <td>2001-01-01</td>\n",
       "      <td>153</td>\n",
       "      <td>30201.0</td>\n",
       "      <td>0.1</td>\n",
       "      <td>467.441792</td>\n",
       "      <td>bigger then 250</td>\n",
       "    </tr>\n",
       "  </tbody>\n",
       "</table>\n",
       "</div>"
      ],
      "text/plain": [
       "        date  overall_aqi  fire_id  size    distance             bins\n",
       "0 2001-01-01          153   8659.0   0.1  380.928215  bigger then 250\n",
       "1 2001-01-01          153   9387.0   0.1  136.804378       within 150\n",
       "2 2001-01-01          153  17163.0   0.1  251.976491  bigger then 250\n",
       "3 2001-01-01          153  30114.0   0.1  200.715760       within 250\n",
       "4 2001-01-01          153  30201.0   0.1  467.441792  bigger then 250"
      ]
     },
     "execution_count": 9,
     "metadata": {},
     "output_type": "execute_result"
    }
   ],
   "source": [
    "data.head()"
   ]
  },
  {
   "cell_type": "code",
   "execution_count": 10,
   "metadata": {},
   "outputs": [],
   "source": [
    "bin_group = data.groupby(['bins','date'])"
   ]
  },
  {
   "cell_type": "code",
   "execution_count": 11,
   "metadata": {},
   "outputs": [],
   "source": [
    "new_group = bin_group.mean().dropna()"
   ]
  },
  {
   "cell_type": "code",
   "execution_count": 12,
   "metadata": {},
   "outputs": [],
   "source": [
    "# data.plot(x=\"distance\", y=\"overall_aqi\", kind=\"scatter\")"
   ]
  },
  {
   "cell_type": "code",
   "execution_count": null,
   "metadata": {},
   "outputs": [],
   "source": [
    "# data.plot.bar(x='bins', y='overall_aqi', rot=0)"
   ]
  },
  {
   "cell_type": "code",
   "execution_count": 13,
   "metadata": {},
   "outputs": [
    {
     "data": {
      "text/html": [
       "<div>\n",
       "<style scoped>\n",
       "    .dataframe tbody tr th:only-of-type {\n",
       "        vertical-align: middle;\n",
       "    }\n",
       "\n",
       "    .dataframe tbody tr th {\n",
       "        vertical-align: top;\n",
       "    }\n",
       "\n",
       "    .dataframe thead th {\n",
       "        text-align: right;\n",
       "    }\n",
       "</style>\n",
       "<table border=\"1\" class=\"dataframe\">\n",
       "  <thead>\n",
       "    <tr style=\"text-align: right;\">\n",
       "      <th></th>\n",
       "      <th></th>\n",
       "      <th>overall_aqi</th>\n",
       "      <th>fire_id</th>\n",
       "      <th>size</th>\n",
       "      <th>distance</th>\n",
       "    </tr>\n",
       "    <tr>\n",
       "      <th>bins</th>\n",
       "      <th>date</th>\n",
       "      <th></th>\n",
       "      <th></th>\n",
       "      <th></th>\n",
       "      <th></th>\n",
       "    </tr>\n",
       "  </thead>\n",
       "  <tbody>\n",
       "    <tr>\n",
       "      <th rowspan=\"5\" valign=\"top\">within 50</th>\n",
       "      <th>2001-01-08</th>\n",
       "      <td>39.0</td>\n",
       "      <td>28494.0</td>\n",
       "      <td>0.1</td>\n",
       "      <td>2.119243</td>\n",
       "    </tr>\n",
       "    <tr>\n",
       "      <th>2001-02-08</th>\n",
       "      <td>54.0</td>\n",
       "      <td>28495.0</td>\n",
       "      <td>0.1</td>\n",
       "      <td>3.026915</td>\n",
       "    </tr>\n",
       "    <tr>\n",
       "      <th>2001-02-23</th>\n",
       "      <td>30.0</td>\n",
       "      <td>28496.0</td>\n",
       "      <td>0.1</td>\n",
       "      <td>26.894380</td>\n",
       "    </tr>\n",
       "    <tr>\n",
       "      <th>2001-03-16</th>\n",
       "      <td>31.0</td>\n",
       "      <td>25192.0</td>\n",
       "      <td>5.0</td>\n",
       "      <td>38.783993</td>\n",
       "    </tr>\n",
       "    <tr>\n",
       "      <th>2001-05-04</th>\n",
       "      <td>51.0</td>\n",
       "      <td>28497.0</td>\n",
       "      <td>0.1</td>\n",
       "      <td>11.737640</td>\n",
       "    </tr>\n",
       "  </tbody>\n",
       "</table>\n",
       "</div>"
      ],
      "text/plain": [
       "                      overall_aqi  fire_id  size   distance\n",
       "bins      date                                             \n",
       "within 50 2001-01-08         39.0  28494.0   0.1   2.119243\n",
       "          2001-02-08         54.0  28495.0   0.1   3.026915\n",
       "          2001-02-23         30.0  28496.0   0.1  26.894380\n",
       "          2001-03-16         31.0  25192.0   5.0  38.783993\n",
       "          2001-05-04         51.0  28497.0   0.1  11.737640"
      ]
     },
     "execution_count": 13,
     "metadata": {},
     "output_type": "execute_result"
    }
   ],
   "source": [
    "new_group.head()"
   ]
  },
  {
   "cell_type": "code",
   "execution_count": 15,
   "metadata": {},
   "outputs": [
    {
     "data": {
      "text/plain": [
       "<matplotlib.axes._subplots.AxesSubplot at 0x10b3679b0>"
      ]
     },
     "execution_count": 15,
     "metadata": {},
     "output_type": "execute_result"
    },
    {
     "data": {
      "image/png": "[encoded data removed]",
      "text/plain": [
       "<Figure size 432x288 with 1 Axes>"
      ]
     },
     "metadata": {},
     "output_type": "display_data"
    }
   ],
   "source": [
    "new_group.reset_index().plot.bar(x='bins', y='overall_aqi', rot=0)"
   ]
  },
  {
   "cell_type": "code",
   "execution_count": null,
   "metadata": {},
   "outputs": [],
   "source": [
    "combined_group = data.groupby(['date','fire_id'])"
   ]
  },
  {
   "cell_type": "code",
   "execution_count": null,
   "metadata": {},
   "outputs": [],
   "source": [
    "combined_group.head()"
   ]
  },
  {
   "cell_type": "code",
   "execution_count": null,
   "metadata": {},
   "outputs": [],
   "source": [
    "# verify that there's never more then one record for a particular fire-id on a particular day\n",
    "combined_group.size().max()"
   ]
  },
  {
   "cell_type": "code",
   "execution_count": null,
   "metadata": {},
   "outputs": [],
   "source": [
    "grouped_by_date = data.groupby(['date'])"
   ]
  },
  {
   "cell_type": "code",
   "execution_count": null,
   "metadata": {
    "scrolled": true
   },
   "outputs": [],
   "source": [
    "grouped_by_date.describe().head()"
   ]
  },
  {
   "cell_type": "code",
   "execution_count": null,
   "metadata": {
    "scrolled": true
   },
   "outputs": [],
   "source": [
    "grouped_by_date.sum()"
   ]
  },
  {
   "cell_type": "code",
   "execution_count": null,
   "metadata": {},
   "outputs": [],
   "source": [
    "acres_per_day_df = data.groupby('date')['size'].sum().to_frame().reset_index()"
   ]
  },
  {
   "cell_type": "code",
   "execution_count": null,
   "metadata": {},
   "outputs": [],
   "source": [
    "acres_per_day_df.head()"
   ]
  },
  {
   "cell_type": "code",
   "execution_count": null,
   "metadata": {},
   "outputs": [],
   "source": [
    "# Manually spot-check a date\n",
    "\n",
    "data[data['date'] == '2014-01-03']"
   ]
  },
  {
   "cell_type": "code",
   "execution_count": null,
   "metadata": {},
   "outputs": [],
   "source": []
  },
  {
   "cell_type": "code",
   "execution_count": null,
   "metadata": {},
   "outputs": [],
   "source": [
    "air_data_df = pd.read_sql(\"select * from aqi_data\", con=engine)\n",
    "air_data_df.head()"
   ]
  },
  {
   "cell_type": "code",
   "execution_count": null,
   "metadata": {},
   "outputs": [],
   "source": [
    "merged_data_df = pd.merge(air_data_df, acres_per_day_df, on='date')"
   ]
  },
  {
   "cell_type": "code",
   "execution_count": null,
   "metadata": {},
   "outputs": [],
   "source": [
    "merged_data_df.head()"
   ]
  },
  {
   "cell_type": "code",
   "execution_count": null,
   "metadata": {},
   "outputs": [],
   "source": [
    "merged_data_df.to_sql(name=\"acres_and_air_data\", con=engine, if_exists=\"replace\")"
   ]
  },
  {
   "cell_type": "code",
   "execution_count": null,
   "metadata": {},
   "outputs": [],
   "source": []
  },
  {
   "cell_type": "code",
   "execution_count": null,
   "metadata": {},
   "outputs": [],
   "source": []
  },
  {
   "cell_type": "code",
   "execution_count": null,
   "metadata": {},
   "outputs": [],
   "source": []
  }
 ],
 "metadata": {
  "kernelspec": {
   "display_name": "Python 3",
   "language": "python",
   "name": "python3"
  },
  "language_info": {
   "codemirror_mode": {
    "name": "ipython",
    "version": 3
   },
   "file_extension": ".py",
   "mimetype": "text/x-python",
   "name": "python",
   "nbconvert_exporter": "python",
   "pygments_lexer": "ipython3",
   "version": "3.6.5"
  }
 },
 "nbformat": 4,
 "nbformat_minor": 2
}
